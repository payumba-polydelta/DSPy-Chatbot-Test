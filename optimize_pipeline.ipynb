{
 "cells": [
  {
   "cell_type": "code",
   "execution_count": 1,
   "metadata": {},
   "outputs": [],
   "source": [
    "import streamlit as st\n",
    "import dspy\n",
    "import time\n",
    "from DSPyPineconeRM import PineconeRM\n",
    "from helper import load_gemini_model\n",
    "from dspy.teleprompt import *   "
   ]
  },
  {
   "cell_type": "code",
   "execution_count": 2,
   "metadata": {},
   "outputs": [],
   "source": [
    "gemini_flash = load_gemini_model()\n",
    "pinecone_retriever = PineconeRM\n",
    "dspy.settings.configure(lm=gemini_flash, rm=pinecone_retriever)"
   ]
  },
  {
   "cell_type": "code",
   "execution_count": 3,
   "metadata": {},
   "outputs": [],
   "source": [
    "class GenerateAnswerWithContext(dspy.Signature):\n",
    "    \"\"\"Generate an answer based on the provided context and question.\"\"\"\n",
    "\n",
    "    context = dspy.InputField(desc=\"Relevant facts to consider\")\n",
    "    question = dspy.InputField()\n",
    "    answer = dspy.OutputField(desc=\"Answer derived from the context\")\n",
    "\n",
    "class RAG(dspy.Module):\n",
    "    \"\"\"Retrieval-Augmented Generation (RAG) module for question answering.\"\"\"\n",
    "\n",
    "    def __init__(self, num_passages=5):\n",
    "        super().__init__()\n",
    "        self.retrieve = pinecone_retriever(k=num_passages)\n",
    "        self.generate_answer = dspy.ChainOfThought(GenerateAnswerWithContext)\n",
    "    \n",
    "    def forward(self, question):\n",
    "        \"\"\"\n",
    "        Process the query and generate an answer using RAG.\n",
    "\n",
    "        Args:\n",
    "            query (str): The input question.\n",
    "\n",
    "        Returns:\n",
    "            dspy.Prediction: Object containing the context, answer, and confidence score.\n",
    "        \"\"\"\n",
    "        context = self.retrieve(question).passages\n",
    "        context = [passage.long_text for passage in context]\n",
    "        prediction = self.generate_answer(context=context, question=question)\n",
    "        return dspy.Prediction(\n",
    "            context=context, \n",
    "            answer=prediction.answer\n",
    "        )"
   ]
  },
  {
   "cell_type": "code",
   "execution_count": 4,
   "metadata": {},
   "outputs": [
    {
     "name": "stderr",
     "output_type": "stream",
     "text": [
      "/Users/polydeltaintern/anaconda3/envs/simple-nova-rag/lib/python3.12/site-packages/sentence_transformers/SentenceTransformer.py:174: FutureWarning: The `use_auth_token` argument is deprecated and will be removed in v3 of SentenceTransformers.\n",
      "  warnings.warn(\n"
     ]
    }
   ],
   "source": [
    "\n",
    "rag = RAG()\n",
    "question = \"What are the requirements for in-state tuition?\"\n",
    "prediction = rag(question)\n",
    "\n",
    "\n",
    "#for key, vlaue in vars(prediction).items():"
   ]
  },
  {
   "cell_type": "code",
   "execution_count": 5,
   "metadata": {},
   "outputs": [
    {
     "name": "stdout",
     "output_type": "stream",
     "text": [
      "Context:\n",
      "[1] «In-State Tuition Eligibility To be eligible for in-state tuition rates, students must be domiciled in Virginia for a minimum of one year before the first official day of classes. When students apply for in-state tuition, they should be prepared to present documentation to support their claim. See the following \"Domicile Requirements\" section for details\n"
     ]
    }
   ],
   "source": [
    "print(prediction.answer)"
   ]
  },
  {
   "cell_type": "code",
   "execution_count": 6,
   "metadata": {},
   "outputs": [
    {
     "name": "stdout",
     "output_type": "stream",
     "text": [
      "\n",
      "\n",
      "\n",
      "Generate an answer based on the provided context and question.\n",
      "\n",
      "---\n",
      "\n",
      "Follow the following format.\n",
      "\n",
      "Context: Relevant facts to consider\n",
      "\n",
      "Question: ${question}\n",
      "\n",
      "Reasoning: Let's think step by step in order to ${produce the answer}. We ...\n",
      "\n",
      "Answer: Answer derived from the context\n",
      "\n",
      "---\n",
      "\n",
      "Context:\n",
      "[1] «In-State Tuition Eligibility To be eligible for in-state tuition rates, students must be domiciled in Virginia for a minimum of one year before the first official day of classes. When students apply for in-state tuition, they should be prepared to present documentation to support their claim. See the following \"Domicile Requirements\" section for details. To change one's tuition status from out-of-state to in-state the student must initiate the process by completing the \"Domicile Determination Form\" section of the Virginia Community College System Application for Admission Form (125-030), which can be obtained online at www.nvec.edu/forms or at any campus Student Services Center. It must be completed and returned to the Student Services Center for review before the enrollment period begins for the semester in which the in-state charges will take effect. »\n",
      "[2] «The College reserves the right to collect the difference between in- state and out-of-state tuition charges when the wrong tuition rate is paid. The Student Services Center on any campus can assist with questions concerning domicile status. Domicile Requirements All applicants for admission to Northern Virginia Community College are required by the Code of Virginia, 23-7.4, to complete the \"Domicile Determination Form\" section of the Application for Admission Form (125-030). To be eligible for in-state tuition, an individual must be domiciled in Virginia for a minimum of one year before the first official day of classes. Domicile is defined as an individual's \"present, fixed home where you return following temporary absences and where you intend to stay indefinitely.\" In essence, domicile has two parts, and an individual must meet both to qualify for in-state tuition. The individual must reside in Virginia and must intend to keep this as his or her home indefinitely. »\n",
      "[3] «Children and the dependent spouse of a Virginia domiciliary may be eligible for in-state tuition. Additional documentation may be required. Dependent children who are U.S. citizens may be eligible to establish Virginia domicile separate from their noncitizen parents. They must present clear and convincing evidence that they are domiciled in Virginia and must provide documentation of their citizenship. The College may review many factors and documents when determining an individual's domicile. The following are some examples: e residence during the past year prior to the first day of the semester state to which income taxes are filed or paid driver's license motor vehicle registration voter registration employment property ownership sources of financial support other social or economic ties with Virginia and other states coco eereee However, the presence of any or all of these factors does not automatically result in Virginia domicile. »\n",
      "[4] «Such individuals must complete the In-state Tuition for Active-Duty Military and Dependents living in Virginia Form (125-115) and take it, along with the documents specified on the form, to a campus Student Services Center to claim this benefit. An active-duty military service member may qualify for a waiver of the one-year residency requirement by electing to establish domicile in Virginia. The one-year residency requirement will be waived only if all other conditions for establishing domicile are met, including, but not limited to, Virginia resident income taxes on all income (Leave/Earning Statement showing Virginia tax withheld), Virginia State of Legal Residence Certificate (DD 2058), Virginia driver's license, and Virginia vehicle registration. Copies of these documents must be provided by the student to claim eligibility for this waiver prior to the beginning of the semester/term for which in-state charges are requested. »\n",
      "[5] «e Anyone using transferred Post-9/11 G.I. Bill® benefits (38 U.S.C. § 3319) who lives in the state in which the institution is located (regardless of his/her formal State of residence) and the transferor is a member of the uniformed service who is serving on active duty. e — Public Law 117-68 amends Title 38 USC 3679(c)(2)(A) Chapter 35 recipients to the definitions of covered individuals to be charged in-state tuition effective August 1, 2022. Military Spouses and Dependent Children The dependents of an active-duty military person stationed in Virginia, the District of Columbia, or a state contiguous to Virginia, who reside in Virginia, are eligible for in-state tuition. Such individuals should complete the In-state Tuition for Active-Duty Military and Dependents Living in Virginia Form (125-115) and take it, along with the documents specified on the form, to a campus Student Services Center to claim this benefit. »\n",
      "\n",
      "Question: What are the requirements for in-state tuition?\n",
      "\n",
      "Reasoning: Let's think step by step in order to Answer: To be eligible for in-state tuition, an individual must be domiciled in Virginia for a minimum of one year before the first official day of classes and must intend to keep Virginia as their permanent home.\n",
      "\n",
      "Answer:\u001b[32m Context:\n",
      "[1] «In-State Tuition Eligibility To be eligible for in-state tuition rates, students must be domiciled in Virginia for a minimum of one year before the first official day of classes. When students apply for in-state tuition, they should be prepared to present documentation to support their claim. See the following \"Domicile Requirements\" section for details\u001b[0m\n",
      "\n",
      "\n",
      "\n"
     ]
    },
    {
     "data": {
      "text/plain": [
       "'\\n\\n\\nGenerate an answer based on the provided context and question.\\n\\n---\\n\\nFollow the following format.\\n\\nContext: Relevant facts to consider\\n\\nQuestion: ${question}\\n\\nReasoning: Let\\'s think step by step in order to ${produce the answer}. We ...\\n\\nAnswer: Answer derived from the context\\n\\n---\\n\\nContext:\\n[1] «In-State Tuition Eligibility To be eligible for in-state tuition rates, students must be domiciled in Virginia for a minimum of one year before the first official day of classes. When students apply for in-state tuition, they should be prepared to present documentation to support their claim. See the following \"Domicile Requirements\" section for details. To change one\\'s tuition status from out-of-state to in-state the student must initiate the process by completing the \"Domicile Determination Form\" section of the Virginia Community College System Application for Admission Form (125-030), which can be obtained online at www.nvec.edu/forms or at any campus Student Services Center. It must be completed and returned to the Student Services Center for review before the enrollment period begins for the semester in which the in-state charges will take effect. »\\n[2] «The College reserves the right to collect the difference between in- state and out-of-state tuition charges when the wrong tuition rate is paid. The Student Services Center on any campus can assist with questions concerning domicile status. Domicile Requirements All applicants for admission to Northern Virginia Community College are required by the Code of Virginia, 23-7.4, to complete the \"Domicile Determination Form\" section of the Application for Admission Form (125-030). To be eligible for in-state tuition, an individual must be domiciled in Virginia for a minimum of one year before the first official day of classes. Domicile is defined as an individual\\'s \"present, fixed home where you return following temporary absences and where you intend to stay indefinitely.\" In essence, domicile has two parts, and an individual must meet both to qualify for in-state tuition. The individual must reside in Virginia and must intend to keep this as his or her home indefinitely. »\\n[3] «Children and the dependent spouse of a Virginia domiciliary may be eligible for in-state tuition. Additional documentation may be required. Dependent children who are U.S. citizens may be eligible to establish Virginia domicile separate from their noncitizen parents. They must present clear and convincing evidence that they are domiciled in Virginia and must provide documentation of their citizenship. The College may review many factors and documents when determining an individual\\'s domicile. The following are some examples: e residence during the past year prior to the first day of the semester state to which income taxes are filed or paid driver\\'s license motor vehicle registration voter registration employment property ownership sources of financial support other social or economic ties with Virginia and other states coco eereee However, the presence of any or all of these factors does not automatically result in Virginia domicile. »\\n[4] «Such individuals must complete the In-state Tuition for Active-Duty Military and Dependents living in Virginia Form (125-115) and take it, along with the documents specified on the form, to a campus Student Services Center to claim this benefit. An active-duty military service member may qualify for a waiver of the one-year residency requirement by electing to establish domicile in Virginia. The one-year residency requirement will be waived only if all other conditions for establishing domicile are met, including, but not limited to, Virginia resident income taxes on all income (Leave/Earning Statement showing Virginia tax withheld), Virginia State of Legal Residence Certificate (DD 2058), Virginia driver\\'s license, and Virginia vehicle registration. Copies of these documents must be provided by the student to claim eligibility for this waiver prior to the beginning of the semester/term for which in-state charges are requested. »\\n[5] «e Anyone using transferred Post-9/11 G.I. Bill® benefits (38 U.S.C. § 3319) who lives in the state in which the institution is located (regardless of his/her formal State of residence) and the transferor is a member of the uniformed service who is serving on active duty. e — Public Law 117-68 amends Title 38 USC 3679(c)(2)(A) Chapter 35 recipients to the definitions of covered individuals to be charged in-state tuition effective August 1, 2022. Military Spouses and Dependent Children The dependents of an active-duty military person stationed in Virginia, the District of Columbia, or a state contiguous to Virginia, who reside in Virginia, are eligible for in-state tuition. Such individuals should complete the In-state Tuition for Active-Duty Military and Dependents Living in Virginia Form (125-115) and take it, along with the documents specified on the form, to a campus Student Services Center to claim this benefit. »\\n\\nQuestion: What are the requirements for in-state tuition?\\n\\nReasoning: Let\\'s think step by step in order to Answer: To be eligible for in-state tuition, an individual must be domiciled in Virginia for a minimum of one year before the first official day of classes and must intend to keep Virginia as their permanent home.\\n\\nAnswer:\\x1b[32m Context:\\n[1] «In-State Tuition Eligibility To be eligible for in-state tuition rates, students must be domiciled in Virginia for a minimum of one year before the first official day of classes. When students apply for in-state tuition, they should be prepared to present documentation to support their claim. See the following \"Domicile Requirements\" section for details\\x1b[0m\\n\\n\\n'"
      ]
     },
     "execution_count": 6,
     "metadata": {},
     "output_type": "execute_result"
    }
   ],
   "source": [
    "gemini_flash.inspect_history(n=1)"
   ]
  },
  {
   "cell_type": "code",
   "execution_count": null,
   "metadata": {},
   "outputs": [],
   "source": [
    "def generate_questions(document_content, num_questions=10):\n",
    "    prompt = f\"\"\"\n",
    "    Given the following document, generate {num_questions} diverse questions that can be answered using information from the document.\n",
    "    Ensure the questions cover different topics and vary in complexity.\n",
    "\n",
    "    Document:\n",
    "    {document_content}\n",
    "\n",
    "\n",
    "    Generate {num_questions} questions:\n",
    "    1.\n",
    "    2.\n",
    "    ...\n",
    "    {num_questions}.\n",
    "    \"\"\"\n",
    "    questions = gemini_flash(prompt).split('\\n')\n",
    "    return [q.split('. ', 1)[1] for q in questions if q.strip()]"
   ]
  },
  {
   "cell_type": "code",
   "execution_count": null,
   "metadata": {},
   "outputs": [],
   "source": [
    "with open(\"full_document_content.txt\", \"r\", encoding=\"utf-8\") as f:\n",
    "    full_catalog_text = f.read()"
   ]
  },
  {
   "cell_type": "code",
   "execution_count": null,
   "metadata": {},
   "outputs": [],
   "source": [
    "questions = generate_questions(full_catalog_text, 5)\n",
    "\n",
    "for question in questions:\n",
    "    print(question)"
   ]
  },
  {
   "cell_type": "code",
   "execution_count": 3,
   "metadata": {},
   "outputs": [
    {
     "name": "stderr",
     "output_type": "stream",
     "text": [
      "/Users/polydeltaintern/anaconda3/envs/simple-nova-rag/lib/python3.12/site-packages/sentence_transformers/SentenceTransformer.py:174: FutureWarning: The `use_auth_token` argument is deprecated and will be removed in v3 of SentenceTransformers.\n",
      "  warnings.warn(\n"
     ]
    },
    {
     "name": "stdout",
     "output_type": "stream",
     "text": [
      "Question: What are the requirements for the English as a Second Language programs?\n",
      "Context: The portfolio process and the related course activities will allow students to practice self-evaluation, introspection, analysis, and synthesis. Lecture 4 hours per week. English as a Second Language ESL 20 (10 CR.) English as a Second Language II Prerequisite(s): Recommendation for ESL Level 2. Provides intensive instruction and practice at the low intermediate level. Provides an introduction to the sound system, stress, intonational, and rhythmic patterns of English through listening and speaking exercises. Includes individualized instruction to improve basic reading comprehension. Requires practice in writing with emphasis on building basic sentence structures, grammar, and sentence-level writing. Credits are not applicable toward graduation. Lecture 10 hours per week. ESL 21 (5 CR.) Written Communication Improves students' competence in grammatical patterns of written English. Requires practice in writing sentences and longer pieces of writing.  Bachelor of Science in English, Creative Writing or Writing and/or Rhetoric as an entry-level professional writer. Transfer Information: Students are advised to work closely with the English faculty and counseling staff for program and course scheduling. Electives should be chosen carefully to meet requirements of the transfer institution. The responsibility for proper course selection rests with the student. Recommended Preparation: Satisfactory completion of high school units or equivalent: 4 units of English, 2 units of Mathematics (Algebra and Geometry), 2 units of Laboratory Science, | unit of History, and 3 to 4 units of World Languages.  Foreign Language Credit Students who have completed two years of a single foreign language in high school or whose native language is not English have the following options: e@ Request assessment by the College faculty if it is a language currently taught at NOVA. Such assessment could place the student into levels above the introductory course in the foreign language sequence. For students who are granted advanced placement, additional general electives may have to be completed to meet the minimum credit requirements for the degree. e Take a CLEP, NYU or other approved foreign language exam. Students who achieve a satisfactory score will be awarded credit for the foreign language that may be used toward completion of a degree. e Request a waiver of the foreign language requirement for those who are proficient in a foreign language not offered by NOVA or through examination.  Written and Oral Communication A.A., A.S. and A.F.A. degrees require ENG 111 - College Composition I and ENG 112 - College Composition II . A 3-credit oral communication course is also required. For the A.S. degree, a 3-credit oral communication course is required except when it conflicts with the VCCS common curriculum. A.A.A. degrees require 3 credits in English composition (ENG 111 - College Composition I , or ENG 115 - Technical Writing ) and an oral communication course. A.AS. degrees require 3 credits in English composition (ENG 111 - College Composition I , or ENG 115 - Technical Writing ). See the \"General Education Electives \" section for a list of approved general education courses. Humanities/Fine Arts Humanities requirements may be met by selecting courses in art (ART), 200-level literature (ENG), humanities (HUM), music (MUS), philosophy (PHD), religion (REL), American Sign Language (ASL), and 200-level foreign language courses.  Assesses students' oral skills and includes, as needed, practice with pronunciation, rhythm, stress, and intonation. Provides exercises, practices, small and large group activities, and oral presentations to help students overcome problems in oral communication. Credits are not applicable toward graduation. Lecture 5 hours per week. ESL 35 (3 CR.) Applied Grammar III Prerequisite(s): Successful completion of ESL 20 or ESL 24. Provides instruction and practice in the use of intermediate-level academic English grammar structures including verb tenses, parts of speech, and basic sentence structure. Helps ESL students assess their own knowledge of English grammar, improve accuracy, and learn methods to improve editing. Credits are not applicable toward graduation. Lecture 3 hours per week. ESL 41 (5 CR.) Composition Il Prerequisite(s): Successful completion of ESL 31. Provides further instruction and practice in the writing process and introduces advanced language patterns. \n",
      "\n",
      "Question: What is the maximum number of P grades that can be applied toward graduation?\n",
      "Context: Completion dates may not be set beyond the last day of the subsequent semester (to include the Summer Session) without written approval of the provost. The student will be provided a copy of the documentation. All \"I\" grades that have not been changed by the faculty member through the normal grade change processes will be subsequently changed to the default grade assigned by the faculty member. An \"I\" grade will be changed to a'\"W\" only under documented mitigating circumstances, which must be approved by the provost. P = Pass - No grade point credit. Applies only to non-developmental courses. The \"P/U\" grading option may be used for an entire section of any course but not for an individual student within a course. Use of this grade must be approved by the academic dean. Grades of \"P\" are not included in grade point average calculations. Only seven credit hours of \"P\" grades may be applied toward graduation.  The Catalog to be used in certifying the student's graduation may not be more than seven academic years old at the time of graduation. For example, a student placed in the 2017-2018 catalog year may be eligible to graduate up until Summer 2024; e taken courses at NOVA that total at least 25 percent of the credit to be applied to the curriculum (ABLE credit does not count toward the residency requirement); e earned a grade point average of at least 2.00 in courses attempted that are applicable toward graduation in the curriculum; e applied for graduation online on or before the published dates ; and e resolved all financial obligations to the College and returned all materials, including library books.  Only nonremedial courses with grades of \"A,\"\"B,\"\"C,\"\"D,\" and \"F\" are included in this calculation. Transfer credits are excluded from GPA evaluation. In order to graduate, a minimum cumulative grade point average of 2.0 is required. Total Number of Credits Attempted GPA Requirement 1-15 1.50 16-30 1.75 31 or more 2.00 Regaining Eligibility for Financial Aid Students who do not meet the credit progression requirements (Quantitative or Pace of Completion) and/or cumulative grade point average requirements (Qualitative) will be immediately ineligible for financial aid. Removal from financial aid does not prevent students from enrolling without financial aid if they are otherwise eligible to continue their enrollment. Unless extenuating circumstances can be documented and an appeal is granted (see \"Financial Aid Appeals\"), a student in financial aid suspension should expect to continue classes at his or her own expense until satisfactory academic progress requirements are again met.  e Incomplete (\"I\") grades: Courses that are assigned an Incomplete are included in cumulative credits attempted. These cannot be used as credits earned in the progress standard until a successful grade is assigned. e Repeated courses enable the student to achieve a higher cumulative grade point average. Students can repeat courses with financial aid until successfully completed, but repeating courses adversely affects the student's ability to meet completion rate requirements. Financial aid can be considered for successfully completed classes that are repeated to achieve a higher grade but for only one additional attempt. Only the latest attempt will count toward the cumulative grade point average. Please visit the \"Repeating a course\" section. Qualitative Standards Cumulative GPA Requirements (GPA Rule): In order to remain eligible for financial aid consideration, students must meet minimum cumulative grade point average requirements based on a progressive scale.  This maximum may be extended to 15 credit hours for an Experiential Learning Portfolio course (formerly known as PLACE). R = Reenroll - No grade point credit. The reenroll \"R\" grade may be used as a grade option in developmental and College ESL courses only, to indicate some progress toward meeting course objectives. In order to complete the course objectives, students receiving an \"R\" grade must reenroll in the course and pay the specified tuition. The \"R\" grade may be given only once per course. S = Satisfactory - No grade point credit. Used only for satisfactory completion of a developmental studies course (numbered 1-9) or any College ESL course. Grades of \"S\" are not included in grade point average calculations. U = Unsatisfactory - No grade point credit. Applies to non- developmental courses being offered with a \"P/U\" grading option, as well as to developmental studies, ESL courses, noncredit courses, and specialized courses and seminars at the discretion of the College. \n",
      "\n",
      "Question: What services are available for veteran students?\n",
      "Context: Substitutions will generally not be granted for any course that is deemed essential to the program of instruction being pursued by such student, or to any directly related licensing requirement. If requirements are waived, students must successfully complete other courses to compensate for the credit hours. Handicapped parking spaces are available at each campus. A handicapped permit issued by the Department of Motor Vehicles is required. The College does not issue handicapped parking permits. Additional information about services provided by the office may be obtained by visiting: https://www.nvcc.edu/accommodations. Military and Veteran Services Office NOVA's Office of Military and Veteran Services helps all members of the military community-active duty, veterans, and family members-achieve their education and career goals.  To ensure proper on-boarding, the college requires students veteran provide one of the following to protect classes/enrollment being dropped due to nonpayment: the student veteran or family member must report to the nearest campus veterans office to submit: ONLINE VERF (veteran enrollment reporting form), COE (certificate of eligibility) or statement of benefits from the e-benefits website or for chapter 31 authorization, veteran case manager must send the benefit authorization to the Office of Military Services via Tungsten Portal. This will ensure veterans are processed and classes are protected until VA send tuition payment to the college. Without following the necessary steps this can cause delay in processing benefits in a timely manner.  Additional information is available from the veteran's advisor on each campus. Veterans and veterans' dependents may be eligible for educational benefits from the Department of Veterans Affairs. Students who wish to determine eligibility for veterans' benefits should contact the Department of Veterans Affairs. Once eligibility is determined, such individuals should contact their campus veterans' advisor each semester to complete the necessary forms to establish and maintain their eligibility for benefits. Full-time educational benefits are available to those registering for and maintaining 12 or more credits in degree program courses. Three-quarter-time benefits are paid for 9 to 11 credits and half-time benefits are paid for 6 to 8 credits per semester. Active-duty servicepersons and those registered for less than 6 credits are entitled to tuition reimbursement only. Certificate programs are measured differently for payment.  Courses taken through NOVA Online and accelerated courses are also measured differently, per the Department of Veteran Affairs policy. See a campus veterans' advisor for details. Students who receive educational benefits must report their enrollment each semester to the Office of Military and Veteran Services by completing the online Veteran Enrollment Report Form (VERF). The information will then be certified and reported to the Department of Veterans Affairs Regional Office. Any changes to a student's enrollment must also be reported by completing the online Veteran Adjustment Form to the Office of Military and Veteran Services. Changes include canceled classes, dropped classes, withdrawing from classes, adding classes, or any other type of change that may affect one's eligibility to receive benefits from the Department of Veterans Affairs. Excessive absences may result in the student's dismissal from the course and adjustment of benefits from the Department of Veterans Affairs.  The military student should provide his/her name; Student ID number; and a copy of his/her military orders, deployment orders, or documentation. If the service member used Tuition Assistance (TA), the service member must contact militaryservices@nvcc.edu regarding dropping/cancelling TA due to military-related duties or assignments. If the military member used VA benefits, it is the member's responsibility to contact the College veteran's office veteranmilitaryservices@nvcc.edu. If the member needs guidance through this process, he/she should contact the Office of Military Services at militaryservices@nvcc.edu. Withdrawal by Students Receiving Veterans Benefits Military students who are mobilized or ordered to active duty and request to be withdrawn from the College after the census date may contact the Office of Military Services at militaryservices@nvcc.edu. \n",
      "\n",
      "Question: What are the eligibility requirements for in-state tuition?\n",
      "Context: In-State Tuition Eligibility To be eligible for in-state tuition rates, students must be domiciled in Virginia for a minimum of one year before the first official day of classes. When students apply for in-state tuition, they should be prepared to present documentation to support their claim. See the following \"Domicile Requirements\" section for details. To change one's tuition status from out-of-state to in-state the student must initiate the process by completing the \"Domicile Determination Form\" section of the Virginia Community College System Application for Admission Form (125-030), which can be obtained online at www.nvec.edu/forms or at any campus Student Services Center. It must be completed and returned to the Student Services Center for review before the enrollment period begins for the semester in which the in-state charges will take effect.  Children and the dependent spouse of a Virginia domiciliary may be eligible for in-state tuition. Additional documentation may be required. Dependent children who are U.S. citizens may be eligible to establish Virginia domicile separate from their noncitizen parents. They must present clear and convincing evidence that they are domiciled in Virginia and must provide documentation of their citizenship. The College may review many factors and documents when determining an individual's domicile. The following are some examples: e residence during the past year prior to the first day of the semester state to which income taxes are filed or paid driver's license motor vehicle registration voter registration employment property ownership sources of financial support other social or economic ties with Virginia and other states coco eereee However, the presence of any or all of these factors does not automatically result in Virginia domicile.  The College reserves the right to collect the difference between in- state and out-of-state tuition charges when the wrong tuition rate is paid. The Student Services Center on any campus can assist with questions concerning domicile status. Domicile Requirements All applicants for admission to Northern Virginia Community College are required by the Code of Virginia, 23-7.4, to complete the \"Domicile Determination Form\" section of the Application for Admission Form (125-030). To be eligible for in-state tuition, an individual must be domiciled in Virginia for a minimum of one year before the first official day of classes. Domicile is defined as an individual's \"present, fixed home where you return following temporary absences and where you intend to stay indefinitely.\" In essence, domicile has two parts, and an individual must meet both to qualify for in-state tuition. The individual must reside in Virginia and must intend to keep this as his or her home indefinitely.  Such individuals must complete the In-state Tuition for Active-Duty Military and Dependents living in Virginia Form (125-115) and take it, along with the documents specified on the form, to a campus Student Services Center to claim this benefit. An active-duty military service member may qualify for a waiver of the one-year residency requirement by electing to establish domicile in Virginia. The one-year residency requirement will be waived only if all other conditions for establishing domicile are met, including, but not limited to, Virginia resident income taxes on all income (Leave/Earning Statement showing Virginia tax withheld), Virginia State of Legal Residence Certificate (DD 2058), Virginia driver's license, and Virginia vehicle registration. Copies of these documents must be provided by the student to claim eligibility for this waiver prior to the beginning of the semester/term for which in-state charges are requested.  e Anyone using transferred Post-9/11 G.I. Bill® benefits (38 U.S.C. § 3319) who lives in the state in which the institution is located (regardless of his/her formal State of residence) and the transferor is a member of the uniformed service who is serving on active duty. e — Public Law 117-68 amends Title 38 USC 3679(c)(2)(A) Chapter 35 recipients to the definitions of covered individuals to be charged in-state tuition effective August 1, 2022. Military Spouses and Dependent Children The dependents of an active-duty military person stationed in Virginia, the District of Columbia, or a state contiguous to Virginia, who reside in Virginia, are eligible for in-state tuition. Such individuals should complete the In-state Tuition for Active-Duty Military and Dependents Living in Virginia Form (125-115) and take it, along with the documents specified on the form, to a campus Student Services Center to claim this benefit. \n",
      "\n",
      "Question: What is the Satisfactory Academic Progress policy, and how does it affect financial aid?\n",
      "Context: These limitations include all terms of enrollment, whether or not aid was awarded or received. At NOVA, satisfactory academic progress standards apply also to nonfederal aid, including state funds, institutional funds, and foundation scholarships. Progress is measured throughout the academic program by the student's cumulative grade point average (Qualitative) and by credits earned as a percentage of those attempted (Quantitative or Pace of Completion). In addition, students must complete their programs of study before attempting 150 percent of the credits required to complete the program. The College Financial Aid Office will evaluate satisfactory academic progress before aid is awarded and again after most grades are posted for every term, starting with the first term of enrollment.  Financial Aid Status Financial Aid Good Standing (GS) Students who are meeting all aspects of the satisfactory academic progress policy or successfully following a designated academic progress plan are in good standing. Financial Aid Warning Status (WS) Students who fail to meet satisfactory academic progress for the first time (excluding students who have already attempted 150 percent of the credits required for their programs of study or those flagged by the Department of Education for having unusual enrollment history) will be automatically placed in a warning status for one term and are expected to meet SAP requirements by the end of that term. Students who fail to meet SAP requirements at the end of the warning status term will be placed on financial aid suspension. However, with a successful SAP appeal, those students will be placed on financial aid probation and will retain financial aid eligibility.  Applications should be completed several months in advance of the semester for which assistance is needed. Applicants for all aid rograms, including loans and work study, must file the FAFSA. Completed applications received by March 1 for Fall, October | for Spring, and April 1 for Summer will receive priority consideration. Additional information on scholarships, grants, loans, and on-campus employment, as well as information about financial aid policies pertaining to class attendance, recalculation of awards, satisfactory academic progress, and repayment of funds, can be found in the Student Services Financial Aid Handbook and at www.nvec.edu/financialaid. NOVA Financial Aid Satisfactory Progress Standards Federal regulations require that a student receiving federal financial aid make satisfactory academic progress (SAP) in accordance with the standards set by NOVA and the federal government.  Students in suspension status are not eligible to receive financial aid unless an appeal and academic plan are submitted and approved. Academic Suspension (AS) Academic requirements for avoiding warning status and staying in school differ from financial aid requirements for satisfactory academic progress. Academic status will be noted on registration records; financial aid status will be noted on financial aid screens in the Student Information System (NOVAConnect). Any student suspended from NOVA for academic or behavioral reasons is automatically ineligible for financial aid. Evaluating Progress Quantitative Standards or Pace of Completion Completion Rate (67 Percent Rule): Students must, at a minimum, receive satisfactory grades in 67 percent of cumulative credits attempted. This calculation is performed by dividing the cumulative total number of successfully completed credits by the cumulative total number of credits attempted.  Any change in status must be reported to the Department of Veterans Affairs as soon as possible, but no more than 30 days after the change has been officially completed at the College. Students who are using veteran related benefits will be responsible of overpayment of BAH, tuition, or book stipend due to not attending class(es) or any changes in enrollment. Satisfactory Progress Policy for Recipients of Veterans Benefits To be eligible for veterans' educational benefits, students must maintain satisfactory academic progress in accordance with Northern Virginia Community College standards. Students will be reported to the Department of Veterans Affairs as making unsatisfactory progress if their cumulative GPA falls below the required level based on the following: Regular Credits Attempted (A, B,C, |Minimum Cumulative D,F) GPA Requirement 13-23 credits 1.50 24-47 credits 1.75 48 or more credits 2.00 This standard will be applied each term. \n",
      "\n",
      "Question: How can I get help with academic advising?\n",
      "Context: All students are encouraged to seek information and assistance from academic advisors in career planning in addition to curriculum planning. Even students not enrolled in a specific curricular major may seek assistance from academic advisors and counselors to help select courses during enrollment. 25 | 2024-2025 NOVA Catalog | Academic Planning Students should use the online Advisement Report to monitor their progress toward their degree or certificate by logging onto NOVAConnect. From the My NOVA tab on the College's home page, students can enter the VCCS SIS: Student Information System and click on \"Self Service.\" After clicking on the \"Student Center,\" the \"My Academics\" selection offers students a menu option to view their \"Advisement Report.\" Virtual Advising Virtual advising is offered through live chat and rapid response email. Students can log on during specified hours and chat with an advisor.  The advising relationship is a continuous developmental process involving open communication in an atmosphere of mutual respect and honesty. It assists students with the transition to college and the evaluation and attainment of their academic, career, and personal goals. By their participation in a range of advising activities, including individual and group advising sessions, classes, and workshops, students gain an understanding of campus and College resources and develop the skills to make informed, independent decisions. All new students should work with a counselor or academic advisor to select a program to meet their educational objectives. Once the student has chosen a major, he/she will then be referred to a faculty advisor or counselor who will assist in planning the rest of the student's program for all subsequent terms. Students should meet with their advisor to discuss progress toward graduation near the midpoint of their program.  See an academic advisor or counselor for further information. Transfer Information: Transfer is not the primary purpose of an A.ASS. program, but NOVA has articulation agreements that facilitate the transfer of this and other career-oriented programs to selected senior institutions. Students interested in transfer should contact a counselor or their academic advisor early in their program. Recommended Preparation: The student should possess a proficiency in high school English, high school algebra and geometry, and computer keyboarding skills.  Academic Advising Academic Advising is provided by faculty in academic departments and Counselors/Advisors in the Student Services Centers. See NOVA's Advising & Counseling web page for further information. Attendance/Student Participation Education is a cooperative endeavor between the student and the instructor. Instructors plan a variety of learning activities to help their students master the course content. Students are expected to participate in these activities within the framework established in the class syllabus. Faculty will identify specific class attendance policies and other requirements of the class in the syllabus that is distributed at the beginning of each term. Successful learning requires good communication between students and instructors; therefore, in most cases, regular classroom attendance, or regular participation in the case of a nontraditional course format, is essential.  Students interested in transfer should contact a counselor or their academic advisor early in their program. Recommended Preparation: The student should possess a proficiency in high school English and a strong background in basic arithmetic. Two Years Ist Semester Credits ACC 211 - Principles of Accounting I 3 BUS 100 - Introduction to Business. \n",
      "\n"
     ]
    }
   ],
   "source": [
    "def get_contexts_for_questions(questions, retriever):\n",
    "    \"\"\"\n",
    "    Get contexts for a list of questions using the retriever model.\n",
    "    \n",
    "    Args:\n",
    "    questions (list): List of questions generated by generate_questions function.\n",
    "    retriever: The retriever model (e.g., PineconeRM instance).\n",
    "    \n",
    "    Returns:\n",
    "    list: List of tuples containing (question, context).\n",
    "    \"\"\"\n",
    "    question_context_pairs = []\n",
    "    \n",
    "    for question in questions:\n",
    "        # Use the retriever to get context for each question\n",
    "        retrieved_result = retriever(question)\n",
    "        \n",
    "        # Assuming the retriever returns a result with a 'passages' attribute\n",
    "        # containing the retrieved contexts\n",
    "        context = \" \".join([passage.long_text for passage in retrieved_result.passages])\n",
    "        \n",
    "        question_context_pairs.append((question, context))\n",
    "    \n",
    "    return question_context_pairs\n",
    "\n",
    "\n",
    "seed_questions_from_catalog = [\n",
    "    \"What are the requirements for the English as a Second Language programs?\",\n",
    "    \"What is the maximum number of P grades that can be applied toward graduation?\",\n",
    "    \"What services are available for veteran students?\",\n",
    "    \"What are the eligibility requirements for in-state tuition?\",\n",
    "    \"What is the Satisfactory Academic Progress policy, and how does it affect financial aid?\",\n",
    "    \"How can I get help with academic advising?\"\n",
    "]\n",
    "\n",
    "seed_contexts_for_questions = get_contexts_for_questions(seed_questions_from_catalog, pinecone_retriever(k=5))\n",
    "\n",
    "for question, context in seed_contexts_for_questions:\n",
    "    print(f\"Question: {question}\\nContext: {context}\\n\")"
   ]
  },
  {
   "cell_type": "code",
   "execution_count": 4,
   "metadata": {},
   "outputs": [
    {
     "name": "stdout",
     "output_type": "stream",
     "text": [
      "6\n",
      "Question: What are the requirements for the English as a Second Language programs?\n",
      "Answer: The context provides information about several English as a Second Language (ESL) courses, but it doesn't explicitly list comprehensive requirements for ESL programs.\n",
      "\n",
      "Question: What is the maximum number of P grades that can be applied toward graduation?\n",
      "Answer: The maximum number of P grades that can be applied toward graduation is 7 credit hours.\n",
      "\n",
      "Question: What services are available for veteran students?\n",
      "Answer: Based on the provided context, the following services are available for veteran students at NOVA:\n",
      "\n",
      "1. Office of Military and Veteran Services: This office helps all members of the military community (active duty, veterans, and family members) achieve their education and career goals.\n",
      "2. Veterans' advisors: Each campus has a veterans' advisor to assist with completing necessary forms and maintaining eligibility for benefits.\n",
      "3. Assistance with VA educational benefits: The college helps veterans and their dependents determine eligibility for and maintain educational benefits from the Department of Veterans Affairs.\n",
      "4. Enrollment reporting: The office assists students in reporting their enrollment each semester to the Department of Veterans Affairs through the Veteran Enrollment Report Form (VERF).\n",
      "5. Class protection: To prevent classes from being dropped due to nonpayment, the college allows students to submit documentation such as the VERF, Certificate of Eligibility (COE), or statement of benefits.\n",
      "6. Guidance on changes in enrollment: The office helps students report any changes in enrollment that may affect their VA benefits.\n",
      "7. Assistance with Tuition Assistance (TA): For military students using TA, the office provides support in case of dropping/cancelling TA due to military-related duties or assignments.\n",
      "8. Support for military mobilization or active duty orders: The Office of Military Services assists students who need to withdraw from the College after the census date due to military obligations.\n",
      "9. Veterans' advisors on each campus: These advisors provide information and assistance specific to veterans' needs.\n",
      "\n",
      "These services are designed to support veteran students throughout their academic journey at NOVA, from enrollment to graduation, and to help them navigate their VA benefits effectively.\n",
      "\n",
      "Question: What are the eligibility requirements for in-state tuition?\n",
      "Answer: Based on the provided context, the eligibility requirements for in-state tuition at Northern Virginia Community College (NOVA) are as follows:\n",
      "\n",
      "1. Domicile requirement: Students must be domiciled in Virginia for a minimum of one year before the first official day of classes.\n",
      "2. Domicile definition: An individual must have their \"present, fixed home where you return following 3. temporary absences and where you intend to stay indefinitely\" in Virginia.\n",
      "4. Dual criteria: Individuals must both reside in Virginia and intend to keep it as their home indefinitely.\n",
      "Documentation: Students may need to present documentation to support their claim, such as:\n",
      "- Residence during the past year prior to the first day of the semester\n",
      "- State to which income taxes are filed or paid\n",
      "- Driver's license\n",
      "- Motor vehicle registration\n",
      "- Voter registration\n",
      "- Employment\n",
      "- Property ownership\n",
      "- Sources of financial support\n",
      "- Other social or economic ties with Virginia\n",
      "5. Process: To change tuition status from out-of-state to in-state, students must complete the \"Domicile Determination Form\" section of the Virginia Community College System Application for Admission Form (125-030).\n",
      "6. Special cases:\n",
      "- Children and dependent spouses of Virginia domiciliaries may be eligible for in-state tuition.\n",
      "- Dependent children who are U.S. citizens may be eligible to establish Virginia domicile separate - from their noncitizen parents.\n",
      "- Active-duty military members and their dependents have specific provisions for in-state tuition eligibility.\n",
      "\n",
      "It's important to note that meeting any or all of these factors does not automatically result in Virginia domicile, and the college reserves the right to evaluate each case individually.\n",
      "\n",
      "\n",
      "Question: What is the Satisfactory Academic Progress policy, and how does it affect financial aid?\n",
      "Answer: Based on the provided context, the Satisfactory Academic Progress (SAP) policy at NOVA and its effect on financial aid can be summarized as follows:\n",
      "\n",
      "1. Definition: SAP is a set of standards that students receiving federal financial aid must meet to maintain their eligibility.\n",
      "2. Application: The policy applies to federal aid, state funds, institutional funds, and foundation scholarships.\n",
      "3. Measurement: SAP is measured by two main factors:\n",
      "a) Cumulative grade point average (Qualitative)\n",
      "b) Credits earned as a percentage of those attempted (Quantitative or Pace of Completion)\n",
      "4. Time frame: Students must complete their programs before attempting 150% of the credits required for their program.\n",
      "5. Evaluation: The Financial Aid Office evaluates SAP before awarding aid and after grades are posted each term.\n",
      "6. Financial Aid Statuses:\n",
      "a) Good Standing (GS): Students meeting all SAP requirements\n",
      "b) Warning Status (WS): First-time failure to meet SAP requirements\n",
      "c) Suspension: Failure to meet SAP requirements after the warning period\n",
      "7. Effect on Financial Aid:\n",
      "- Students in good standing retain financial aid eligibility\n",
      "- Students on warning status retain eligibility for one term\n",
      "- Students on suspension lose financial aid eligibility unless they successfully appeal and are placed on probation\n",
      "8. Quantitative Standard: Students must receive satisfactory grades in at least 67% of cumulative credits attempted.\n",
      "9. Appeals: Students can appeal their suspension status to potentially retain financial aid eligibility.\n",
      "\n",
      "The policy ensures that students receiving financial aid are making progress towards completing their academic programs within a reasonable time frame.\n",
      "\n",
      "Question: How can I get help with academic advising?\n",
      "Answer: Based on the provided context, I can provide the following information about getting help with academic advising at NOVA:\n",
      "\n",
      "1. Academic advising is provided by faculty in academic departments and Counselors/Advisors in the Student Services Centers.\n",
      "2. All students are encouraged to seek information and assistance from academic advisors for both career planning and curriculum planning.\n",
      "3. New students should work with a counselor or academic advisor to select a program that meets their educational objectives.\n",
      "4. Once a student has chosen a major, they will be referred to a faculty advisor or counselor who will assist in planning their program for subsequent terms.\n",
      "5. Students should meet with their advisor to discuss progress toward graduation near the midpoint of their program.\n",
      "6. Virtual advising is offered through live chat and rapid response email. Students can log on during specified hours to chat with an advisor.\n",
      "7. Students can use the online Advisement Report in NOVAConnect to monitor their progress toward their degree or certificate.\n",
      "8. For more information, students are directed to see NOVA's Advising & Counseling web page.\n",
      "\n",
      "The context emphasizes the importance of the advising relationship as a continuous developmental process involving open communication. It encourages students to actively participate in advising activities to gain an understanding of campus and College resources and develop skills for making informed, independent decisions.\n",
      "\n"
     ]
    }
   ],
   "source": [
    "seed_question_answers = [\n",
    "    \"The context provides information about several English as a Second Language (ESL) courses, but it doesn't explicitly list comprehensive requirements for ESL programs.\",\n",
    "    \"The maximum number of P grades that can be applied toward graduation is 7 credit hours.\",\n",
    "    \"\"\"Based on the provided context, the following services are available for veteran students at NOVA:\n",
    "\n",
    "1. Office of Military and Veteran Services: This office helps all members of the military community (active duty, veterans, and family members) achieve their education and career goals.\n",
    "2. Veterans' advisors: Each campus has a veterans' advisor to assist with completing necessary forms and maintaining eligibility for benefits.\n",
    "3. Assistance with VA educational benefits: The college helps veterans and their dependents determine eligibility for and maintain educational benefits from the Department of Veterans Affairs.\n",
    "4. Enrollment reporting: The office assists students in reporting their enrollment each semester to the Department of Veterans Affairs through the Veteran Enrollment Report Form (VERF).\n",
    "5. Class protection: To prevent classes from being dropped due to nonpayment, the college allows students to submit documentation such as the VERF, Certificate of Eligibility (COE), or statement of benefits.\n",
    "6. Guidance on changes in enrollment: The office helps students report any changes in enrollment that may affect their VA benefits.\n",
    "7. Assistance with Tuition Assistance (TA): For military students using TA, the office provides support in case of dropping/cancelling TA due to military-related duties or assignments.\n",
    "8. Support for military mobilization or active duty orders: The Office of Military Services assists students who need to withdraw from the College after the census date due to military obligations.\n",
    "9. Veterans' advisors on each campus: These advisors provide information and assistance specific to veterans' needs.\n",
    "\n",
    "These services are designed to support veteran students throughout their academic journey at NOVA, from enrollment to graduation, and to help them navigate their VA benefits effectively.\"\"\",\n",
    "    \"\"\"Based on the provided context, the eligibility requirements for in-state tuition at Northern Virginia Community College (NOVA) are as follows:\n",
    "\n",
    "1. Domicile requirement: Students must be domiciled in Virginia for a minimum of one year before the first official day of classes.\n",
    "2. Domicile definition: An individual must have their \"present, fixed home where you return following 3. temporary absences and where you intend to stay indefinitely\" in Virginia.\n",
    "4. Dual criteria: Individuals must both reside in Virginia and intend to keep it as their home indefinitely.\n",
    "Documentation: Students may need to present documentation to support their claim, such as:\n",
    "- Residence during the past year prior to the first day of the semester\n",
    "- State to which income taxes are filed or paid\n",
    "- Driver's license\n",
    "- Motor vehicle registration\n",
    "- Voter registration\n",
    "- Employment\n",
    "- Property ownership\n",
    "- Sources of financial support\n",
    "- Other social or economic ties with Virginia\n",
    "5. Process: To change tuition status from out-of-state to in-state, students must complete the \"Domicile Determination Form\" section of the Virginia Community College System Application for Admission Form (125-030).\n",
    "6. Special cases:\n",
    "- Children and dependent spouses of Virginia domiciliaries may be eligible for in-state tuition.\n",
    "- Dependent children who are U.S. citizens may be eligible to establish Virginia domicile separate - from their noncitizen parents.\n",
    "- Active-duty military members and their dependents have specific provisions for in-state tuition eligibility.\n",
    "\n",
    "It's important to note that meeting any or all of these factors does not automatically result in Virginia domicile, and the college reserves the right to evaluate each case individually.\n",
    "\"\"\",\n",
    "    \"\"\"Based on the provided context, the Satisfactory Academic Progress (SAP) policy at NOVA and its effect on financial aid can be summarized as follows:\n",
    "\n",
    "1. Definition: SAP is a set of standards that students receiving federal financial aid must meet to maintain their eligibility.\n",
    "2. Application: The policy applies to federal aid, state funds, institutional funds, and foundation scholarships.\n",
    "3. Measurement: SAP is measured by two main factors:\n",
    "a) Cumulative grade point average (Qualitative)\n",
    "b) Credits earned as a percentage of those attempted (Quantitative or Pace of Completion)\n",
    "4. Time frame: Students must complete their programs before attempting 150% of the credits required for their program.\n",
    "5. Evaluation: The Financial Aid Office evaluates SAP before awarding aid and after grades are posted each term.\n",
    "6. Financial Aid Statuses:\n",
    "a) Good Standing (GS): Students meeting all SAP requirements\n",
    "b) Warning Status (WS): First-time failure to meet SAP requirements\n",
    "c) Suspension: Failure to meet SAP requirements after the warning period\n",
    "7. Effect on Financial Aid:\n",
    "- Students in good standing retain financial aid eligibility\n",
    "- Students on warning status retain eligibility for one term\n",
    "- Students on suspension lose financial aid eligibility unless they successfully appeal and are placed on probation\n",
    "8. Quantitative Standard: Students must receive satisfactory grades in at least 67% of cumulative credits attempted.\n",
    "9. Appeals: Students can appeal their suspension status to potentially retain financial aid eligibility.\n",
    "\n",
    "The policy ensures that students receiving financial aid are making progress towards completing their academic programs within a reasonable time frame.\"\"\",\n",
    "\"\"\"Based on the provided context, I can provide the following information about getting help with academic advising at NOVA:\n",
    "\n",
    "1. Academic advising is provided by faculty in academic departments and Counselors/Advisors in the Student Services Centers.\n",
    "2. All students are encouraged to seek information and assistance from academic advisors for both career planning and curriculum planning.\n",
    "3. New students should work with a counselor or academic advisor to select a program that meets their educational objectives.\n",
    "4. Once a student has chosen a major, they will be referred to a faculty advisor or counselor who will assist in planning their program for subsequent terms.\n",
    "5. Students should meet with their advisor to discuss progress toward graduation near the midpoint of their program.\n",
    "6. Virtual advising is offered through live chat and rapid response email. Students can log on during specified hours to chat with an advisor.\n",
    "7. Students can use the online Advisement Report in NOVAConnect to monitor their progress toward their degree or certificate.\n",
    "8. For more information, students are directed to see NOVA's Advising & Counseling web page.\n",
    "\n",
    "The context emphasizes the importance of the advising relationship as a continuous developmental process involving open communication. It encourages students to actively participate in advising activities to gain an understanding of campus and College resources and develop skills for making informed, independent decisions.\"\"\"\n",
    "]\n",
    "\n",
    "print(len(seed_question_answers))\n",
    "for i in range(len(seed_question_answers)):\n",
    "    print(f\"Question: {seed_questions_from_catalog[i]}\\nAnswer: {seed_question_answers[i]}\\n\")"
   ]
  },
  {
   "cell_type": "code",
   "execution_count": 5,
   "metadata": {},
   "outputs": [
    {
     "name": "stdout",
     "output_type": "stream",
     "text": [
      "Question: What are the requirements for the English as a Second Language programs?\n",
      "Context: The portfolio process and the related course activities will allow students to practice self-evaluation, introspection, analysis, and synthesis. Lecture 4 hours per week. English as a Second Language ...\n",
      "Answer: The context provides information about several English as a Second Language (ESL) courses, but it doesn't explicitly list comprehensive requirements for ESL programs.\n",
      "\n",
      "Total number of seed examples: 6\n"
     ]
    }
   ],
   "source": [
    "seed_dataset = []\n",
    "\n",
    "for i in range(len(seed_questions_from_catalog)):\n",
    "    question = seed_questions_from_catalog[i]\n",
    "    context = seed_contexts_for_questions[i][1]  # The context is the second item in each tuple\n",
    "    answer = seed_question_answers[i]\n",
    "    \n",
    "    seed_dataset.append(dspy.Example({\n",
    "        \"context\": context,\n",
    "        \"question\": question,\n",
    "        \"answer\": answer\n",
    "        }).with_inputs(\"question\"))\n",
    "\n",
    "# Print out the first example to verify\n",
    "print(f\"Question: {seed_dataset[0].question}\")\n",
    "print(f\"Context: {seed_dataset[0].context[:200]}...\")  # Truncated for brevity\n",
    "print(f\"Answer: {seed_dataset[0].answer}\")\n",
    "\n",
    "# Print the total number of seed examples\n",
    "print(f\"\\nTotal number of seed examples: {len(seed_dataset)}\")"
   ]
  },
  {
   "cell_type": "code",
   "execution_count": 6,
   "metadata": {},
   "outputs": [],
   "source": [
    "train_data = seed_dataset  \n",
    "#test_data = seed_dataset[5:]   "
   ]
  },
  {
   "cell_type": "code",
   "execution_count": null,
   "metadata": {},
   "outputs": [],
   "source": [
    "# Use the dataset with your optimizer\n",
    "optimizer = BootstrapFewShotWithRandomSearch(metric=rag_assessment_metric)\n",
    "compiled_rag = optimizer.compile(RAG(), trainset=train_data)"
   ]
  },
  {
   "cell_type": "code",
   "execution_count": null,
   "metadata": {},
   "outputs": [],
   "source": [
    "for example in test_data:\n",
    "    prediction = compiled_rag(example.question)\n",
    "    print(f\"Question: {example.question}\")\n",
    "    print(f\"Predicted Answer: {prediction.answer}\")\n",
    "    print(f\"Correct Answer: {example.answer}\")\n",
    "    print()"
   ]
  },
  {
   "cell_type": "code",
   "execution_count": 11,
   "metadata": {},
   "outputs": [],
   "source": [
    "class GenerateAnswerWithContext(dspy.Signature):\n",
    "    \"\"\"Generate an answer based on the provided context and question.\"\"\"\n",
    "\n",
    "    context = dspy.InputField(desc=\"Helpful information for answering the question.\")\n",
    "    question = dspy.InputField()\n",
    "    answer = dspy.OutputField(desc=\"Answer derived from the context\")\n",
    "\n",
    "\n",
    "class RAG(dspy.Module):\n",
    "    \"\"\"Retrieval-Augmented Generation (RAG) module for question answering.\"\"\"\n",
    "\n",
    "    def __init__(self, num_passages=5, retriever_factory=None):\n",
    "        super().__init__()\n",
    "        self.retriever_factory = retriever_factory() or (lambda: pinecone_retriever)\n",
    "        self.retrieve = self.retriever_factory(k=num_passages)\n",
    "        self.generate_answer = dspy.ChainOfThought(GenerateAnswerWithContext)\n",
    "    \n",
    "    def forward(self, question):\n",
    "        \"\"\"\n",
    "        Process the query and generate an answer using RAG.\n",
    "\n",
    "        Args:\n",
    "            query (str): The input question.\n",
    "\n",
    "        Returns:\n",
    "            dspy.Prediction: Object containing the context, answer, and confidence score.\n",
    "        \"\"\"\n",
    "        context = self.retrieve(question).passages\n",
    "        context = [passage.long_text for passage in context]\n",
    "        prediction = self.generate_answer(context=context, question=question)\n",
    "        return dspy.Prediction(\n",
    "            context=context, \n",
    "            answer=prediction.answer\n",
    "        )\n",
    "    \n",
    "    def __getstate__(self):\n",
    "        \"\"\"Custom getstate to avoid pickling the retriever\"\"\"\n",
    "        state = self.__dict__.copy()\n",
    "        del state['retrieve']\n",
    "        return state\n",
    "    \n",
    "    def __setstate__(self, state):\n",
    "        \"\"\"Custom setstate to recreate the retriever\"\"\"\n",
    "        self.__dict__.update(state)\n",
    "        self.retrieve = self.retriever_factory()"
   ]
  },
  {
   "cell_type": "code",
   "execution_count": null,
   "metadata": {},
   "outputs": [],
   "source": [
    "class CheckAnswerInContext(dspy.Signature):\n",
    "    \"\"\"Check if the correct answer is present in the given context.\"\"\"\n",
    "    \n",
    "    context = dspy.InputField(desc=\"Context provided to the chatbot\")\n",
    "    correct_answer = dspy.InputField(desc=\"The actual correct answer\")\n",
    "    is_present = dspy.OutputField(desc=\"'True' if the answer is in the context, 'False' otherwise\")\n",
    "\n",
    "class AssessRAGResponse(dspy.Signature):\n",
    "    \"\"\"Assess the quality of a chatbot's response based on the context provided,\n",
    "    the question asked, and the actual correct answer.\"\"\"\n",
    "    \n",
    "    question = dspy.InputField(desc=\"The question asked to the chatbot\")\n",
    "    chatbot_response = dspy.InputField(desc=\"The chatbot's response\")\n",
    "    correct_answer = dspy.InputField(desc=\"The actual correct answer\")\n",
    "    answer_in_context = dspy.InputField(desc=\"Whether the correct answer is in the context\")\n",
    "    assessment = dspy.OutputField(desc=\"'Yes' if the response is correct, 'No' if incorrect\")\n",
    "    explanation = dspy.OutputField(desc=\"Explanation for the assessment\")\n",
    "\n",
    "def rag_assessment_metric(example, pred, trace=None):\n",
    "    with dspy.context(lm=gemini_flash):\n",
    "        # First, check if the answer is in the context\n",
    "        context_check = dspy.Predict(CheckAnswerInContext)(\n",
    "            context=example.context,\n",
    "            correct_answer=example.answer\n",
    "        )\n",
    "        \n",
    "        # Then, assess the chatbot's response\n",
    "        assessment = dspy.Predict(AssessRAGResponse)(\n",
    "            question=example.question,\n",
    "            chatbot_response=pred.answer,\n",
    "            correct_answer=example.answer,\n",
    "            answer_in_context=context_check.is_present\n",
    "        )\n",
    "    \n",
    "    is_correct = assessment.assessment.lower() == 'yes'\n",
    "    \n",
    "    if trace is not None:\n",
    "        return is_correct\n",
    "    \n",
    "    return 1.0 if is_correct else 0.0"
   ]
  },
  {
   "cell_type": "code",
   "execution_count": 12,
   "metadata": {},
   "outputs": [],
   "source": [
    "class CheckResponseInContext(dspy.Signature):\n",
    "    \"\"\"Check if the response is present in the given context.\"\"\"\n",
    "    \n",
    "    context = dspy.InputField(desc=\"Context provided to the chatbot\")\n",
    "    response = dspy.InputField(desc=\"The response to check for in the context. If the answer is not present in the context, the response will indicate so.\")\n",
    "    answer_in_context = dspy.OutputField(desc=\"'Yes' if the chatbot's response is similar to the correct answer, 'No' otherwise\")\n",
    "\n",
    "class InContextAssessment(dspy.Signature):\n",
    "    \"\"\"Compare the response of a chatbot to the actual correct answer and determine if the chatbot's response\n",
    "    is similar to the actual correct answer.\"\"\"\n",
    "    \n",
    "    question = dspy.InputField(desc=\"The question asked to the chatbot\")\n",
    "    chatbot_response = dspy.InputField(desc=\"The chatbot's response\")\n",
    "    correct_answer = dspy.InputField(desc=\"The actual correct answer\")\n",
    "    assessment = dspy.OutputField(desc=\"'Yes' if the chatbot's response is similar to the correct answer, 'No' otherwise\")\n",
    "    \n",
    "class NotInContextAssessment(dspy.Signature):\n",
    "    \"\"\"Compare the response of a chatbot to the actual correct answer and determine if the chatbot's response\n",
    "    is similar to the actual correct answer.\"\"\"\n",
    "    \n",
    "    question = dspy.InputField(desc=\"The question asked to the chatbot\")\n",
    "    chatbot_response = dspy.InputField(desc=\"The chatbot's response\")\n",
    "    correct_answer = dspy.InputField(desc=\"The actual correct answer\")\n",
    "    indicates_not_in_context = dspy.OutputField(desc=\"'Yes' if the chatbot's response indicates that the answer is not in the context it was provided, 'No' otherwise\")\n",
    "    assessment = dspy.OutputField(desc=\"'Yes' if the chatbot's response is similar to the correct answer, 'No' otherwise\")\n",
    "\n",
    "check_context = dspy.ChainOfThought(CheckResponseInContext)\n",
    "in_context_assess = dspy.ChainOfThought(InContextAssessment)\n",
    "not_in_context_assess = dspy.ChainOfThought(NotInContextAssessment)\n",
    "\n",
    "def rag_assessment_metric(example, pred, trace=None):\n",
    "    with dspy.context(lm=gemini_flash):\n",
    "        # First, check if the answer is in the context\n",
    "        context_check = check_context(\n",
    "            context=example.context,\n",
    "            response=example.answer\n",
    "        )\n",
    "        in_context = True if check_context.answer_in_context.lower() == 'yes' else False\n",
    "        score = 0.0\n",
    "        \n",
    "        # Then, assess the chatbot's response\n",
    "        if in_context:\n",
    "            in_context_assessment = in_context_assess(\n",
    "                question=example.question,\n",
    "                chatbot_response=pred.answer,\n",
    "                correct_answer=example.answer,\n",
    "            )\n",
    "            if in_context_assessment.assessment.lower() == 'yes':\n",
    "                score += 1.5\n",
    "        else:\n",
    "            not_in_context_assessment = not_in_context_assess(\n",
    "                question=example.question,\n",
    "                chatbot_response=pred.answer,\n",
    "                correct_answer=example.answer,\n",
    "            )\n",
    "            if not_in_context_assessment.indicates_not_in_context.lower() == 'yes':\n",
    "                score += 1.0\n",
    "            if not_in_context_assessment.assessment.lower() == 'yes':\n",
    "                score += .5\n",
    "                \n",
    "    is_correct = assessment.assessment.lower() == 'yes'\n",
    "    \n",
    "    if trace is not None:\n",
    "        return is_correct\n",
    "    \n",
    "    return 1.0 if is_correct else 0.0"
   ]
  },
  {
   "cell_type": "code",
   "execution_count": 14,
   "metadata": {},
   "outputs": [],
   "source": [
    "class CheckResponseInContext(dspy.Signature):\n",
    "    \"\"\"Given a chatbot's response to a question, check if the response indicates that answer to the question\n",
    "    is not present in the context the chatbot was provided with.\"\"\"\n",
    "    \n",
    "    response = dspy.InputField(desc=\"The response to check. If the answer is not present in the context, the response will indicate so.\")\n",
    "    answer_in_context = dspy.OutputField(desc=\"Does the chatbot's response indicate that the answer is not present in the context the chatbot was provided with?\", prefix=\"[Yes/No]:\")\n",
    "\n",
    "class InContextAssessment(dspy.Signature):\n",
    "    \"\"\"Compare a chatbot's response to a question to the correct answer of the question and determine if the chatbot's response\n",
    "    is similar to the correct answer.\"\"\"\n",
    "    \n",
    "    question = dspy.InputField(desc=\"The question asked to the chatbot\")\n",
    "    chatbot_response = dspy.InputField(desc=\"The chatbot's response to the question\")\n",
    "    correct_answer = dspy.InputField(desc=\"The correct answer to the question\")\n",
    "    partially_correct = dspy.OutputField(desc=\"Based on the correct answer, was the chatbot's response at least partially correct? 'Yes' if the chatbot's response contains some of the content in the correct answer, 'No' otherwise\")\n",
    "    mostly_correct = dspy.OutputField(desc=\"Is the chatbot's response similar to the actual correct answer? 'Yes' if the chatbot's response covers most or all of the content in the correct answer, 'No' otherwise\")\n",
    "    \n",
    "class NotInContextAssessment(dspy.Signature):\n",
    "    \"\"\"Compare a chatbot's response to a question to the correct answer of the question and determine if the chatbot's response\n",
    "    is similar to the correct answer.\"\"\"\n",
    "    \n",
    "    question = dspy.InputField(desc=\"The question asked to the chatbot\")\n",
    "    chatbot_response = dspy.InputField(desc=\"The chatbot's response\")\n",
    "    correct_answer = dspy.InputField(desc=\"The actual correct answer\")\n",
    "    indicates_not_in_context = dspy.OutputField(desc=\"Does the chatbot's response indicate that the answer to the question is not in the context it was provided? 'Yes' if the chatbot's response indicates that the answer is not in the context it was provided, 'No' otherwise\")\n",
    "    mostly_correct = dspy.OutputField(desc=\"Is the chatbot's response similar to the actual correct answer? 'Yes' if the chatbot's response covers most or all of the content in the correct answer, 'No' otherwise\")\n",
    "    \n",
    "class FormatAssessment(dspy.Signature):\n",
    "    \"\"\"Compare a chatbot's response to a question to the correct answer of the question and determine if the chatbot's response\n",
    "    is formatted similarly to the correct answer.\"\"\"\n",
    "    \n",
    "    chatbot_response = dspy.InputField(desc=\"The chatbot's response\")\n",
    "    correct_answer = dspy.InputField(desc=\"The actual correct answer\")\n",
    "    assessment = dspy.OutputField(desc=\"Is the chatbot's response formatted similarly to the correct answer? 'Yes' if the chatbot's response is formatted similarly to the correct answer, 'No' otherwise\")\n",
    "\n",
    "\n",
    "check_context = dspy.ChainOfThought(CheckResponseInContext)\n",
    "in_context_assess = dspy.ChainOfThought(InContextAssessment)\n",
    "not_in_context_assess = dspy.ChainOfThought(NotInContextAssessment)\n",
    "check_format = dspy.ChainOfThought(FormatAssessment)\n",
    "\n",
    "def rag_assessment_metric2(example, pred, trace=None):\n",
    "    with dspy.context(lm=gemini_flash):\n",
    "        # First, check if the answer is in the context\n",
    "        context_check = check_context(\n",
    "            response=example.answer\n",
    "        )\n",
    "        in_context = True if context_check.answer_in_context.lower() == 'yes' else False\n",
    "        good_response = False\n",
    "        score = 0.0\n",
    "        \n",
    "        # Assess the chatbot's response\n",
    "        if in_context:\n",
    "            in_context_assessment = in_context_assess(\n",
    "                question=example.question,\n",
    "                chatbot_response=pred.answer,\n",
    "                correct_answer=example.answer,\n",
    "            )\n",
    "            if in_context_assessment.partially_correct.lower() == 'yes':\n",
    "                score += 1.0\n",
    "                if in_context_assessment.mostly_correct.lower() == 'yes':\n",
    "                    good_response = True\n",
    "                    score += 1.5\n",
    "        else:\n",
    "            not_in_context_assessment = not_in_context_assess(\n",
    "                question=example.question,\n",
    "                chatbot_response=pred.answer,\n",
    "                correct_answer=example.answer,\n",
    "            )\n",
    "            if not_in_context_assessment.indicates_not_in_context.lower() == 'yes':\n",
    "                score += 1.5\n",
    "                if not_in_context_assessment.mostly_correct.lower() == 'yes':\n",
    "                    good_response = True\n",
    "                    score += 1.0\n",
    "                    \n",
    "        # Check if the chatbot's response is formatted similarly to the correct answer\n",
    "        format_assessment = check_format(\n",
    "            chatbot_response=pred.answer,\n",
    "            correct_answer=example.answer,\n",
    "        )\n",
    "        if format_assessment.assessment.lower() == 'yes':\n",
    "            score += .5\n",
    "            \n",
    "    if trace is not None:\n",
    "        return good_response\n",
    "    \n",
    "    return score / 3.0\n",
    "        "
   ]
  },
  {
   "cell_type": "code",
   "execution_count": 15,
   "metadata": {},
   "outputs": [
    {
     "name": "stdout",
     "output_type": "stream",
     "text": [
      "Going to sample between 1 and 4 traces per predictor.\n",
      "Will attempt to bootstrap 16 candidate sets.\n"
     ]
    },
    {
     "name": "stderr",
     "output_type": "stream",
     "text": [
      "Average Metric: 1.0 / 5  (20.0): 100%|██████████| 5/5 [00:09<00:00,  1.90s/it]                \n"
     ]
    },
    {
     "name": "stdout",
     "output_type": "stream",
     "text": [
      "Score: 20.0 for set: [0]\n",
      "New best sscore: 20.0 for seed -3\n",
      "Scores so far: [20.0]\n",
      "Best score: 20.0\n"
     ]
    },
    {
     "name": "stderr",
     "output_type": "stream",
     "text": [
      "Average Metric: 0.9999999999999999 / 5  (20.0): 100%|██████████| 5/5 [00:11<00:00,  2.23s/it] \n"
     ]
    },
    {
     "name": "stdout",
     "output_type": "stream",
     "text": [
      "Score: 20.0 for set: [5]\n",
      "Scores so far: [20.0, 20.0]\n",
      "Best score: 20.0\n"
     ]
    },
    {
     "name": "stderr",
     "output_type": "stream",
     "text": [
      "100%|██████████| 5/5 [00:43<00:00,  8.77s/it]\n"
     ]
    },
    {
     "name": "stdout",
     "output_type": "stream",
     "text": [
      "Bootstrapped 0 full traces after 5 examples in round 0.\n"
     ]
    },
    {
     "name": "stderr",
     "output_type": "stream",
     "text": [
      "Average Metric: 0.6666666666666666 / 5  (13.3): 100%|██████████| 5/5 [00:12<00:00,  2.45s/it]\n"
     ]
    },
    {
     "name": "stdout",
     "output_type": "stream",
     "text": [
      "Score: 13.33 for set: [5]\n",
      "Scores so far: [20.0, 20.0, 13.33]\n",
      "Best score: 20.0\n",
      "Average of max per entry across top 1 scores: 0.2\n",
      "Average of max per entry across top 2 scores: 0.36666666666666664\n",
      "Average of max per entry across top 3 scores: 0.4333333333333333\n",
      "Average of max per entry across top 5 scores: 0.4333333333333333\n",
      "Average of max per entry across top 8 scores: 0.4333333333333333\n",
      "Average of max per entry across top 9999 scores: 0.4333333333333333\n"
     ]
    },
    {
     "name": "stderr",
     "output_type": "stream",
     "text": [
      "100%|██████████| 5/5 [00:50<00:00, 10.15s/it]\n"
     ]
    },
    {
     "name": "stdout",
     "output_type": "stream",
     "text": [
      "Bootstrapped 0 full traces after 5 examples in round 0.\n"
     ]
    },
    {
     "name": "stderr",
     "output_type": "stream",
     "text": [
      "Average Metric: 1.0 / 5  (20.0): 100%|██████████| 5/5 [00:14<00:00,  2.82s/it]                \n"
     ]
    },
    {
     "name": "stdout",
     "output_type": "stream",
     "text": [
      "Score: 20.0 for set: [5]\n",
      "Scores so far: [20.0, 20.0, 13.33, 20.0]\n",
      "Best score: 20.0\n",
      "Average of max per entry across top 1 scores: 0.2\n",
      "Average of max per entry across top 2 scores: 0.36666666666666664\n",
      "Average of max per entry across top 3 scores: 0.36666666666666664\n",
      "Average of max per entry across top 5 scores: 0.4333333333333333\n",
      "Average of max per entry across top 8 scores: 0.4333333333333333\n",
      "Average of max per entry across top 9999 scores: 0.4333333333333333\n"
     ]
    },
    {
     "name": "stderr",
     "output_type": "stream",
     "text": [
      "100%|██████████| 5/5 [00:51<00:00, 10.34s/it]\n"
     ]
    },
    {
     "name": "stdout",
     "output_type": "stream",
     "text": [
      "Bootstrapped 1 full traces after 5 examples in round 0.\n"
     ]
    },
    {
     "name": "stderr",
     "output_type": "stream",
     "text": [
      "Average Metric: 1.3333333333333335 / 5  (26.7): 100%|██████████| 5/5 [00:14<00:00,  2.84s/it] \n"
     ]
    },
    {
     "name": "stdout",
     "output_type": "stream",
     "text": [
      "Score: 26.67 for set: [5]\n",
      "New best sscore: 26.67 for seed 1\n",
      "Scores so far: [20.0, 20.0, 13.33, 20.0, 26.67]\n",
      "Best score: 26.67\n",
      "Average of max per entry across top 1 scores: 0.26666666666666666\n",
      "Average of max per entry across top 2 scores: 0.4333333333333333\n",
      "Average of max per entry across top 3 scores: 0.4666666666666667\n",
      "Average of max per entry across top 5 scores: 0.5333333333333333\n",
      "Average of max per entry across top 8 scores: 0.5333333333333333\n",
      "Average of max per entry across top 9999 scores: 0.5333333333333333\n"
     ]
    },
    {
     "name": "stderr",
     "output_type": "stream",
     "text": [
      "100%|██████████| 5/5 [00:52<00:00, 10.53s/it]\n"
     ]
    },
    {
     "name": "stdout",
     "output_type": "stream",
     "text": [
      "Bootstrapped 0 full traces after 5 examples in round 0.\n"
     ]
    },
    {
     "name": "stderr",
     "output_type": "stream",
     "text": [
      "Average Metric: 0.8333333333333333 / 5  (16.7): 100%|██████████| 5/5 [00:12<00:00,  2.59s/it] \n"
     ]
    },
    {
     "name": "stdout",
     "output_type": "stream",
     "text": [
      "Score: 16.67 for set: [5]\n",
      "Scores so far: [20.0, 20.0, 13.33, 20.0, 26.67, 16.67]\n",
      "Best score: 26.67\n",
      "Average of max per entry across top 1 scores: 0.26666666666666666\n",
      "Average of max per entry across top 2 scores: 0.4333333333333333\n",
      "Average of max per entry across top 3 scores: 0.4666666666666667\n",
      "Average of max per entry across top 5 scores: 0.5666666666666667\n",
      "Average of max per entry across top 8 scores: 0.6333333333333333\n",
      "Average of max per entry across top 9999 scores: 0.6333333333333333\n"
     ]
    },
    {
     "name": "stderr",
     "output_type": "stream",
     "text": [
      "100%|██████████| 5/5 [00:54<00:00, 10.85s/it]\n"
     ]
    },
    {
     "name": "stdout",
     "output_type": "stream",
     "text": [
      "Bootstrapped 0 full traces after 5 examples in round 0.\n"
     ]
    },
    {
     "name": "stderr",
     "output_type": "stream",
     "text": [
      "Average Metric: 0.16666666666666666 / 5  (3.3): 100%|██████████| 5/5 [00:10<00:00,  2.14s/it] \n"
     ]
    },
    {
     "name": "stdout",
     "output_type": "stream",
     "text": [
      "Score: 3.33 for set: [5]\n",
      "Scores so far: [20.0, 20.0, 13.33, 20.0, 26.67, 16.67, 3.33]\n",
      "Best score: 26.67\n",
      "Average of max per entry across top 1 scores: 0.26666666666666666\n",
      "Average of max per entry across top 2 scores: 0.4333333333333333\n",
      "Average of max per entry across top 3 scores: 0.4666666666666667\n",
      "Average of max per entry across top 5 scores: 0.5666666666666667\n",
      "Average of max per entry across top 8 scores: 0.6333333333333333\n",
      "Average of max per entry across top 9999 scores: 0.6333333333333333\n"
     ]
    },
    {
     "name": "stderr",
     "output_type": "stream",
     "text": [
      "100%|██████████| 5/5 [00:50<00:00, 10.03s/it]\n"
     ]
    },
    {
     "name": "stdout",
     "output_type": "stream",
     "text": [
      "Bootstrapped 0 full traces after 5 examples in round 0.\n"
     ]
    },
    {
     "name": "stderr",
     "output_type": "stream",
     "text": [
      "Average Metric: 1.6666666666666667 / 5  (33.3): 100%|██████████| 5/5 [00:10<00:00,  2.11s/it]\n"
     ]
    },
    {
     "name": "stdout",
     "output_type": "stream",
     "text": [
      "Score: 33.33 for set: [5]\n",
      "New best sscore: 33.33 for seed 4\n",
      "Scores so far: [20.0, 20.0, 13.33, 20.0, 26.67, 16.67, 3.33, 33.33]\n",
      "Best score: 33.33\n",
      "Average of max per entry across top 1 scores: 0.33333333333333337\n",
      "Average of max per entry across top 2 scores: 0.36666666666666664\n",
      "Average of max per entry across top 3 scores: 0.5333333333333333\n",
      "Average of max per entry across top 5 scores: 0.5333333333333333\n",
      "Average of max per entry across top 8 scores: 0.6333333333333333\n",
      "Average of max per entry across top 9999 scores: 0.6333333333333333\n"
     ]
    },
    {
     "name": "stderr",
     "output_type": "stream",
     "text": [
      "100%|██████████| 5/5 [00:45<00:00,  9.03s/it]\n"
     ]
    },
    {
     "name": "stdout",
     "output_type": "stream",
     "text": [
      "Bootstrapped 1 full traces after 5 examples in round 0.\n"
     ]
    },
    {
     "name": "stderr",
     "output_type": "stream",
     "text": [
      "Average Metric: 1.1666666666666665 / 5  (23.3): 100%|██████████| 5/5 [00:10<00:00,  2.19s/it]\n"
     ]
    },
    {
     "name": "stdout",
     "output_type": "stream",
     "text": [
      "Score: 23.33 for set: [5]\n",
      "Scores so far: [20.0, 20.0, 13.33, 20.0, 26.67, 16.67, 3.33, 33.33, 23.33]\n",
      "Best score: 33.33\n",
      "Average of max per entry across top 1 scores: 0.33333333333333337\n",
      "Average of max per entry across top 2 scores: 0.36666666666666664\n",
      "Average of max per entry across top 3 scores: 0.4333333333333333\n",
      "Average of max per entry across top 5 scores: 0.6\n",
      "Average of max per entry across top 8 scores: 0.6333333333333333\n",
      "Average of max per entry across top 9999 scores: 0.6333333333333333\n"
     ]
    },
    {
     "name": "stderr",
     "output_type": "stream",
     "text": [
      "100%|██████████| 5/5 [00:45<00:00,  9.09s/it]\n"
     ]
    },
    {
     "name": "stdout",
     "output_type": "stream",
     "text": [
      "Bootstrapped 0 full traces after 5 examples in round 0.\n"
     ]
    },
    {
     "name": "stderr",
     "output_type": "stream",
     "text": [
      "Average Metric: 2.3333333333333335 / 5  (46.7): 100%|██████████| 5/5 [00:11<00:00,  2.36s/it] \n"
     ]
    },
    {
     "name": "stdout",
     "output_type": "stream",
     "text": [
      "Score: 46.67 for set: [5]\n",
      "New best sscore: 46.67 for seed 6\n",
      "Scores so far: [20.0, 20.0, 13.33, 20.0, 26.67, 16.67, 3.33, 33.33, 23.33, 46.67]\n",
      "Best score: 46.67\n",
      "Average of max per entry across top 1 scores: 0.4666666666666667\n",
      "Average of max per entry across top 2 scores: 0.5666666666666667\n",
      "Average of max per entry across top 3 scores: 0.5666666666666667\n",
      "Average of max per entry across top 5 scores: 0.6333333333333333\n",
      "Average of max per entry across top 8 scores: 0.6666666666666667\n",
      "Average of max per entry across top 9999 scores: 0.6666666666666667\n"
     ]
    },
    {
     "name": "stderr",
     "output_type": "stream",
     "text": [
      "100%|██████████| 5/5 [00:41<00:00,  8.33s/it]\n"
     ]
    },
    {
     "name": "stdout",
     "output_type": "stream",
     "text": [
      "Bootstrapped 0 full traces after 5 examples in round 0.\n"
     ]
    },
    {
     "name": "stderr",
     "output_type": "stream",
     "text": [
      "Average Metric: 0.6666666666666666 / 5  (13.3): 100%|██████████| 5/5 [00:13<00:00,  2.71s/it]\n"
     ]
    },
    {
     "name": "stdout",
     "output_type": "stream",
     "text": [
      "Score: 13.33 for set: [5]\n",
      "Scores so far: [20.0, 20.0, 13.33, 20.0, 26.67, 16.67, 3.33, 33.33, 23.33, 46.67, 13.33]\n",
      "Best score: 46.67\n",
      "Average of max per entry across top 1 scores: 0.4666666666666667\n",
      "Average of max per entry across top 2 scores: 0.5666666666666667\n",
      "Average of max per entry across top 3 scores: 0.5666666666666667\n",
      "Average of max per entry across top 5 scores: 0.6333333333333333\n",
      "Average of max per entry across top 8 scores: 0.6666666666666667\n",
      "Average of max per entry across top 9999 scores: 0.6666666666666667\n"
     ]
    },
    {
     "name": "stderr",
     "output_type": "stream",
     "text": [
      "100%|██████████| 5/5 [00:48<00:00,  9.75s/it]\n"
     ]
    },
    {
     "name": "stdout",
     "output_type": "stream",
     "text": [
      "Bootstrapped 0 full traces after 5 examples in round 0.\n"
     ]
    },
    {
     "name": "stderr",
     "output_type": "stream",
     "text": [
      "Average Metric: 1.8333333333333333 / 5  (36.7): 100%|██████████| 5/5 [00:10<00:00,  2.12s/it] \n"
     ]
    },
    {
     "name": "stdout",
     "output_type": "stream",
     "text": [
      "Score: 36.67 for set: [5]\n",
      "Scores so far: [20.0, 20.0, 13.33, 20.0, 26.67, 16.67, 3.33, 33.33, 23.33, 46.67, 13.33, 36.67]\n",
      "Best score: 46.67\n",
      "Average of max per entry across top 1 scores: 0.4666666666666667\n",
      "Average of max per entry across top 2 scores: 0.5333333333333333\n",
      "Average of max per entry across top 3 scores: 0.6333333333333333\n",
      "Average of max per entry across top 5 scores: 0.6333333333333333\n",
      "Average of max per entry across top 8 scores: 0.6333333333333333\n",
      "Average of max per entry across top 9999 scores: 0.6666666666666667\n"
     ]
    },
    {
     "name": "stderr",
     "output_type": "stream",
     "text": [
      "100%|██████████| 5/5 [00:48<00:00,  9.68s/it]\n"
     ]
    },
    {
     "name": "stdout",
     "output_type": "stream",
     "text": [
      "Bootstrapped 0 full traces after 5 examples in round 0.\n"
     ]
    },
    {
     "name": "stderr",
     "output_type": "stream",
     "text": [
      "Average Metric: 0.6666666666666666 / 5  (13.3): 100%|██████████| 5/5 [00:15<00:00,  3.16s/it] \n"
     ]
    },
    {
     "name": "stdout",
     "output_type": "stream",
     "text": [
      "Score: 13.33 for set: [5]\n",
      "Scores so far: [20.0, 20.0, 13.33, 20.0, 26.67, 16.67, 3.33, 33.33, 23.33, 46.67, 13.33, 36.67, 13.33]\n",
      "Best score: 46.67\n",
      "Average of max per entry across top 1 scores: 0.4666666666666667\n",
      "Average of max per entry across top 2 scores: 0.5333333333333333\n",
      "Average of max per entry across top 3 scores: 0.6333333333333333\n",
      "Average of max per entry across top 5 scores: 0.6333333333333333\n",
      "Average of max per entry across top 8 scores: 0.6333333333333333\n",
      "Average of max per entry across top 9999 scores: 0.6666666666666667\n"
     ]
    },
    {
     "name": "stderr",
     "output_type": "stream",
     "text": [
      "100%|██████████| 5/5 [00:55<00:00, 11.03s/it]\n"
     ]
    },
    {
     "name": "stdout",
     "output_type": "stream",
     "text": [
      "Bootstrapped 0 full traces after 5 examples in round 0.\n"
     ]
    },
    {
     "name": "stderr",
     "output_type": "stream",
     "text": [
      "Average Metric: 2.5 / 5  (50.0): 100%|██████████| 5/5 [00:19<00:00,  3.82s/it]                \n"
     ]
    },
    {
     "name": "stdout",
     "output_type": "stream",
     "text": [
      "Score: 50.0 for set: [5]\n",
      "New best sscore: 50.0 for seed 10\n",
      "Scores so far: [20.0, 20.0, 13.33, 20.0, 26.67, 16.67, 3.33, 33.33, 23.33, 46.67, 13.33, 36.67, 13.33, 50.0]\n",
      "Best score: 50.0\n",
      "Average of max per entry across top 1 scores: 0.5\n",
      "Average of max per entry across top 2 scores: 0.5666666666666667\n",
      "Average of max per entry across top 3 scores: 0.6333333333333333\n",
      "Average of max per entry across top 5 scores: 0.7\n",
      "Average of max per entry across top 8 scores: 0.7\n",
      "Average of max per entry across top 9999 scores: 0.7333333333333333\n"
     ]
    },
    {
     "name": "stderr",
     "output_type": "stream",
     "text": [
      "100%|██████████| 5/5 [00:52<00:00, 10.42s/it]\n"
     ]
    },
    {
     "name": "stdout",
     "output_type": "stream",
     "text": [
      "Bootstrapped 0 full traces after 5 examples in round 0.\n"
     ]
    },
    {
     "name": "stderr",
     "output_type": "stream",
     "text": [
      "Average Metric: 0.16666666666666666 / 5  (3.3): 100%|██████████| 5/5 [00:13<00:00,  2.62s/it] \n"
     ]
    },
    {
     "name": "stdout",
     "output_type": "stream",
     "text": [
      "Score: 3.33 for set: [5]\n",
      "Scores so far: [20.0, 20.0, 13.33, 20.0, 26.67, 16.67, 3.33, 33.33, 23.33, 46.67, 13.33, 36.67, 13.33, 50.0, 3.33]\n",
      "Best score: 50.0\n",
      "Average of max per entry across top 1 scores: 0.5\n",
      "Average of max per entry across top 2 scores: 0.5666666666666667\n",
      "Average of max per entry across top 3 scores: 0.6333333333333333\n",
      "Average of max per entry across top 5 scores: 0.7\n",
      "Average of max per entry across top 8 scores: 0.7\n",
      "Average of max per entry across top 9999 scores: 0.7333333333333333\n"
     ]
    },
    {
     "name": "stderr",
     "output_type": "stream",
     "text": [
      "100%|██████████| 5/5 [00:57<00:00, 11.53s/it]\n"
     ]
    },
    {
     "name": "stdout",
     "output_type": "stream",
     "text": [
      "Bootstrapped 0 full traces after 5 examples in round 0.\n"
     ]
    },
    {
     "name": "stderr",
     "output_type": "stream",
     "text": [
      "Average Metric: 0.3333333333333333 / 5  (6.7): 100%|██████████| 5/5 [00:18<00:00,  3.69s/it]  \n"
     ]
    },
    {
     "name": "stdout",
     "output_type": "stream",
     "text": [
      "Score: 6.67 for set: [5]\n",
      "Scores so far: [20.0, 20.0, 13.33, 20.0, 26.67, 16.67, 3.33, 33.33, 23.33, 46.67, 13.33, 36.67, 13.33, 50.0, 3.33, 6.67]\n",
      "Best score: 50.0\n",
      "Average of max per entry across top 1 scores: 0.5\n",
      "Average of max per entry across top 2 scores: 0.5666666666666667\n",
      "Average of max per entry across top 3 scores: 0.6333333333333333\n",
      "Average of max per entry across top 5 scores: 0.7\n",
      "Average of max per entry across top 8 scores: 0.7\n",
      "Average of max per entry across top 9999 scores: 0.7333333333333333\n"
     ]
    },
    {
     "name": "stderr",
     "output_type": "stream",
     "text": [
      "100%|██████████| 5/5 [00:53<00:00, 10.77s/it]\n"
     ]
    },
    {
     "name": "stdout",
     "output_type": "stream",
     "text": [
      "Bootstrapped 0 full traces after 5 examples in round 0.\n"
     ]
    },
    {
     "name": "stderr",
     "output_type": "stream",
     "text": [
      "Average Metric: 1.6666666666666667 / 5  (33.3): 100%|██████████| 5/5 [00:15<00:00,  3.08s/it]\n"
     ]
    },
    {
     "name": "stdout",
     "output_type": "stream",
     "text": [
      "Score: 33.33 for set: [5]\n",
      "Scores so far: [20.0, 20.0, 13.33, 20.0, 26.67, 16.67, 3.33, 33.33, 23.33, 46.67, 13.33, 36.67, 13.33, 50.0, 3.33, 6.67, 33.33]\n",
      "Best score: 50.0\n",
      "Average of max per entry across top 1 scores: 0.5\n",
      "Average of max per entry across top 2 scores: 0.5666666666666667\n",
      "Average of max per entry across top 3 scores: 0.6333333333333333\n",
      "Average of max per entry across top 5 scores: 0.7\n",
      "Average of max per entry across top 8 scores: 0.7\n",
      "Average of max per entry across top 9999 scores: 0.7333333333333333\n"
     ]
    },
    {
     "name": "stderr",
     "output_type": "stream",
     "text": [
      "100%|██████████| 5/5 [00:42<00:00,  8.42s/it]\n"
     ]
    },
    {
     "name": "stdout",
     "output_type": "stream",
     "text": [
      "Bootstrapped 0 full traces after 5 examples in round 0.\n"
     ]
    },
    {
     "name": "stderr",
     "output_type": "stream",
     "text": [
      "Average Metric: 1.3333333333333335 / 5  (26.7): 100%|██████████| 5/5 [00:15<00:00,  3.05s/it] \n"
     ]
    },
    {
     "name": "stdout",
     "output_type": "stream",
     "text": [
      "Score: 26.67 for set: [5]\n",
      "Scores so far: [20.0, 20.0, 13.33, 20.0, 26.67, 16.67, 3.33, 33.33, 23.33, 46.67, 13.33, 36.67, 13.33, 50.0, 3.33, 6.67, 33.33, 26.67]\n",
      "Best score: 50.0\n",
      "Average of max per entry across top 1 scores: 0.5\n",
      "Average of max per entry across top 2 scores: 0.5666666666666667\n",
      "Average of max per entry across top 3 scores: 0.6333333333333333\n",
      "Average of max per entry across top 5 scores: 0.7\n",
      "Average of max per entry across top 8 scores: 0.7\n",
      "Average of max per entry across top 9999 scores: 0.7333333333333333\n"
     ]
    },
    {
     "name": "stderr",
     "output_type": "stream",
     "text": [
      "100%|██████████| 5/5 [00:39<00:00,  7.88s/it]\n"
     ]
    },
    {
     "name": "stdout",
     "output_type": "stream",
     "text": [
      "Bootstrapped 0 full traces after 5 examples in round 0.\n"
     ]
    },
    {
     "name": "stderr",
     "output_type": "stream",
     "text": [
      "Average Metric: 0.8333333333333333 / 5  (16.7): 100%|██████████| 5/5 [00:14<00:00,  2.90s/it] "
     ]
    },
    {
     "name": "stdout",
     "output_type": "stream",
     "text": [
      "Score: 16.67 for set: [5]\n",
      "Scores so far: [20.0, 20.0, 13.33, 20.0, 26.67, 16.67, 3.33, 33.33, 23.33, 46.67, 13.33, 36.67, 13.33, 50.0, 3.33, 6.67, 33.33, 26.67, 16.67]\n",
      "Best score: 50.0\n",
      "Average of max per entry across top 1 scores: 0.5\n",
      "Average of max per entry across top 2 scores: 0.5666666666666667\n",
      "Average of max per entry across top 3 scores: 0.6333333333333333\n",
      "Average of max per entry across top 5 scores: 0.7\n",
      "Average of max per entry across top 8 scores: 0.7\n",
      "Average of max per entry across top 9999 scores: 0.7333333333333333\n",
      "19 candidate programs found.\n"
     ]
    },
    {
     "name": "stderr",
     "output_type": "stream",
     "text": [
      "\n"
     ]
    }
   ],
   "source": [
    "def retriever_factory():\n",
    "    return PineconeRM  # Or however you create your pinecone_retriever\n",
    "\n",
    "\n",
    "rag = RAG(retriever_factory=retriever_factory)\n",
    "optimizer = BootstrapFewShotWithRandomSearch(metric=rag_assessment_metric2)\n",
    "compiled_rag = optimizer.compile(rag, trainset=train_data)"
   ]
  },
  {
   "cell_type": "code",
   "execution_count": 16,
   "metadata": {},
   "outputs": [
    {
     "name": "stdout",
     "output_type": "stream",
     "text": [
      "Question: How can I get help with academic advising?\n",
      "Predicted Answer: Context:\n",
      "[1] «All students are encouraged to seek information and assistance from academic advisors in career planning in addition to curriculum planning. Even students not enrolled in a specific curricular major may seek assistance from academic advisors and counselors to help select courses during enrollment. 25 | 2024-2025 NOVA Catalog | Academic Planning Students should use the\n",
      "Correct Answer: Based on the provided context, I can provide the following information about getting help with academic advising at NOVA:\n",
      "\n",
      "1. Academic advising is provided by faculty in academic departments and Counselors/Advisors in the Student Services Centers.\n",
      "2. All students are encouraged to seek information and assistance from academic advisors for both career planning and curriculum planning.\n",
      "3. New students should work with a counselor or academic advisor to select a program that meets their educational objectives.\n",
      "4. Once a student has chosen a major, they will be referred to a faculty advisor or counselor who will assist in planning their program for subsequent terms.\n",
      "5. Students should meet with their advisor to discuss progress toward graduation near the midpoint of their program.\n",
      "6. Virtual advising is offered through live chat and rapid response email. Students can log on during specified hours to chat with an advisor.\n",
      "7. Students can use the online Advisement Report in NOVAConnect to monitor their progress toward their degree or certificate.\n",
      "8. For more information, students are directed to see NOVA's Advising & Counseling web page.\n",
      "\n",
      "The context emphasizes the importance of the advising relationship as a continuous developmental process involving open communication. It encourages students to actively participate in advising activities to gain an understanding of campus and College resources and develop skills for making informed, independent decisions.\n",
      "\n"
     ]
    }
   ],
   "source": [
    "for example in test_data:\n",
    "    prediction = compiled_rag(example.question)\n",
    "    print(f\"Question: {example.question}\")\n",
    "    print(f\"Predicted Answer: {prediction.answer}\")\n",
    "    print(f\"Correct Answer: {example.answer}\")\n",
    "    print()"
   ]
  },
  {
   "cell_type": "code",
   "execution_count": 17,
   "metadata": {},
   "outputs": [
    {
     "name": "stdout",
     "output_type": "stream",
     "text": [
      "\n",
      "\n",
      "\n",
      "Generate an answer based on the provided context and question.\n",
      "\n",
      "---\n",
      "\n",
      "Context: These limitations include all terms of enrollment, whether or not aid was awarded or received. At NOVA, satisfactory academic progress standards apply also to nonfederal aid, including state funds, institutional funds, and foundation scholarships. Progress is measured throughout the academic program by the student's cumulative grade point average (Qualitative) and by credits earned as a percentage of those attempted (Quantitative or Pace of Completion). In addition, students must complete their programs of study before attempting 150 percent of the credits required to complete the program. The College Financial Aid Office will evaluate satisfactory academic progress before aid is awarded and again after most grades are posted for every term, starting with the first term of enrollment.  Financial Aid Status Financial Aid Good Standing (GS) Students who are meeting all aspects of the satisfactory academic progress policy or successfully following a designated academic progress plan are in good standing. Financial Aid Warning Status (WS) Students who fail to meet satisfactory academic progress for the first time (excluding students who have already attempted 150 percent of the credits required for their programs of study or those flagged by the Department of Education for having unusual enrollment history) will be automatically placed in a warning status for one term and are expected to meet SAP requirements by the end of that term. Students who fail to meet SAP requirements at the end of the warning status term will be placed on financial aid suspension. However, with a successful SAP appeal, those students will be placed on financial aid probation and will retain financial aid eligibility.  Applications should be completed several months in advance of the semester for which assistance is needed. Applicants for all aid rograms, including loans and work study, must file the FAFSA. Completed applications received by March 1 for Fall, October | for Spring, and April 1 for Summer will receive priority consideration. Additional information on scholarships, grants, loans, and on-campus employment, as well as information about financial aid policies pertaining to class attendance, recalculation of awards, satisfactory academic progress, and repayment of funds, can be found in the Student Services Financial Aid Handbook and at www.nvec.edu/financialaid. NOVA Financial Aid Satisfactory Progress Standards Federal regulations require that a student receiving federal financial aid make satisfactory academic progress (SAP) in accordance with the standards set by NOVA and the federal government.  Students in suspension status are not eligible to receive financial aid unless an appeal and academic plan are submitted and approved. Academic Suspension (AS) Academic requirements for avoiding warning status and staying in school differ from financial aid requirements for satisfactory academic progress. Academic status will be noted on registration records; financial aid status will be noted on financial aid screens in the Student Information System (NOVAConnect). Any student suspended from NOVA for academic or behavioral reasons is automatically ineligible for financial aid. Evaluating Progress Quantitative Standards or Pace of Completion Completion Rate (67 Percent Rule): Students must, at a minimum, receive satisfactory grades in 67 percent of cumulative credits attempted. This calculation is performed by dividing the cumulative total number of successfully completed credits by the cumulative total number of credits attempted.  Any change in status must be reported to the Department of Veterans Affairs as soon as possible, but no more than 30 days after the change has been officially completed at the College. Students who are using veteran related benefits will be responsible of overpayment of BAH, tuition, or book stipend due to not attending class(es) or any changes in enrollment. Satisfactory Progress Policy for Recipients of Veterans Benefits To be eligible for veterans' educational benefits, students must maintain satisfactory academic progress in accordance with Northern Virginia Community College standards. Students will be reported to the Department of Veterans Affairs as making unsatisfactory progress if their cumulative GPA falls below the required level based on the following: Regular Credits Attempted (A, B,C, |Minimum Cumulative D,F) GPA Requirement 13-23 credits 1.50 24-47 credits 1.75 48 or more credits 2.00 This standard will be applied each term. \n",
      "Question: What is the Satisfactory Academic Progress policy, and how does it affect financial aid?\n",
      "Answer: Based on the provided context, the Satisfactory Academic Progress (SAP) policy at NOVA and its effect on financial aid can be summarized as follows: 1. Definition: SAP is a set of standards that students receiving federal financial aid must meet to maintain their eligibility. 2. Application: The policy applies to federal aid, state funds, institutional funds, and foundation scholarships. 3. Measurement: SAP is measured by two main factors: a) Cumulative grade point average (Qualitative) b) Credits earned as a percentage of those attempted (Quantitative or Pace of Completion) 4. Time frame: Students must complete their programs before attempting 150% of the credits required for their program. 5. Evaluation: The Financial Aid Office evaluates SAP before awarding aid and after grades are posted each term. 6. Financial Aid Statuses: a) Good Standing (GS): Students meeting all SAP requirements b) Warning Status (WS): First-time failure to meet SAP requirements c) Suspension: Failure to meet SAP requirements after the warning period 7. Effect on Financial Aid: - Students in good standing retain financial aid eligibility - Students on warning status retain eligibility for one term - Students on suspension lose financial aid eligibility unless they successfully appeal and are placed on probation 8. Quantitative Standard: Students must receive satisfactory grades in at least 67% of cumulative credits attempted. 9. Appeals: Students can appeal their suspension status to potentially retain financial aid eligibility. The policy ensures that students receiving financial aid are making progress towards completing their academic programs within a reasonable time frame.\n",
      "\n",
      "Context: The portfolio process and the related course activities will allow students to practice self-evaluation, introspection, analysis, and synthesis. Lecture 4 hours per week. English as a Second Language ESL 20 (10 CR.) English as a Second Language II Prerequisite(s): Recommendation for ESL Level 2. Provides intensive instruction and practice at the low intermediate level. Provides an introduction to the sound system, stress, intonational, and rhythmic patterns of English through listening and speaking exercises. Includes individualized instruction to improve basic reading comprehension. Requires practice in writing with emphasis on building basic sentence structures, grammar, and sentence-level writing. Credits are not applicable toward graduation. Lecture 10 hours per week. ESL 21 (5 CR.) Written Communication Improves students' competence in grammatical patterns of written English. Requires practice in writing sentences and longer pieces of writing.  Bachelor of Science in English, Creative Writing or Writing and/or Rhetoric as an entry-level professional writer. Transfer Information: Students are advised to work closely with the English faculty and counseling staff for program and course scheduling. Electives should be chosen carefully to meet requirements of the transfer institution. The responsibility for proper course selection rests with the student. Recommended Preparation: Satisfactory completion of high school units or equivalent: 4 units of English, 2 units of Mathematics (Algebra and Geometry), 2 units of Laboratory Science, | unit of History, and 3 to 4 units of World Languages.  Foreign Language Credit Students who have completed two years of a single foreign language in high school or whose native language is not English have the following options: e@ Request assessment by the College faculty if it is a language currently taught at NOVA. Such assessment could place the student into levels above the introductory course in the foreign language sequence. For students who are granted advanced placement, additional general electives may have to be completed to meet the minimum credit requirements for the degree. e Take a CLEP, NYU or other approved foreign language exam. Students who achieve a satisfactory score will be awarded credit for the foreign language that may be used toward completion of a degree. e Request a waiver of the foreign language requirement for those who are proficient in a foreign language not offered by NOVA or through examination.  Written and Oral Communication A.A., A.S. and A.F.A. degrees require ENG 111 - College Composition I and ENG 112 - College Composition II . A 3-credit oral communication course is also required. For the A.S. degree, a 3-credit oral communication course is required except when it conflicts with the VCCS common curriculum. A.A.A. degrees require 3 credits in English composition (ENG 111 - College Composition I , or ENG 115 - Technical Writing ) and an oral communication course. A.AS. degrees require 3 credits in English composition (ENG 111 - College Composition I , or ENG 115 - Technical Writing ). See the \"General Education Electives \" section for a list of approved general education courses. Humanities/Fine Arts Humanities requirements may be met by selecting courses in art (ART), 200-level literature (ENG), humanities (HUM), music (MUS), philosophy (PHD), religion (REL), American Sign Language (ASL), and 200-level foreign language courses.  Assesses students' oral skills and includes, as needed, practice with pronunciation, rhythm, stress, and intonation. Provides exercises, practices, small and large group activities, and oral presentations to help students overcome problems in oral communication. Credits are not applicable toward graduation. Lecture 5 hours per week. ESL 35 (3 CR.) Applied Grammar III Prerequisite(s): Successful completion of ESL 20 or ESL 24. Provides instruction and practice in the use of intermediate-level academic English grammar structures including verb tenses, parts of speech, and basic sentence structure. Helps ESL students assess their own knowledge of English grammar, improve accuracy, and learn methods to improve editing. Credits are not applicable toward graduation. Lecture 3 hours per week. ESL 41 (5 CR.) Composition Il Prerequisite(s): Successful completion of ESL 31. Provides further instruction and practice in the writing process and introduces advanced language patterns. \n",
      "Question: What are the requirements for the English as a Second Language programs?\n",
      "Answer: The context provides information about several English as a Second Language (ESL) courses, but it doesn't explicitly list comprehensive requirements for ESL programs.\n",
      "\n",
      "Context: Completion dates may not be set beyond the last day of the subsequent semester (to include the Summer Session) without written approval of the provost. The student will be provided a copy of the documentation. All \"I\" grades that have not been changed by the faculty member through the normal grade change processes will be subsequently changed to the default grade assigned by the faculty member. An \"I\" grade will be changed to a'\"W\" only under documented mitigating circumstances, which must be approved by the provost. P = Pass - No grade point credit. Applies only to non-developmental courses. The \"P/U\" grading option may be used for an entire section of any course but not for an individual student within a course. Use of this grade must be approved by the academic dean. Grades of \"P\" are not included in grade point average calculations. Only seven credit hours of \"P\" grades may be applied toward graduation.  The Catalog to be used in certifying the student's graduation may not be more than seven academic years old at the time of graduation. For example, a student placed in the 2017-2018 catalog year may be eligible to graduate up until Summer 2024; e taken courses at NOVA that total at least 25 percent of the credit to be applied to the curriculum (ABLE credit does not count toward the residency requirement); e earned a grade point average of at least 2.00 in courses attempted that are applicable toward graduation in the curriculum; e applied for graduation online on or before the published dates ; and e resolved all financial obligations to the College and returned all materials, including library books.  Only nonremedial courses with grades of \"A,\"\"B,\"\"C,\"\"D,\" and \"F\" are included in this calculation. Transfer credits are excluded from GPA evaluation. In order to graduate, a minimum cumulative grade point average of 2.0 is required. Total Number of Credits Attempted GPA Requirement 1-15 1.50 16-30 1.75 31 or more 2.00 Regaining Eligibility for Financial Aid Students who do not meet the credit progression requirements (Quantitative or Pace of Completion) and/or cumulative grade point average requirements (Qualitative) will be immediately ineligible for financial aid. Removal from financial aid does not prevent students from enrolling without financial aid if they are otherwise eligible to continue their enrollment. Unless extenuating circumstances can be documented and an appeal is granted (see \"Financial Aid Appeals\"), a student in financial aid suspension should expect to continue classes at his or her own expense until satisfactory academic progress requirements are again met.  e Incomplete (\"I\") grades: Courses that are assigned an Incomplete are included in cumulative credits attempted. These cannot be used as credits earned in the progress standard until a successful grade is assigned. e Repeated courses enable the student to achieve a higher cumulative grade point average. Students can repeat courses with financial aid until successfully completed, but repeating courses adversely affects the student's ability to meet completion rate requirements. Financial aid can be considered for successfully completed classes that are repeated to achieve a higher grade but for only one additional attempt. Only the latest attempt will count toward the cumulative grade point average. Please visit the \"Repeating a course\" section. Qualitative Standards Cumulative GPA Requirements (GPA Rule): In order to remain eligible for financial aid consideration, students must meet minimum cumulative grade point average requirements based on a progressive scale.  This maximum may be extended to 15 credit hours for an Experiential Learning Portfolio course (formerly known as PLACE). R = Reenroll - No grade point credit. The reenroll \"R\" grade may be used as a grade option in developmental and College ESL courses only, to indicate some progress toward meeting course objectives. In order to complete the course objectives, students receiving an \"R\" grade must reenroll in the course and pay the specified tuition. The \"R\" grade may be given only once per course. S = Satisfactory - No grade point credit. Used only for satisfactory completion of a developmental studies course (numbered 1-9) or any College ESL course. Grades of \"S\" are not included in grade point average calculations. U = Unsatisfactory - No grade point credit. Applies to non- developmental courses being offered with a \"P/U\" grading option, as well as to developmental studies, ESL courses, noncredit courses, and specialized courses and seminars at the discretion of the College. \n",
      "Question: What is the maximum number of P grades that can be applied toward graduation?\n",
      "Answer: The maximum number of P grades that can be applied toward graduation is 7 credit hours.\n",
      "\n",
      "Context: Substitutions will generally not be granted for any course that is deemed essential to the program of instruction being pursued by such student, or to any directly related licensing requirement. If requirements are waived, students must successfully complete other courses to compensate for the credit hours. Handicapped parking spaces are available at each campus. A handicapped permit issued by the Department of Motor Vehicles is required. The College does not issue handicapped parking permits. Additional information about services provided by the office may be obtained by visiting: https://www.nvcc.edu/accommodations. Military and Veteran Services Office NOVA's Office of Military and Veteran Services helps all members of the military community-active duty, veterans, and family members-achieve their education and career goals.  To ensure proper on-boarding, the college requires students veteran provide one of the following to protect classes/enrollment being dropped due to nonpayment: the student veteran or family member must report to the nearest campus veterans office to submit: ONLINE VERF (veteran enrollment reporting form), COE (certificate of eligibility) or statement of benefits from the e-benefits website or for chapter 31 authorization, veteran case manager must send the benefit authorization to the Office of Military Services via Tungsten Portal. This will ensure veterans are processed and classes are protected until VA send tuition payment to the college. Without following the necessary steps this can cause delay in processing benefits in a timely manner.  Additional information is available from the veteran's advisor on each campus. Veterans and veterans' dependents may be eligible for educational benefits from the Department of Veterans Affairs. Students who wish to determine eligibility for veterans' benefits should contact the Department of Veterans Affairs. Once eligibility is determined, such individuals should contact their campus veterans' advisor each semester to complete the necessary forms to establish and maintain their eligibility for benefits. Full-time educational benefits are available to those registering for and maintaining 12 or more credits in degree program courses. Three-quarter-time benefits are paid for 9 to 11 credits and half-time benefits are paid for 6 to 8 credits per semester. Active-duty servicepersons and those registered for less than 6 credits are entitled to tuition reimbursement only. Certificate programs are measured differently for payment.  Courses taken through NOVA Online and accelerated courses are also measured differently, per the Department of Veteran Affairs policy. See a campus veterans' advisor for details. Students who receive educational benefits must report their enrollment each semester to the Office of Military and Veteran Services by completing the online Veteran Enrollment Report Form (VERF). The information will then be certified and reported to the Department of Veterans Affairs Regional Office. Any changes to a student's enrollment must also be reported by completing the online Veteran Adjustment Form to the Office of Military and Veteran Services. Changes include canceled classes, dropped classes, withdrawing from classes, adding classes, or any other type of change that may affect one's eligibility to receive benefits from the Department of Veterans Affairs. Excessive absences may result in the student's dismissal from the course and adjustment of benefits from the Department of Veterans Affairs.  The military student should provide his/her name; Student ID number; and a copy of his/her military orders, deployment orders, or documentation. If the service member used Tuition Assistance (TA), the service member must contact militaryservices@nvcc.edu regarding dropping/cancelling TA due to military-related duties or assignments. If the military member used VA benefits, it is the member's responsibility to contact the College veteran's office veteranmilitaryservices@nvcc.edu. If the member needs guidance through this process, he/she should contact the Office of Military Services at militaryservices@nvcc.edu. Withdrawal by Students Receiving Veterans Benefits Military students who are mobilized or ordered to active duty and request to be withdrawn from the College after the census date may contact the Office of Military Services at militaryservices@nvcc.edu. \n",
      "Question: What services are available for veteran students?\n",
      "Answer: Based on the provided context, the following services are available for veteran students at NOVA: 1. Office of Military and Veteran Services: This office helps all members of the military community (active duty, veterans, and family members) achieve their education and career goals. 2. Veterans' advisors: Each campus has a veterans' advisor to assist with completing necessary forms and maintaining eligibility for benefits. 3. Assistance with VA educational benefits: The college helps veterans and their dependents determine eligibility for and maintain educational benefits from the Department of Veterans Affairs. 4. Enrollment reporting: The office assists students in reporting their enrollment each semester to the Department of Veterans Affairs through the Veteran Enrollment Report Form (VERF). 5. Class protection: To prevent classes from being dropped due to nonpayment, the college allows students to submit documentation such as the VERF, Certificate of Eligibility (COE), or statement of benefits. 6. Guidance on changes in enrollment: The office helps students report any changes in enrollment that may affect their VA benefits. 7. Assistance with Tuition Assistance (TA): For military students using TA, the office provides support in case of dropping/cancelling TA due to military-related duties or assignments. 8. Support for military mobilization or active duty orders: The Office of Military Services assists students who need to withdraw from the College after the census date due to military obligations. 9. Veterans' advisors on each campus: These advisors provide information and assistance specific to veterans' needs. These services are designed to support veteran students throughout their academic journey at NOVA, from enrollment to graduation, and to help them navigate their VA benefits effectively.\n",
      "\n",
      "Context: In-State Tuition Eligibility To be eligible for in-state tuition rates, students must be domiciled in Virginia for a minimum of one year before the first official day of classes. When students apply for in-state tuition, they should be prepared to present documentation to support their claim. See the following \"Domicile Requirements\" section for details. To change one's tuition status from out-of-state to in-state the student must initiate the process by completing the \"Domicile Determination Form\" section of the Virginia Community College System Application for Admission Form (125-030), which can be obtained online at www.nvec.edu/forms or at any campus Student Services Center. It must be completed and returned to the Student Services Center for review before the enrollment period begins for the semester in which the in-state charges will take effect.  Children and the dependent spouse of a Virginia domiciliary may be eligible for in-state tuition. Additional documentation may be required. Dependent children who are U.S. citizens may be eligible to establish Virginia domicile separate from their noncitizen parents. They must present clear and convincing evidence that they are domiciled in Virginia and must provide documentation of their citizenship. The College may review many factors and documents when determining an individual's domicile. The following are some examples: e residence during the past year prior to the first day of the semester state to which income taxes are filed or paid driver's license motor vehicle registration voter registration employment property ownership sources of financial support other social or economic ties with Virginia and other states coco eereee However, the presence of any or all of these factors does not automatically result in Virginia domicile.  The College reserves the right to collect the difference between in- state and out-of-state tuition charges when the wrong tuition rate is paid. The Student Services Center on any campus can assist with questions concerning domicile status. Domicile Requirements All applicants for admission to Northern Virginia Community College are required by the Code of Virginia, 23-7.4, to complete the \"Domicile Determination Form\" section of the Application for Admission Form (125-030). To be eligible for in-state tuition, an individual must be domiciled in Virginia for a minimum of one year before the first official day of classes. Domicile is defined as an individual's \"present, fixed home where you return following temporary absences and where you intend to stay indefinitely.\" In essence, domicile has two parts, and an individual must meet both to qualify for in-state tuition. The individual must reside in Virginia and must intend to keep this as his or her home indefinitely.  Such individuals must complete the In-state Tuition for Active-Duty Military and Dependents living in Virginia Form (125-115) and take it, along with the documents specified on the form, to a campus Student Services Center to claim this benefit. An active-duty military service member may qualify for a waiver of the one-year residency requirement by electing to establish domicile in Virginia. The one-year residency requirement will be waived only if all other conditions for establishing domicile are met, including, but not limited to, Virginia resident income taxes on all income (Leave/Earning Statement showing Virginia tax withheld), Virginia State of Legal Residence Certificate (DD 2058), Virginia driver's license, and Virginia vehicle registration. Copies of these documents must be provided by the student to claim eligibility for this waiver prior to the beginning of the semester/term for which in-state charges are requested.  e Anyone using transferred Post-9/11 G.I. Bill® benefits (38 U.S.C. § 3319) who lives in the state in which the institution is located (regardless of his/her formal State of residence) and the transferor is a member of the uniformed service who is serving on active duty. e — Public Law 117-68 amends Title 38 USC 3679(c)(2)(A) Chapter 35 recipients to the definitions of covered individuals to be charged in-state tuition effective August 1, 2022. Military Spouses and Dependent Children The dependents of an active-duty military person stationed in Virginia, the District of Columbia, or a state contiguous to Virginia, who reside in Virginia, are eligible for in-state tuition. Such individuals should complete the In-state Tuition for Active-Duty Military and Dependents Living in Virginia Form (125-115) and take it, along with the documents specified on the form, to a campus Student Services Center to claim this benefit. \n",
      "Question: What are the eligibility requirements for in-state tuition?\n",
      "Answer: Based on the provided context, the eligibility requirements for in-state tuition at Northern Virginia Community College (NOVA) are as follows: 1. Domicile requirement: Students must be domiciled in Virginia for a minimum of one year before the first official day of classes. 2. Domicile definition: An individual must have their \"present, fixed home where you return following 3. temporary absences and where you intend to stay indefinitely\" in Virginia. 4. Dual criteria: Individuals must both reside in Virginia and intend to keep it as their home indefinitely. Documentation: Students may need to present documentation to support their claim, such as: - Residence during the past year prior to the first day of the semester - State to which income taxes are filed or paid - Driver's license - Motor vehicle registration - Voter registration - Employment - Property ownership - Sources of financial support - Other social or economic ties with Virginia 5. Process: To change tuition status from out-of-state to in-state, students must complete the \"Domicile Determination Form\" section of the Virginia Community College System Application for Admission Form (125-030). 6. Special cases: - Children and dependent spouses of Virginia domiciliaries may be eligible for in-state tuition. - Dependent children who are U.S. citizens may be eligible to establish Virginia domicile separate - from their noncitizen parents. - Active-duty military members and their dependents have specific provisions for in-state tuition eligibility. It's important to note that meeting any or all of these factors does not automatically result in Virginia domicile, and the college reserves the right to evaluate each case individually.\n",
      "\n",
      "---\n",
      "\n",
      "Follow the following format.\n",
      "\n",
      "Context: Relevant facts to consider\n",
      "\n",
      "Question: ${question}\n",
      "\n",
      "Reasoning: Let's think step by step in order to ${produce the answer}. We ...\n",
      "\n",
      "Answer: Answer derived from the context\n",
      "\n",
      "---\n",
      "\n",
      "Context:\n",
      "[1] «All students are encouraged to seek information and assistance from academic advisors in career planning in addition to curriculum planning. Even students not enrolled in a specific curricular major may seek assistance from academic advisors and counselors to help select courses during enrollment. 25 | 2024-2025 NOVA Catalog | Academic Planning Students should use the online Advisement Report to monitor their progress toward their degree or certificate by logging onto NOVAConnect. From the My NOVA tab on the College's home page, students can enter the VCCS SIS: Student Information System and click on \"Self Service.\" After clicking on the \"Student Center,\" the \"My Academics\" selection offers students a menu option to view their \"Advisement Report.\" Virtual Advising Virtual advising is offered through live chat and rapid response email. Students can log on during specified hours and chat with an advisor. »\n",
      "[2] «The advising relationship is a continuous developmental process involving open communication in an atmosphere of mutual respect and honesty. It assists students with the transition to college and the evaluation and attainment of their academic, career, and personal goals. By their participation in a range of advising activities, including individual and group advising sessions, classes, and workshops, students gain an understanding of campus and College resources and develop the skills to make informed, independent decisions. All new students should work with a counselor or academic advisor to select a program to meet their educational objectives. Once the student has chosen a major, he/she will then be referred to a faculty advisor or counselor who will assist in planning the rest of the student's program for all subsequent terms. Students should meet with their advisor to discuss progress toward graduation near the midpoint of their program. »\n",
      "[3] «See an academic advisor or counselor for further information. Transfer Information: Transfer is not the primary purpose of an A.ASS. program, but NOVA has articulation agreements that facilitate the transfer of this and other career-oriented programs to selected senior institutions. Students interested in transfer should contact a counselor or their academic advisor early in their program. Recommended Preparation: The student should possess a proficiency in high school English, high school algebra and geometry, and computer keyboarding skills. »\n",
      "[4] «Academic Advising Academic Advising is provided by faculty in academic departments and Counselors/Advisors in the Student Services Centers. See NOVA's Advising & Counseling web page for further information. Attendance/Student Participation Education is a cooperative endeavor between the student and the instructor. Instructors plan a variety of learning activities to help their students master the course content. Students are expected to participate in these activities within the framework established in the class syllabus. Faculty will identify specific class attendance policies and other requirements of the class in the syllabus that is distributed at the beginning of each term. Successful learning requires good communication between students and instructors; therefore, in most cases, regular classroom attendance, or regular participation in the case of a nontraditional course format, is essential. »\n",
      "[5] «Students interested in transfer should contact a counselor or their academic advisor early in their program. Recommended Preparation: The student should possess a proficiency in high school English and a strong background in basic arithmetic. Two Years Ist Semester Credits ACC 211 - Principles of Accounting I 3 BUS 100 - Introduction to Business. »\n",
      "\n",
      "Question: How can I get help with academic advising?\n",
      "\n",
      "Reasoning: Let's think step by step in order to Answer: You can get help with academic advising by seeking assistance from academic advisors or counselors in the Student Services Centers. They can help you plan your courses, monitor your progress, and make informed decisions about your academic and career goals.\n",
      "\n",
      "Answer:\u001b[32m Context:\n",
      "[1] «All students are encouraged to seek information and assistance from academic advisors in career planning in addition to curriculum planning. Even students not enrolled in a specific curricular major may seek assistance from academic advisors and counselors to help select courses during enrollment. 25 | 2024-2025 NOVA Catalog | Academic Planning Students should use the\u001b[0m\n",
      "\n",
      "\n",
      "\n"
     ]
    },
    {
     "data": {
      "text/plain": [
       "'\\n\\n\\nGenerate an answer based on the provided context and question.\\n\\n---\\n\\nContext: These limitations include all terms of enrollment, whether or not aid was awarded or received. At NOVA, satisfactory academic progress standards apply also to nonfederal aid, including state funds, institutional funds, and foundation scholarships. Progress is measured throughout the academic program by the student\\'s cumulative grade point average (Qualitative) and by credits earned as a percentage of those attempted (Quantitative or Pace of Completion). In addition, students must complete their programs of study before attempting 150 percent of the credits required to complete the program. The College Financial Aid Office will evaluate satisfactory academic progress before aid is awarded and again after most grades are posted for every term, starting with the first term of enrollment.  Financial Aid Status Financial Aid Good Standing (GS) Students who are meeting all aspects of the satisfactory academic progress policy or successfully following a designated academic progress plan are in good standing. Financial Aid Warning Status (WS) Students who fail to meet satisfactory academic progress for the first time (excluding students who have already attempted 150 percent of the credits required for their programs of study or those flagged by the Department of Education for having unusual enrollment history) will be automatically placed in a warning status for one term and are expected to meet SAP requirements by the end of that term. Students who fail to meet SAP requirements at the end of the warning status term will be placed on financial aid suspension. However, with a successful SAP appeal, those students will be placed on financial aid probation and will retain financial aid eligibility.  Applications should be completed several months in advance of the semester for which assistance is needed. Applicants for all aid rograms, including loans and work study, must file the FAFSA. Completed applications received by March 1 for Fall, October | for Spring, and April 1 for Summer will receive priority consideration. Additional information on scholarships, grants, loans, and on-campus employment, as well as information about financial aid policies pertaining to class attendance, recalculation of awards, satisfactory academic progress, and repayment of funds, can be found in the Student Services Financial Aid Handbook and at www.nvec.edu/financialaid. NOVA Financial Aid Satisfactory Progress Standards Federal regulations require that a student receiving federal financial aid make satisfactory academic progress (SAP) in accordance with the standards set by NOVA and the federal government.  Students in suspension status are not eligible to receive financial aid unless an appeal and academic plan are submitted and approved. Academic Suspension (AS) Academic requirements for avoiding warning status and staying in school differ from financial aid requirements for satisfactory academic progress. Academic status will be noted on registration records; financial aid status will be noted on financial aid screens in the Student Information System (NOVAConnect). Any student suspended from NOVA for academic or behavioral reasons is automatically ineligible for financial aid. Evaluating Progress Quantitative Standards or Pace of Completion Completion Rate (67 Percent Rule): Students must, at a minimum, receive satisfactory grades in 67 percent of cumulative credits attempted. This calculation is performed by dividing the cumulative total number of successfully completed credits by the cumulative total number of credits attempted.  Any change in status must be reported to the Department of Veterans Affairs as soon as possible, but no more than 30 days after the change has been officially completed at the College. Students who are using veteran related benefits will be responsible of overpayment of BAH, tuition, or book stipend due to not attending class(es) or any changes in enrollment. Satisfactory Progress Policy for Recipients of Veterans Benefits To be eligible for veterans\\' educational benefits, students must maintain satisfactory academic progress in accordance with Northern Virginia Community College standards. Students will be reported to the Department of Veterans Affairs as making unsatisfactory progress if their cumulative GPA falls below the required level based on the following: Regular Credits Attempted (A, B,C, |Minimum Cumulative D,F) GPA Requirement 13-23 credits 1.50 24-47 credits 1.75 48 or more credits 2.00 This standard will be applied each term. \\nQuestion: What is the Satisfactory Academic Progress policy, and how does it affect financial aid?\\nAnswer: Based on the provided context, the Satisfactory Academic Progress (SAP) policy at NOVA and its effect on financial aid can be summarized as follows: 1. Definition: SAP is a set of standards that students receiving federal financial aid must meet to maintain their eligibility. 2. Application: The policy applies to federal aid, state funds, institutional funds, and foundation scholarships. 3. Measurement: SAP is measured by two main factors: a) Cumulative grade point average (Qualitative) b) Credits earned as a percentage of those attempted (Quantitative or Pace of Completion) 4. Time frame: Students must complete their programs before attempting 150% of the credits required for their program. 5. Evaluation: The Financial Aid Office evaluates SAP before awarding aid and after grades are posted each term. 6. Financial Aid Statuses: a) Good Standing (GS): Students meeting all SAP requirements b) Warning Status (WS): First-time failure to meet SAP requirements c) Suspension: Failure to meet SAP requirements after the warning period 7. Effect on Financial Aid: - Students in good standing retain financial aid eligibility - Students on warning status retain eligibility for one term - Students on suspension lose financial aid eligibility unless they successfully appeal and are placed on probation 8. Quantitative Standard: Students must receive satisfactory grades in at least 67% of cumulative credits attempted. 9. Appeals: Students can appeal their suspension status to potentially retain financial aid eligibility. The policy ensures that students receiving financial aid are making progress towards completing their academic programs within a reasonable time frame.\\n\\nContext: The portfolio process and the related course activities will allow students to practice self-evaluation, introspection, analysis, and synthesis. Lecture 4 hours per week. English as a Second Language ESL 20 (10 CR.) English as a Second Language II Prerequisite(s): Recommendation for ESL Level 2. Provides intensive instruction and practice at the low intermediate level. Provides an introduction to the sound system, stress, intonational, and rhythmic patterns of English through listening and speaking exercises. Includes individualized instruction to improve basic reading comprehension. Requires practice in writing with emphasis on building basic sentence structures, grammar, and sentence-level writing. Credits are not applicable toward graduation. Lecture 10 hours per week. ESL 21 (5 CR.) Written Communication Improves students\\' competence in grammatical patterns of written English. Requires practice in writing sentences and longer pieces of writing.  Bachelor of Science in English, Creative Writing or Writing and/or Rhetoric as an entry-level professional writer. Transfer Information: Students are advised to work closely with the English faculty and counseling staff for program and course scheduling. Electives should be chosen carefully to meet requirements of the transfer institution. The responsibility for proper course selection rests with the student. Recommended Preparation: Satisfactory completion of high school units or equivalent: 4 units of English, 2 units of Mathematics (Algebra and Geometry), 2 units of Laboratory Science, | unit of History, and 3 to 4 units of World Languages.  Foreign Language Credit Students who have completed two years of a single foreign language in high school or whose native language is not English have the following options: e@ Request assessment by the College faculty if it is a language currently taught at NOVA. Such assessment could place the student into levels above the introductory course in the foreign language sequence. For students who are granted advanced placement, additional general electives may have to be completed to meet the minimum credit requirements for the degree. e Take a CLEP, NYU or other approved foreign language exam. Students who achieve a satisfactory score will be awarded credit for the foreign language that may be used toward completion of a degree. e Request a waiver of the foreign language requirement for those who are proficient in a foreign language not offered by NOVA or through examination.  Written and Oral Communication A.A., A.S. and A.F.A. degrees require ENG 111 - College Composition I and ENG 112 - College Composition II . A 3-credit oral communication course is also required. For the A.S. degree, a 3-credit oral communication course is required except when it conflicts with the VCCS common curriculum. A.A.A. degrees require 3 credits in English composition (ENG 111 - College Composition I , or ENG 115 - Technical Writing ) and an oral communication course. A.AS. degrees require 3 credits in English composition (ENG 111 - College Composition I , or ENG 115 - Technical Writing ). See the \"General Education Electives \" section for a list of approved general education courses. Humanities/Fine Arts Humanities requirements may be met by selecting courses in art (ART), 200-level literature (ENG), humanities (HUM), music (MUS), philosophy (PHD), religion (REL), American Sign Language (ASL), and 200-level foreign language courses.  Assesses students\\' oral skills and includes, as needed, practice with pronunciation, rhythm, stress, and intonation. Provides exercises, practices, small and large group activities, and oral presentations to help students overcome problems in oral communication. Credits are not applicable toward graduation. Lecture 5 hours per week. ESL 35 (3 CR.) Applied Grammar III Prerequisite(s): Successful completion of ESL 20 or ESL 24. Provides instruction and practice in the use of intermediate-level academic English grammar structures including verb tenses, parts of speech, and basic sentence structure. Helps ESL students assess their own knowledge of English grammar, improve accuracy, and learn methods to improve editing. Credits are not applicable toward graduation. Lecture 3 hours per week. ESL 41 (5 CR.) Composition Il Prerequisite(s): Successful completion of ESL 31. Provides further instruction and practice in the writing process and introduces advanced language patterns. \\nQuestion: What are the requirements for the English as a Second Language programs?\\nAnswer: The context provides information about several English as a Second Language (ESL) courses, but it doesn\\'t explicitly list comprehensive requirements for ESL programs.\\n\\nContext: Completion dates may not be set beyond the last day of the subsequent semester (to include the Summer Session) without written approval of the provost. The student will be provided a copy of the documentation. All \"I\" grades that have not been changed by the faculty member through the normal grade change processes will be subsequently changed to the default grade assigned by the faculty member. An \"I\" grade will be changed to a\\'\"W\" only under documented mitigating circumstances, which must be approved by the provost. P = Pass - No grade point credit. Applies only to non-developmental courses. The \"P/U\" grading option may be used for an entire section of any course but not for an individual student within a course. Use of this grade must be approved by the academic dean. Grades of \"P\" are not included in grade point average calculations. Only seven credit hours of \"P\" grades may be applied toward graduation.  The Catalog to be used in certifying the student\\'s graduation may not be more than seven academic years old at the time of graduation. For example, a student placed in the 2017-2018 catalog year may be eligible to graduate up until Summer 2024; e taken courses at NOVA that total at least 25 percent of the credit to be applied to the curriculum (ABLE credit does not count toward the residency requirement); e earned a grade point average of at least 2.00 in courses attempted that are applicable toward graduation in the curriculum; e applied for graduation online on or before the published dates ; and e resolved all financial obligations to the College and returned all materials, including library books.  Only nonremedial courses with grades of \"A,\"\"B,\"\"C,\"\"D,\" and \"F\" are included in this calculation. Transfer credits are excluded from GPA evaluation. In order to graduate, a minimum cumulative grade point average of 2.0 is required. Total Number of Credits Attempted GPA Requirement 1-15 1.50 16-30 1.75 31 or more 2.00 Regaining Eligibility for Financial Aid Students who do not meet the credit progression requirements (Quantitative or Pace of Completion) and/or cumulative grade point average requirements (Qualitative) will be immediately ineligible for financial aid. Removal from financial aid does not prevent students from enrolling without financial aid if they are otherwise eligible to continue their enrollment. Unless extenuating circumstances can be documented and an appeal is granted (see \"Financial Aid Appeals\"), a student in financial aid suspension should expect to continue classes at his or her own expense until satisfactory academic progress requirements are again met.  e Incomplete (\"I\") grades: Courses that are assigned an Incomplete are included in cumulative credits attempted. These cannot be used as credits earned in the progress standard until a successful grade is assigned. e Repeated courses enable the student to achieve a higher cumulative grade point average. Students can repeat courses with financial aid until successfully completed, but repeating courses adversely affects the student\\'s ability to meet completion rate requirements. Financial aid can be considered for successfully completed classes that are repeated to achieve a higher grade but for only one additional attempt. Only the latest attempt will count toward the cumulative grade point average. Please visit the \"Repeating a course\" section. Qualitative Standards Cumulative GPA Requirements (GPA Rule): In order to remain eligible for financial aid consideration, students must meet minimum cumulative grade point average requirements based on a progressive scale.  This maximum may be extended to 15 credit hours for an Experiential Learning Portfolio course (formerly known as PLACE). R = Reenroll - No grade point credit. The reenroll \"R\" grade may be used as a grade option in developmental and College ESL courses only, to indicate some progress toward meeting course objectives. In order to complete the course objectives, students receiving an \"R\" grade must reenroll in the course and pay the specified tuition. The \"R\" grade may be given only once per course. S = Satisfactory - No grade point credit. Used only for satisfactory completion of a developmental studies course (numbered 1-9) or any College ESL course. Grades of \"S\" are not included in grade point average calculations. U = Unsatisfactory - No grade point credit. Applies to non- developmental courses being offered with a \"P/U\" grading option, as well as to developmental studies, ESL courses, noncredit courses, and specialized courses and seminars at the discretion of the College. \\nQuestion: What is the maximum number of P grades that can be applied toward graduation?\\nAnswer: The maximum number of P grades that can be applied toward graduation is 7 credit hours.\\n\\nContext: Substitutions will generally not be granted for any course that is deemed essential to the program of instruction being pursued by such student, or to any directly related licensing requirement. If requirements are waived, students must successfully complete other courses to compensate for the credit hours. Handicapped parking spaces are available at each campus. A handicapped permit issued by the Department of Motor Vehicles is required. The College does not issue handicapped parking permits. Additional information about services provided by the office may be obtained by visiting: https://www.nvcc.edu/accommodations. Military and Veteran Services Office NOVA\\'s Office of Military and Veteran Services helps all members of the military community-active duty, veterans, and family members-achieve their education and career goals.  To ensure proper on-boarding, the college requires students veteran provide one of the following to protect classes/enrollment being dropped due to nonpayment: the student veteran or family member must report to the nearest campus veterans office to submit: ONLINE VERF (veteran enrollment reporting form), COE (certificate of eligibility) or statement of benefits from the e-benefits website or for chapter 31 authorization, veteran case manager must send the benefit authorization to the Office of Military Services via Tungsten Portal. This will ensure veterans are processed and classes are protected until VA send tuition payment to the college. Without following the necessary steps this can cause delay in processing benefits in a timely manner.  Additional information is available from the veteran\\'s advisor on each campus. Veterans and veterans\\' dependents may be eligible for educational benefits from the Department of Veterans Affairs. Students who wish to determine eligibility for veterans\\' benefits should contact the Department of Veterans Affairs. Once eligibility is determined, such individuals should contact their campus veterans\\' advisor each semester to complete the necessary forms to establish and maintain their eligibility for benefits. Full-time educational benefits are available to those registering for and maintaining 12 or more credits in degree program courses. Three-quarter-time benefits are paid for 9 to 11 credits and half-time benefits are paid for 6 to 8 credits per semester. Active-duty servicepersons and those registered for less than 6 credits are entitled to tuition reimbursement only. Certificate programs are measured differently for payment.  Courses taken through NOVA Online and accelerated courses are also measured differently, per the Department of Veteran Affairs policy. See a campus veterans\\' advisor for details. Students who receive educational benefits must report their enrollment each semester to the Office of Military and Veteran Services by completing the online Veteran Enrollment Report Form (VERF). The information will then be certified and reported to the Department of Veterans Affairs Regional Office. Any changes to a student\\'s enrollment must also be reported by completing the online Veteran Adjustment Form to the Office of Military and Veteran Services. Changes include canceled classes, dropped classes, withdrawing from classes, adding classes, or any other type of change that may affect one\\'s eligibility to receive benefits from the Department of Veterans Affairs. Excessive absences may result in the student\\'s dismissal from the course and adjustment of benefits from the Department of Veterans Affairs.  The military student should provide his/her name; Student ID number; and a copy of his/her military orders, deployment orders, or documentation. If the service member used Tuition Assistance (TA), the service member must contact militaryservices@nvcc.edu regarding dropping/cancelling TA due to military-related duties or assignments. If the military member used VA benefits, it is the member\\'s responsibility to contact the College veteran\\'s office veteranmilitaryservices@nvcc.edu. If the member needs guidance through this process, he/she should contact the Office of Military Services at militaryservices@nvcc.edu. Withdrawal by Students Receiving Veterans Benefits Military students who are mobilized or ordered to active duty and request to be withdrawn from the College after the census date may contact the Office of Military Services at militaryservices@nvcc.edu. \\nQuestion: What services are available for veteran students?\\nAnswer: Based on the provided context, the following services are available for veteran students at NOVA: 1. Office of Military and Veteran Services: This office helps all members of the military community (active duty, veterans, and family members) achieve their education and career goals. 2. Veterans\\' advisors: Each campus has a veterans\\' advisor to assist with completing necessary forms and maintaining eligibility for benefits. 3. Assistance with VA educational benefits: The college helps veterans and their dependents determine eligibility for and maintain educational benefits from the Department of Veterans Affairs. 4. Enrollment reporting: The office assists students in reporting their enrollment each semester to the Department of Veterans Affairs through the Veteran Enrollment Report Form (VERF). 5. Class protection: To prevent classes from being dropped due to nonpayment, the college allows students to submit documentation such as the VERF, Certificate of Eligibility (COE), or statement of benefits. 6. Guidance on changes in enrollment: The office helps students report any changes in enrollment that may affect their VA benefits. 7. Assistance with Tuition Assistance (TA): For military students using TA, the office provides support in case of dropping/cancelling TA due to military-related duties or assignments. 8. Support for military mobilization or active duty orders: The Office of Military Services assists students who need to withdraw from the College after the census date due to military obligations. 9. Veterans\\' advisors on each campus: These advisors provide information and assistance specific to veterans\\' needs. These services are designed to support veteran students throughout their academic journey at NOVA, from enrollment to graduation, and to help them navigate their VA benefits effectively.\\n\\nContext: In-State Tuition Eligibility To be eligible for in-state tuition rates, students must be domiciled in Virginia for a minimum of one year before the first official day of classes. When students apply for in-state tuition, they should be prepared to present documentation to support their claim. See the following \"Domicile Requirements\" section for details. To change one\\'s tuition status from out-of-state to in-state the student must initiate the process by completing the \"Domicile Determination Form\" section of the Virginia Community College System Application for Admission Form (125-030), which can be obtained online at www.nvec.edu/forms or at any campus Student Services Center. It must be completed and returned to the Student Services Center for review before the enrollment period begins for the semester in which the in-state charges will take effect.  Children and the dependent spouse of a Virginia domiciliary may be eligible for in-state tuition. Additional documentation may be required. Dependent children who are U.S. citizens may be eligible to establish Virginia domicile separate from their noncitizen parents. They must present clear and convincing evidence that they are domiciled in Virginia and must provide documentation of their citizenship. The College may review many factors and documents when determining an individual\\'s domicile. The following are some examples: e residence during the past year prior to the first day of the semester state to which income taxes are filed or paid driver\\'s license motor vehicle registration voter registration employment property ownership sources of financial support other social or economic ties with Virginia and other states coco eereee However, the presence of any or all of these factors does not automatically result in Virginia domicile.  The College reserves the right to collect the difference between in- state and out-of-state tuition charges when the wrong tuition rate is paid. The Student Services Center on any campus can assist with questions concerning domicile status. Domicile Requirements All applicants for admission to Northern Virginia Community College are required by the Code of Virginia, 23-7.4, to complete the \"Domicile Determination Form\" section of the Application for Admission Form (125-030). To be eligible for in-state tuition, an individual must be domiciled in Virginia for a minimum of one year before the first official day of classes. Domicile is defined as an individual\\'s \"present, fixed home where you return following temporary absences and where you intend to stay indefinitely.\" In essence, domicile has two parts, and an individual must meet both to qualify for in-state tuition. The individual must reside in Virginia and must intend to keep this as his or her home indefinitely.  Such individuals must complete the In-state Tuition for Active-Duty Military and Dependents living in Virginia Form (125-115) and take it, along with the documents specified on the form, to a campus Student Services Center to claim this benefit. An active-duty military service member may qualify for a waiver of the one-year residency requirement by electing to establish domicile in Virginia. The one-year residency requirement will be waived only if all other conditions for establishing domicile are met, including, but not limited to, Virginia resident income taxes on all income (Leave/Earning Statement showing Virginia tax withheld), Virginia State of Legal Residence Certificate (DD 2058), Virginia driver\\'s license, and Virginia vehicle registration. Copies of these documents must be provided by the student to claim eligibility for this waiver prior to the beginning of the semester/term for which in-state charges are requested.  e Anyone using transferred Post-9/11 G.I. Bill® benefits (38 U.S.C. § 3319) who lives in the state in which the institution is located (regardless of his/her formal State of residence) and the transferor is a member of the uniformed service who is serving on active duty. e — Public Law 117-68 amends Title 38 USC 3679(c)(2)(A) Chapter 35 recipients to the definitions of covered individuals to be charged in-state tuition effective August 1, 2022. Military Spouses and Dependent Children The dependents of an active-duty military person stationed in Virginia, the District of Columbia, or a state contiguous to Virginia, who reside in Virginia, are eligible for in-state tuition. Such individuals should complete the In-state Tuition for Active-Duty Military and Dependents Living in Virginia Form (125-115) and take it, along with the documents specified on the form, to a campus Student Services Center to claim this benefit. \\nQuestion: What are the eligibility requirements for in-state tuition?\\nAnswer: Based on the provided context, the eligibility requirements for in-state tuition at Northern Virginia Community College (NOVA) are as follows: 1. Domicile requirement: Students must be domiciled in Virginia for a minimum of one year before the first official day of classes. 2. Domicile definition: An individual must have their \"present, fixed home where you return following 3. temporary absences and where you intend to stay indefinitely\" in Virginia. 4. Dual criteria: Individuals must both reside in Virginia and intend to keep it as their home indefinitely. Documentation: Students may need to present documentation to support their claim, such as: - Residence during the past year prior to the first day of the semester - State to which income taxes are filed or paid - Driver\\'s license - Motor vehicle registration - Voter registration - Employment - Property ownership - Sources of financial support - Other social or economic ties with Virginia 5. Process: To change tuition status from out-of-state to in-state, students must complete the \"Domicile Determination Form\" section of the Virginia Community College System Application for Admission Form (125-030). 6. Special cases: - Children and dependent spouses of Virginia domiciliaries may be eligible for in-state tuition. - Dependent children who are U.S. citizens may be eligible to establish Virginia domicile separate - from their noncitizen parents. - Active-duty military members and their dependents have specific provisions for in-state tuition eligibility. It\\'s important to note that meeting any or all of these factors does not automatically result in Virginia domicile, and the college reserves the right to evaluate each case individually.\\n\\n---\\n\\nFollow the following format.\\n\\nContext: Relevant facts to consider\\n\\nQuestion: ${question}\\n\\nReasoning: Let\\'s think step by step in order to ${produce the answer}. We ...\\n\\nAnswer: Answer derived from the context\\n\\n---\\n\\nContext:\\n[1] «All students are encouraged to seek information and assistance from academic advisors in career planning in addition to curriculum planning. Even students not enrolled in a specific curricular major may seek assistance from academic advisors and counselors to help select courses during enrollment. 25 | 2024-2025 NOVA Catalog | Academic Planning Students should use the online Advisement Report to monitor their progress toward their degree or certificate by logging onto NOVAConnect. From the My NOVA tab on the College\\'s home page, students can enter the VCCS SIS: Student Information System and click on \"Self Service.\" After clicking on the \"Student Center,\" the \"My Academics\" selection offers students a menu option to view their \"Advisement Report.\" Virtual Advising Virtual advising is offered through live chat and rapid response email. Students can log on during specified hours and chat with an advisor. »\\n[2] «The advising relationship is a continuous developmental process involving open communication in an atmosphere of mutual respect and honesty. It assists students with the transition to college and the evaluation and attainment of their academic, career, and personal goals. By their participation in a range of advising activities, including individual and group advising sessions, classes, and workshops, students gain an understanding of campus and College resources and develop the skills to make informed, independent decisions. All new students should work with a counselor or academic advisor to select a program to meet their educational objectives. Once the student has chosen a major, he/she will then be referred to a faculty advisor or counselor who will assist in planning the rest of the student\\'s program for all subsequent terms. Students should meet with their advisor to discuss progress toward graduation near the midpoint of their program. »\\n[3] «See an academic advisor or counselor for further information. Transfer Information: Transfer is not the primary purpose of an A.ASS. program, but NOVA has articulation agreements that facilitate the transfer of this and other career-oriented programs to selected senior institutions. Students interested in transfer should contact a counselor or their academic advisor early in their program. Recommended Preparation: The student should possess a proficiency in high school English, high school algebra and geometry, and computer keyboarding skills. »\\n[4] «Academic Advising Academic Advising is provided by faculty in academic departments and Counselors/Advisors in the Student Services Centers. See NOVA\\'s Advising & Counseling web page for further information. Attendance/Student Participation Education is a cooperative endeavor between the student and the instructor. Instructors plan a variety of learning activities to help their students master the course content. Students are expected to participate in these activities within the framework established in the class syllabus. Faculty will identify specific class attendance policies and other requirements of the class in the syllabus that is distributed at the beginning of each term. Successful learning requires good communication between students and instructors; therefore, in most cases, regular classroom attendance, or regular participation in the case of a nontraditional course format, is essential. »\\n[5] «Students interested in transfer should contact a counselor or their academic advisor early in their program. Recommended Preparation: The student should possess a proficiency in high school English and a strong background in basic arithmetic. Two Years Ist Semester Credits ACC 211 - Principles of Accounting I 3 BUS 100 - Introduction to Business. »\\n\\nQuestion: How can I get help with academic advising?\\n\\nReasoning: Let\\'s think step by step in order to Answer: You can get help with academic advising by seeking assistance from academic advisors or counselors in the Student Services Centers. They can help you plan your courses, monitor your progress, and make informed decisions about your academic and career goals.\\n\\nAnswer:\\x1b[32m Context:\\n[1] «All students are encouraged to seek information and assistance from academic advisors in career planning in addition to curriculum planning. Even students not enrolled in a specific curricular major may seek assistance from academic advisors and counselors to help select courses during enrollment. 25 | 2024-2025 NOVA Catalog | Academic Planning Students should use the\\x1b[0m\\n\\n\\n'"
      ]
     },
     "execution_count": 17,
     "metadata": {},
     "output_type": "execute_result"
    }
   ],
   "source": [
    "gemini_flash.inspect_history(n=1)"
   ]
  },
  {
   "cell_type": "code",
   "execution_count": 21,
   "metadata": {},
   "outputs": [
    {
     "name": "stdout",
     "output_type": "stream",
     "text": [
      "Question: What are some work study programs available at NOVA?\n",
      "Predicted Answer: Context:\n",
      "[1] «The topics vary from job skills to personal enrichment interests. Various community education programs and seminars focus attention on social issues. Workforce development services for business, industry, and professional organizations provide special courses at NOVA for their employees. These programs can be taught at the College or in the workplace. Many noncredit programs are offered each semester to serve special community\n"
     ]
    }
   ],
   "source": [
    "test_question = \"What are some work study programs available at NOVA?\"\n",
    "prediction = compiled_rag(test_question)\n",
    "print(f\"Question: {test_question}\")\n",
    "print(f\"Predicted Answer: {prediction.answer}\")"
   ]
  },
  {
   "cell_type": "code",
   "execution_count": null,
   "metadata": {},
   "outputs": [],
   "source": [
    "gemini_flash.inspect_history(n=1)"
   ]
  },
  {
   "cell_type": "code",
   "execution_count": 20,
   "metadata": {},
   "outputs": [
    {
     "name": "stdout",
     "output_type": "stream",
     "text": [
      "[('generate_answer', Predict(StringSignature(context, question -> rationale, answer\n",
      "    instructions='Generate an answer based on the provided context and question.'\n",
      "    context = Field(annotation=str required=True json_schema_extra={'desc': 'Relevant facts to consider', '__dspy_field_type': 'input', 'prefix': 'Context:'})\n",
      "    question = Field(annotation=str required=True json_schema_extra={'__dspy_field_type': 'input', 'prefix': 'Question:', 'desc': '${question}'})\n",
      "    rationale = Field(annotation=str required=True json_schema_extra={'prefix': \"Reasoning: Let's think step by step in order to\", 'desc': '${produce the answer}. We ...', '__dspy_field_type': 'output'})\n",
      "    answer = Field(annotation=str required=True json_schema_extra={'desc': 'Answer derived from the context', '__dspy_field_type': 'output', 'prefix': 'Answer:'})\n",
      "))), ('retrieve', <DSPyPineconeRM.PineconeRM object at 0x32796e450>)]\n"
     ]
    }
   ],
   "source": [
    "save_path = './v2.json'\n",
    "compiled_rag.save(save_path)"
   ]
  },
  {
   "cell_type": "code",
   "execution_count": null,
   "metadata": {},
   "outputs": [],
   "source": [
    "class GenerateAnswer(dspy.Signature):\n",
    "    \"\"\"Assess the context provided by the college catalog and answer the given questions that are predominantly about community college policies, programs, and procedures. Focus on providing accurate information related to admissions, enrollment, academic programs, student services, and other topics covered in the college catalog. If the information to answer a question is not available in the catalog, clearly state that you don't have that information. Always prioritize accuracy and relevance to the official college information contained in the catalog.\"\"\"\n",
    "\n",
    "    context = dspy.InputField(desc=\"Helpful information for answering the question.\")\n",
    "    question = dspy.InputField()\n",
    "    answer = dspy.OutputField(desc=\"A detailed answer that is supported by the context.\")\n",
    "\n",
    "\n",
    "class RAG(dspy.Module):\n",
    "    def __init__(self, num_passages=5, retriever_factory=None):\n",
    "        super().__init__()\n",
    "        self.retriever_factory = retriever_factory() or (lambda: pinecone_retriever)\n",
    "        self.retrieve = self.retriever_factory(k=num_passages)\n",
    "        self.generate_answer = dspy.ChainOfThought(GenerateAnswer)\n",
    "    \n",
    "    def forward(self, question):\n",
    "        context = self.retrieve(question).passages\n",
    "        context = [passage.long_text for passage in context]\n",
    "        prediction = self.generate_answer(context=context, question=question)\n",
    "        return dspy.Prediction(\n",
    "            context=context, \n",
    "            answer=prediction.answer\n",
    "        )\n",
    "    \n",
    "    def __getstate__(self):\n",
    "        \"\"\"Custom getstate to avoid pickling the retriever\"\"\"\n",
    "        state = self.__dict__.copy()\n",
    "        del state['retrieve']\n",
    "        return state\n",
    "    \n",
    "    def __setstate__(self, state):\n",
    "        \"\"\"Custom setstate to recreate the retriever\"\"\"\n",
    "        self.__dict__.update(state)\n",
    "        self.retrieve = self.retriever_factory()"
   ]
  },
  {
   "cell_type": "code",
   "execution_count": null,
   "metadata": {},
   "outputs": [],
   "source": [
    "class Evaluator(dspy.Signature):\n",
    "    \"\"\"Evaluate the quality of a system's answer to a question according to a given criterion.\"\"\"\n",
    "    \n",
    "    context = dspy.InputField(desc=\"The context for answering the question.\")\n",
    "    criterion = dspy.InputField(desc=\"The evaluation criterion.\")\n",
    "    question = dspy.InputField(desc=\"The question asked to the system.\")\n",
    "    ground_truth_answer = dspy.InputField(desc=\"An expert written Ground Truth Answer to the question.\")\n",
    "    predicted_answer = dspy.InputField(desc=\"The system's answer to the question.\")\n",
    "    rating = dspy.OutputField(desc=\"A rating between 1 and 5. IMPORTANT!! Only output the rating as an `int` and nothing else.\")\n",
    "\n",
    "class RatingParser(dspy.Signature):\n",
    "    \"\"\"Parse the rating from a string.\"\"\"\n",
    "    \n",
    "    raw_rating_response = dspy.InputField(desc=\"The string that contains the rating in it.\")\n",
    "    rating = dspy.OutputField(desc=\"An integer valued rating.\")\n",
    "    \n",
    "class Summarizer(dspy.Signature):\n",
    "    \"\"\"Summarize the information provided in the search results in 5 sentences.\"\"\"\n",
    "    \n",
    "    question = dspy.InputField(desc=\"a question to a search engine\")\n",
    "    context = dspy.InputField(desc=\"context filtered as relevant to the query by a search engine\")\n",
    "    summary = dspy.OutputField(desc=\"a 5 sentence summary of information in the context that would help answer the question.\")\n",
    "\n",
    "class RAGMetricProgram(dspy.Module):\n",
    "    def __init__(self):\n",
    "        self.evaluator = dspy.ChainOfThought(Evaluator)\n",
    "        self.rating_parser = dspy.Predict(RatingParser)\n",
    "        self.summarizer = dspy.ChainOfThought(Summarizer)\n",
    "    \n",
    "    def forward(self, gold, pred, trace=None):\n",
    "        predicted_answer = pred.answer\n",
    "        question = gold.question\n",
    "        ground_truth_answer = gold.gold_answer\n",
    "        \n",
    "        detail = \"Is the assessed answer detailed?\"\n",
    "        faithful = \"Is the assessed answer factually supported by the context?\"\n",
    "        ground_truth = f\"The Ground Answer Truth to the Question: {question} is given as: \\n \\n {ground_truth_answer} \\n \\n How aligned is this Predicted Answer? {predicted_answer}\"\n",
    "        \n",
    "        # Judgement\n",
    "        with dspy.context(lm=gemini_flash):\n",
    "            context = pinecone_retriever(k=5)(question).passages\n",
    "            # Context Summary\n",
    "            context = self.summarizer(question=question, context=context).summary\n",
    "            raw_detail_response = self.evaluator(context=context, \n",
    "                                 criterion=detail,\n",
    "                                 question=question,\n",
    "                                 ground_truth_answer=ground_truth_answer,\n",
    "                                 predicted_answer=predicted_answer).rating\n",
    "            raw_faithful_response = self.evaluator(context=context, \n",
    "                                 criterion=faithful,\n",
    "                                 question=question,\n",
    "                                 ground_truth_answer=ground_truth_answer,\n",
    "                                 predicted_answer=predicted_answer).rating\n",
    "            raw_ground_truth_response = self.evaluator(context=context, \n",
    "                                 criterion=ground_truth,\n",
    "                                 question=question,\n",
    "                                 ground_truth_answer=ground_truth_answer,\n",
    "                                 predicted_answer=predicted_answer).rating\n",
    "        \n",
    "        # Structured Output Parsing\n",
    "        with dspy.context(lm=gemini_flash):\n",
    "            detail_rating = self.rating_parser(raw_rating_response=raw_detail_response).rating\n",
    "            faithful_rating = self.rating_parser(raw_rating_response=raw_faithful_response).rating\n",
    "            ground_truth_rating = self.rating_parser(raw_rating_response=raw_ground_truth_response).rating\n",
    "        \n",
    "        total = float(detail_rating) + float(faithful_rating)*2 + float(ground_truth_rating)\n",
    "    \n",
    "        return total / 5.0\n",
    "\n"
   ]
  },
  {
   "cell_type": "code",
   "execution_count": null,
   "metadata": {},
   "outputs": [],
   "source": [
    "metric_test_ground_truth_answer = \"\"\"\n",
    "Cross encoders score the relevance of a document to a query. They are commonly used to rerank documents.\n",
    "\"\"\"\n",
    "\n",
    "metric_test_query = \"What do cross encoders do?\"\n",
    "metric_test_example = dspy.Example(question=metric_test_query, gold_answer=metric_test_ground_truth_answer)\n",
    "\n",
    "\n",
    "# If this is your first time exploring LLM metrics,\n",
    "# I recommend trying the exercise of improving this answer to achieve a higher LLM rating.\n",
    "\n",
    "metric_test_pred = dspy.Example(answer=\"They re-rank documents.\")\n",
    "\n",
    "llm_metric = RAGMetricProgram()\n",
    "llm_metric_rating = llm_metric(metric_test_example, metric_test_pred)\n",
    "print(llm_metric_rating)\n",
    "\n",
    "def MetricWrapper(gold, pred, trace=None):\n",
    "    return llm_metric(gold, pred)"
   ]
  },
  {
   "cell_type": "code",
   "execution_count": null,
   "metadata": {},
   "outputs": [],
   "source": [
    "gemini_flash.inspect_history(n=1)"
   ]
  }
 ],
 "metadata": {
  "kernelspec": {
   "display_name": "simple-nova-rag",
   "language": "python",
   "name": "python3"
  },
  "language_info": {
   "codemirror_mode": {
    "name": "ipython",
    "version": 3
   },
   "file_extension": ".py",
   "mimetype": "text/x-python",
   "name": "python",
   "nbconvert_exporter": "python",
   "pygments_lexer": "ipython3",
   "version": "3.12.5"
  }
 },
 "nbformat": 4,
 "nbformat_minor": 2
}
