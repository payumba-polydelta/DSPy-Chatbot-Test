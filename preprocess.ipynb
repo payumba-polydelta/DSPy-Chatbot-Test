{
 "cells": [
  {
   "cell_type": "code",
   "execution_count": 3,
   "metadata": {},
   "outputs": [
    {
     "name": "stderr",
     "output_type": "stream",
     "text": [
      "/Users/polydeltaintern/anaconda3/envs/simple-nova-rag/lib/python3.12/site-packages/tqdm/auto.py:21: TqdmWarning: IProgress not found. Please update jupyter and ipywidgets. See https://ipywidgets.readthedocs.io/en/stable/user_install.html\n",
      "  from .autonotebook import tqdm as notebook_tqdm\n"
     ]
    }
   ],
   "source": [
    "from unstructured.partition.pdf import partition_pdf\n",
    "from langchain_text_splitters import RecursiveCharacterTextSplitter\n",
    "from sentence_transformers import SentenceTransformer\n",
    "from pinecone.grpc import PineconeGRPC as Pinecone\n",
    "from pinecone import ServerlessSpec\n",
    "from nltk.tokenize.punkt import PunktSentenceTokenizer\n",
    "import json\n",
    "import pandas as pd\n",
    "from collections import Counter\n",
    "import time\n",
    "import random\n",
    "import ast\n",
    "import os\n",
    "import re\n",
    "from dotenv import load_dotenv"
   ]
  },
  {
   "cell_type": "code",
   "execution_count": 4,
   "metadata": {},
   "outputs": [],
   "source": [
    "load_dotenv()\n",
    "\n",
    "HF_API_TOKEN = os.environ.get(\"HF_API_TOKEN\")\n",
    "PINECONE_API_KEY = os.environ.get(\"PINECONE_API_KEY\")\n",
    "PINECONE_ENVIRONMENT = os.environ.get(\"PINECONE_ENVIRONMENT\")"
   ]
  },
  {
   "cell_type": "code",
   "execution_count": null,
   "metadata": {},
   "outputs": [],
   "source": [
    "catalog_filename = \"data/nova_catalog_24_25.pdf\"\n",
    "ocr_start = time.time()\n",
    "catalog_elements_ocr = partition_pdf(filename=catalog_filename, strategy=\"ocr_only\")\n",
    "ocr_end = time.time()\n",
    "ocr_time = (ocr_end - ocr_start) / 60\n",
    "print(f\"OCR Finished in {ocr_time}m\")\n",
    "#catalog_elements_hires = partition_pdf(filename=catalog_filename, strategy=\"hi_res\")\n",
    "#(len(catalog_elements_ocr), len(catalog_elements_hires))\n",
    "len(catalog_elements_ocr)"
   ]
  },
  {
   "cell_type": "code",
   "execution_count": null,
   "metadata": {},
   "outputs": [],
   "source": [
    "Counter(type(element) for element in catalog_elements_ocr)"
   ]
  },
  {
   "cell_type": "code",
   "execution_count": null,
   "metadata": {},
   "outputs": [],
   "source": [
    "#Counter(type(element) for element in catalog_elements_hires)"
   ]
  },
  {
   "cell_type": "code",
   "execution_count": null,
   "metadata": {},
   "outputs": [],
   "source": [
    "display(*[element.to_dict() for element in catalog_elements_ocr[95:100]])"
   ]
  },
  {
   "cell_type": "code",
   "execution_count": null,
   "metadata": {},
   "outputs": [],
   "source": [
    "#[(type(element), element.text) for element in catalog_elements_hires[50:100]]"
   ]
  },
  {
   "cell_type": "code",
   "execution_count": null,
   "metadata": {},
   "outputs": [],
   "source": [
    "catalog_element_dict_list = [element.to_dict() for element in catalog_elements_ocr]\n",
    "catalog_element_dict_list"
   ]
  },
  {
   "cell_type": "code",
   "execution_count": null,
   "metadata": {},
   "outputs": [],
   "source": [
    "catalog_element_df = pd.DataFrame(catalog_element_dict_list)\n",
    "print(len(catalog_element_df))\n",
    "catalog_element_df.head()"
   ]
  },
  {
   "cell_type": "code",
   "execution_count": null,
   "metadata": {},
   "outputs": [],
   "source": [
    "catalog_element_df.to_csv(\"catalog_data.csv\", index=False)"
   ]
  },
  {
   "cell_type": "code",
   "execution_count": null,
   "metadata": {},
   "outputs": [],
   "source": [
    "year = \"2024-2025\"\n",
    "pattern = f'^\\\\d+ \\\\| {year} NOVA Catalog \\\\|$'\n",
    "rows_to_drop = catalog_element_df[catalog_element_df['text'].str.match(pattern))]\n",
    "print(len(rows_to_drop))"
   ]
  },
  {
   "cell_type": "code",
   "execution_count": null,
   "metadata": {},
   "outputs": [],
   "source": [
    "joined_text = \"\"\n",
    "for index, row in catalog_element_df.iterrows():\n",
    "    joined_text += f\"{row[\"text\"]} \" \n",
    "\n",
    "joined_text[:1000]"
   ]
  },
  {
   "cell_type": "code",
   "execution_count": 5,
   "metadata": {},
   "outputs": [
    {
     "name": "stdout",
     "output_type": "stream",
     "text": [
      "11541\n"
     ]
    },
    {
     "data": {
      "text/plain": [
       "['Professional Readiness The ability to work well with others and display situationally and culturally appropriate demeanor and behavior.',\n",
       " 'Degree graduates will demonstrate skills important for successful transition into the workplace and pursuit of further education.',\n",
       " 'Quantitative Literacy The ability to perform accurate calculations, interpret quantitative information, apply and analyze relevant numerical data, and use results to support conclusions.',\n",
       " 'Degree graduates will calculate, interpret, and use numerical and quantitative information in a variety of settings.',\n",
       " 'Scientific Literacy The ability to apply the scientific method and related concepts and principles to make informed decisions and engage with issues related to the natural, physical, and social world.',\n",
       " 'Degree graduates will recognize and know how to use the scientific method, and to evaluate empirical information.',\n",
       " 'Written Communication the ability to develop, convey, and exchange ideas in writing, as appropriate to a given context and audience.',\n",
       " 'Degree graduates will express themselves effectively in a variety of written forms.',\n",
       " 'Graduation Rates Many students attending Northern Virginia Community College do not plan to graduate with an associate degree or certificate, but enroll for the purpose of improving job skills, taking credits for transfer to another college, or for some specialized need or personal satisfaction.',\n",
       " 'Determining graduation rates, given students!']"
      ]
     },
     "execution_count": 5,
     "metadata": {},
     "output_type": "execute_result"
    }
   ],
   "source": [
    "tokenizer = PunktSentenceTokenizer()\n",
    "\n",
    "csv_path = \"catalog_data.csv\"\n",
    "catalog_df = pd.read_csv(csv_path)\n",
    "\n",
    "document_text_string = \"\"\n",
    "for index, row in catalog_df.iterrows():\n",
    "    document_text_string += f\"{row[\"text\"]} \"\n",
    "\n",
    "sentence_list = tokenizer.tokenize(document_text_string)\n",
    "\n",
    "print(len(sentence_list))\n",
    "sentence_list[120:130]"
   ]
  },
  {
   "cell_type": "code",
   "execution_count": 6,
   "metadata": {},
   "outputs": [
    {
     "name": "stdout",
     "output_type": "stream",
     "text": [
      "7779\n"
     ]
    },
    {
     "data": {
      "text/html": [
       "<div>\n",
       "<style scoped>\n",
       "    .dataframe tbody tr th:only-of-type {\n",
       "        vertical-align: middle;\n",
       "    }\n",
       "\n",
       "    .dataframe tbody tr th {\n",
       "        vertical-align: top;\n",
       "    }\n",
       "\n",
       "    .dataframe thead th {\n",
       "        text-align: right;\n",
       "    }\n",
       "</style>\n",
       "<table border=\"1\" class=\"dataframe\">\n",
       "  <thead>\n",
       "    <tr style=\"text-align: right;\">\n",
       "      <th></th>\n",
       "      <th>type</th>\n",
       "      <th>element_id</th>\n",
       "      <th>text</th>\n",
       "      <th>metadata</th>\n",
       "    </tr>\n",
       "  </thead>\n",
       "  <tbody>\n",
       "    <tr>\n",
       "      <th>0</th>\n",
       "      <td>Title</td>\n",
       "      <td>d580873c31da0f85af2c4f0e955d2960</td>\n",
       "      <td>CATALOG</td>\n",
       "      <td>{'coordinates': {'points': ((704.0, 1544.0), (...</td>\n",
       "    </tr>\n",
       "    <tr>\n",
       "      <th>1</th>\n",
       "      <td>UncategorizedText</td>\n",
       "      <td>50ddb73ff8f2553cf0d3442632bc2049</td>\n",
       "      <td>2024-2025</td>\n",
       "      <td>{'coordinates': {'points': ((914.0, 1723.0), (...</td>\n",
       "    </tr>\n",
       "    <tr>\n",
       "      <th>2</th>\n",
       "      <td>Title</td>\n",
       "      <td>91b79077e60608525259f3b16688dda9</td>\n",
       "      <td>Northern Virginia Community College</td>\n",
       "      <td>{'coordinates': {'points': ((1223.0, 1996.0), ...</td>\n",
       "    </tr>\n",
       "    <tr>\n",
       "      <th>3</th>\n",
       "      <td>Title</td>\n",
       "      <td>ec3ffb76c607be7ff92809db98900474</td>\n",
       "      <td>Welcome to</td>\n",
       "      <td>{'coordinates': {'points': ((501.0, 119.0), (5...</td>\n",
       "    </tr>\n",
       "    <tr>\n",
       "      <th>4</th>\n",
       "      <td>UncategorizedText</td>\n",
       "      <td>d08cb9c277419ff66197193c34a8d4ba</td>\n",
       "      <td>NOVA!</td>\n",
       "      <td>{'coordinates': {'points': ((500.0, 181.0), (5...</td>\n",
       "    </tr>\n",
       "  </tbody>\n",
       "</table>\n",
       "</div>"
      ],
      "text/plain": [
       "                type                        element_id  \\\n",
       "0              Title  d580873c31da0f85af2c4f0e955d2960   \n",
       "1  UncategorizedText  50ddb73ff8f2553cf0d3442632bc2049   \n",
       "2              Title  91b79077e60608525259f3b16688dda9   \n",
       "3              Title  ec3ffb76c607be7ff92809db98900474   \n",
       "4  UncategorizedText  d08cb9c277419ff66197193c34a8d4ba   \n",
       "\n",
       "                                  text  \\\n",
       "0                              CATALOG   \n",
       "1                            2024-2025   \n",
       "2  Northern Virginia Community College   \n",
       "3                           Welcome to   \n",
       "4                                NOVA!   \n",
       "\n",
       "                                            metadata  \n",
       "0  {'coordinates': {'points': ((704.0, 1544.0), (...  \n",
       "1  {'coordinates': {'points': ((914.0, 1723.0), (...  \n",
       "2  {'coordinates': {'points': ((1223.0, 1996.0), ...  \n",
       "3  {'coordinates': {'points': ((501.0, 119.0), (5...  \n",
       "4  {'coordinates': {'points': ((500.0, 181.0), (5...  "
      ]
     },
     "execution_count": 6,
     "metadata": {},
     "output_type": "execute_result"
    }
   ],
   "source": [
    "print(len(catalog_df))\n",
    "catalog_df.head()"
   ]
  },
  {
   "cell_type": "code",
   "execution_count": 7,
   "metadata": {},
   "outputs": [
    {
     "name": "stdout",
     "output_type": "stream",
     "text": [
      "<class 'pandas.core.series.Series'>\n",
      "type                                                      Title\n",
      "element_id                     974bfb713bd654303417ec2af8508caa\n",
      "text          Clinical Data Coding Medical Laboratory Assist...\n",
      "metadata      {'coordinates': {'points': ((1257.0, 1780.0), ...\n",
      "Name: 7778, dtype: object\n",
      "<class 'str'>\n",
      "<class 'dict'>\n",
      "{'coordinates': {'points': ((1257.0, 1780.0), (1257.0, 1847.0), (1502.0, 1847.0), (1502.0, 1780.0)), 'system': 'PixelSpace', 'layout_width': 1700, 'layout_height': 2200}, 'filetype': 'application/pdf', 'languages': ['eng'], 'last_modified': '2024-08-22T11:49:26', 'page_number': 197, 'file_directory': 'data', 'filename': 'nova_catalog_24_25.pdf'}\n"
     ]
    },
    {
     "data": {
      "text/plain": [
       "197"
      ]
     },
     "execution_count": 7,
     "metadata": {},
     "output_type": "execute_result"
    }
   ],
   "source": [
    "last_entry = catalog_df.iloc[len(catalog_df) - 1]\n",
    "last_metadata_string = last_entry[\"metadata\"]\n",
    "\n",
    "print(type(last_entry))\n",
    "print(last_entry)\n",
    "print(type(last_entry[\"metadata\"]))\n",
    "\n",
    "last_metadata_dict = ast.literal_eval(last_metadata_string)\n",
    "print(type(last_metadata_dict))\n",
    "print(last_metadata_dict)\n",
    "\n",
    "last_page = last_metadata_dict[\"page_number\"]\n",
    "last_page"
   ]
  },
  {
   "cell_type": "code",
   "execution_count": 8,
   "metadata": {},
   "outputs": [],
   "source": [
    "pages_dict = {}\n",
    "for page in range(1, last_page + 1):\n",
    "    pages_dict[page] = \"\"\n",
    "\n",
    "for index, entry in catalog_df.iterrows():\n",
    "    entry_metadata_string = entry[\"metadata\"]\n",
    "    entry_metadata = ast.literal_eval(entry_metadata_string)\n",
    "    entry_page = entry_metadata[\"page_number\"]\n",
    "    \n",
    "    pages_dict[entry_page] += f\"{entry[\"text\"]} \""
   ]
  },
  {
   "cell_type": "code",
   "execution_count": 9,
   "metadata": {},
   "outputs": [
    {
     "name": "stdout",
     "output_type": "stream",
     "text": [
      "197\n",
      "CATALOG 2024-2025 Northern Virginia Community College \n",
      "CATALOG 2024-2025 Northern Virginia Community College Welcome to NOVA!\n",
      "Welcome to NOVA! Thank you for choosing NOVA! More than 70,000 students this year are discovering that NOVA has exactly what they’re looking for to meet their educational needs. The high quality of NOVA’s offerings is well known: + Our classes feature up-to-date technology and course content to prepare you for today’s competitive job market; + Wealso offer courses that will transfer to colleges all over Virginia and the nation. In fact, NOVA has guaranteed admission agreements with more than 40 colleges and universities for students who meet specific requirements. NOVA’s excellence is delivered by a devoted faculty who loves teaching and really cares about the success of every student, and a staff who works hard to make sure you have what you need to accomplish your goals. At NOVA, you’ll find students with diverse backgrounds and views who will enrich your educational experience. As if that weren’t enough, NOVA offers the most affordable education in the area, so that with planning, you can still transfer to the university of your choice when you graduate with an A.A. or A.S. degree. Other programs prepare graduates for great jobs. We are delighted to welcome you—and look forward to serving you. Anne M. Kress President Northern Virginia Community College NOVA’S MISSION Northern Virginia Community College provides equitable access to affordable and exceptional higher education and workforce programs, transforming the lives of our students and advancing opportunity in our community. ACCREDITATION Northern Virginia Community College is accredited by the Southern Association of Colleges and Schools Commission on Colleges (SACSCOC) to award the associate degree. Northern Virginia Community College also may offer credentials such as certificates and diplomas at approved degree level. Questions about the accreditation of Northern Virginia Community College may be directed in writing to the Southern Association of Colleges and Schools Commission on Colleges at 1866 Southern Lane, Decatur, Georgia 30033-4097, by calling (404) 679-4500, or by using information available on SACSCOC’s website. For other information about the College, please contact NOVA’s Administrative Offices, 4001 Wakefield Chapel Road, Annandale, Virginia 22003 (703-323-3000). Curricula of the College are approved by the College Board and by the State Board. The two-year associate degree programs are also approved by the State Council of Higher Education for Virginia (SCHEV). EQUAL EMPLOYMENT OPPORTUNITY/AFFIRMATIVE ACTION Northern Virginia Community College does not discriminate on the basis of race, sex (including pregnancy), color, national origin, religion, sexual orientation, gender identity, age, political affiliation, family medical history or genetic information, disability, or veteran status in its programs and activities. Inquiries regarding the non-discrimination policy may be addressed to: Office of Fair Practices, 3926 Pender Drive, Suite 150, Fairfax, VA 22030, (703) 323-3284, eo@nvcc.edu \n"
     ]
    }
   ],
   "source": [
    "print(len(pages_dict))\n",
    "print(pages_dict[1])\n",
    "print(sentence_list[0])\n",
    "print(pages_dict[2])"
   ]
  },
  {
   "cell_type": "code",
   "execution_count": 10,
   "metadata": {},
   "outputs": [],
   "source": [
    "# Combine all pages into a single string\n",
    "document_content = \" \".join(pages_dict.values())\n",
    "\n",
    "# Save the document content to a text file\n",
    "with open(\"full_document_content.txt\", \"w\", encoding=\"utf-8\") as f:\n",
    "    f.write(document_content)"
   ]
  },
  {
   "cell_type": "code",
   "execution_count": null,
   "metadata": {},
   "outputs": [],
   "source": [
    "def split_text_into_chunks_with_overlap(pages_dict, sentences, char_limit, overlap_limit):\n",
    "    \"\"\"\n",
    "    Splits sentences into their actual chunks (determined by max characters that preserves sentences) and\n",
    "    assigns the page number where each chunk started.\n",
    "    \n",
    "    Returns a list of dataframes with two key value pairs each corresponding to a chunk. Each list dataframe\n",
    "    has chunk text and chunk starting page number.\n",
    "    \"\"\"\n",
    "    chunks_list = []\n",
    "    current_chunk = \"\"\n",
    "    current_page_num = 1\n",
    "    first_sentence = \"\"\n",
    "    \n",
    "    for sentence in sentences:\n",
    "        if current_chunk == \"\":\n",
    "            chunk_first_sentence = sentence\n",
    "        # Check if adding this sentence would exceed the character limit\n",
    "        if len(current_chunk) + len(sentence) <= char_limit:\n",
    "            # If it fits, add the sentence to the current chunk\n",
    "            current_chunk += f\"{sentence} \"\n",
    "        else:\n",
    "            # If it doesn't fit, add the current chunk to the chunk dict\n",
    "            chunk_dict = {\"text\": current_chunk}\n",
    "            \n",
    "            # Add chunk page number to chunk dict\n",
    "            current_page_text = pages_dict[current_page_num]\n",
    "            if chunk_first_sentence in current_page_text:\n",
    "                chunk_dict[\"page\"] = current_page_num\n",
    "            elif (current_page_num < last_page):\n",
    "                following_page_num = current_page_num + 1\n",
    "                combined_pages_text = f\"{current_page_text} \"\n",
    "                while following_page_num <= last_page:\n",
    "                    following_page_text = pages_dict[following_page_num]\n",
    "                    combined_pages_text += f\"{following_page_text} \"\n",
    "                    if (chunk_first_sentence in combined_pages_text):\n",
    "                        chunk_dict[\"page\"] = current_page_num\n",
    "                        current_page_num = following_page_num - 1\n",
    "                        chunks_list.append(chunk_dict)\n",
    "                        break\n",
    "                    else:\n",
    "                        following_page_num += 1\n",
    "                        \n",
    "            \n",
    "            # Check if the last sentence of the current chunk is smaller than the overlap limit\n",
    "            if len(sentence) <= overlap_limit:\n",
    "                # If it is, start the new chunk with this sentence as an overlap\n",
    "                current_chunk = f\"{sentence} \"\n",
    "                chunk_first_sentence = sentence\n",
    "            else:\n",
    "                # Otherwise, start the new chunk empty\n",
    "                current_chunk = \"\"\n",
    "    \n",
    "    # Add the last chunk if it's not empty\n",
    "    if current_chunk:\n",
    "        chunk_dict = {\n",
    "            \"text\": current_chunk,\n",
    "            \"page\": current_page_num\n",
    "        }\n",
    "        chunks_list.append(chunk_dict)\n",
    "    \n",
    "    return chunks_list\n",
    "\n",
    "\n",
    "char_limit = 1000\n",
    "overlap_limit = 200\n",
    "\n",
    "chunk_list = split_text_into_chunks_with_overlap(pages_dict, sentence_list, char_limit, overlap_limit)\n",
    "\n",
    "print(len(chunk_list))\n",
    "chunk_list[:5]"
   ]
  },
  {
   "cell_type": "code",
   "execution_count": 8,
   "metadata": {},
   "outputs": [
    {
     "name": "stdout",
     "output_type": "stream",
     "text": [
      "1036\n"
     ]
    },
    {
     "data": {
      "text/plain": [
       "[\"Military Benefits Active-Duty Tuition Assistance The College participates in the Armed Forces Tuition Assistance (TA) program. Tuition Assistance is a benefit paid to eligible members of the Army, Navy, Marines, Air Force, and Coast Guard. Congress has given each service the ability to pay up to 100 percent for the tuition expenses of its members. If TA does not cover fees required by the College, the service member is responsible for paying the out-of-pocket fees. Each service has its own criteria for eligibility, obligated service, application processes, and restrictions. This money is usually paid directly to the institution by the individual services. For more information on using Tuition Assistance, students should contact their branch of service education office or NOVA's Military Services Office at militaryservices@nvcc.edu. Reserves and National Guard Tuition Assistance Members of the Selective Reserves are eligible for Tuition Assistance (TA). \",\n",
       " \"However, each of the Armed Forces determines how to administer their own Tuition Assistance. In addition, Virginia offers its National Guard service members state-funded education incentives based on state guidelines and eligibility. For more information on using Tuition Assistance, students should contact their branch of service education office or NOVA's Military Services Office at militaryservices@nvec.edu. Military Spouse Career Advancement Account (MyCAA) NOVA remains committed to the education of military members and their spouses. NOVA is an approved school for the Military Spouse Career Advancement Accounts (MyCAA) program. MyCAA allows select military spouses to receive financial assistance for licenses, certificates, certifications, or associate degrees (excluding General Studies and Liberal Arts) necessary for gainful employment in high demand, high growth portable career fields. For more information, contact the Military Services Office at militaryservices@nvec.edu. \",\n",
       " 'These benefits may include full payment of tuition, fees, room and board, and books at any state-supported college or university in Virginia. The veteran must have been a Virginia citizen at the time he or she entered the military or must have been a Virginia citizen for at least five years prior to the surviving dependent\\'s Application for Admission. The telephone number to the Virginia Department of Veteran Services is 804-225-2083. Military Leave Policies GI Bill® is a registered trademark of the U.S Department of Veterans Affairs (VA). More information about education benefits offered by VA is available at the official U.S. government Webs site at http://www.benefis.va.gov/gibill.\" e = Public Law 117 -328 section 3691A \"Withdrawal or leave of absence from certain education.\" o Public Law 117-328, which was signed on December 29, 2022, adds to Title 38 of the U.S. Code a new section, section 3691A \"Withdrawal or leave of absence from certain education.\" ecifically, 38 U.S.C. ',\n",
       " \"e Additionally, 38 U.S.C. §3691A(b) provides that an educational institution must take the following actions when a member withdraws due to receiving orders for a period of service: oO Refunding all tuition and fees paid for the academic term to the appropriate party. Please note that VA's interpretation of academic term is the term as reported to your State Approving Agency and VA. © Refunding payments made by the student (or behalf of the student) to the institution for housing. Please note that in this instance the reference to housing is not the monthly housing allowance provided by the Post 9/11 GI Bill but rather housing costs such as dorm fees. e Finally, 38 U.S.C. \",\n",
       " 'e wn Pro-Rate Refund Policy Tuition Refunds | Northern Virginia Community College (nvec.edu) Pro-ration of refund/exception requests are as follows: During first 25% of class completion = 100% During 26% to 50% of class completion = 100% After 51% of the class has been completed = 0% Veterans Benefits This institution is approved to offer GI Bill® educational benefits by the Virginia State Approving Agency (SAA). The SAA is the approving authority of education and training programs for Virginia. Their office investigates complaints of GI Bill beneficiaries. While most complaints should initially follow the 19 | 2024-2025 NOVA Catalog | school grievance policy, if the situation cannot be resolved at the school, the beneficiary should contact the SAA office via email at saa @dvs.virginia gov. Most College degree and certificate programs are approved for training-eligible servicepersons, veterans, and dependents. ',\n",
       " \"Additional information is available from the veteran's advisor on each campus. Veterans and veterans' dependents may be eligible for educational benefits from the Department of Veterans Affairs. Students who wish to determine eligibility for veterans' benefits should contact the Department of Veterans Affairs. Once eligibility is determined, such individuals should contact their campus veterans' advisor each semester to complete the necessary forms to establish and maintain their eligibility for benefits. Full-time educational benefits are available to those registering for and maintaining 12 or more credits in degree program courses. Three-quarter-time benefits are paid for 9 to 11 credits and half-time benefits are paid for 6 to 8 credits per semester. Active-duty servicepersons and those registered for less than 6 credits are entitled to tuition reimbursement only. Certificate programs are measured differently for payment. \",\n",
       " \"Courses taken through NOVA Online and accelerated courses are also measured differently, per the Department of Veteran Affairs policy. See a campus veterans' advisor for details. Students who receive educational benefits must report their enrollment each semester to the Office of Military and Veteran Services by completing the online Veteran Enrollment Report Form (VERF). The information will then be certified and reported to the Department of Veterans Affairs Regional Office. Any changes to a student's enrollment must also be reported by completing the online Veteran Adjustment Form to the Office of Military and Veteran Services. Changes include canceled classes, dropped classes, withdrawing from classes, adding classes, or any other type of change that may affect one's eligibility to receive benefits from the Department of Veterans Affairs. Excessive absences may result in the student's dismissal from the course and adjustment of benefits from the Department of Veterans Affairs. \",\n",
       " \"Any change in status must be reported to the Department of Veterans Affairs as soon as possible, but no more than 30 days after the change has been officially completed at the College. Students who are using veteran related benefits will be responsible of overpayment of BAH, tuition, or book stipend due to not attending class(es) or any changes in enrollment. Satisfactory Progress Policy for Recipients of Veterans Benefits To be eligible for veterans' educational benefits, students must maintain satisfactory academic progress in accordance with Northern Virginia Community College standards. Students will be reported to the Department of Veterans Affairs as making unsatisfactory progress if their cumulative GPA falls below the required level based on the following: Regular Credits Attempted (A, B,C, |Minimum Cumulative D,F) GPA Requirement 13-23 credits 1.50 24-47 credits 1.75 48 or more credits 2.00 This standard will be applied each term. \",\n",
       " 'When a student\\'s academic record does not meet the above standards, the student will be notified in writing/via email by the college school certifying official (SCO) that his/her next term will be \"probationary.\" The student will be required to meet with a counselor or academic advisor to develop a written plan to indicate how he/she will successfully complete his or her educational objective and how he or she will satisfy the GPA requirement for satisfactory progress toward graduation. This plan will be kept on file in the Veterans Office. Those who do not meet the minimum cumulative GPA requirement or do not earn a minimum GPA of 2.00 for the probationary term will be reported to the Department of Veterans Affairs as making unsatisfactory progress. The student may be certified on a retroactive basis for the following term if he/she receives a minimum GPA of 2.00 for that semester. ',\n",
       " \"When the student's cumulative GPA meets or exceeds the minimum requirement, educational benefits will be restored on a regular basis. If a student is subject to academic suspension, he/she must be reported to the Department of Veterans Affairs as making unsatisfactory progress. Benefits will not be resumed until the student is making satisfactory progress. Questions regarding this policy should be addressed to the Office of Military and Veteran Services at militaryservices@nvcc.edu. Survivors of Deceased Public Safety Officers of Virginia Tuition Benefits The Code of Virginia (Sec. 23-7.1:01) provides tuition benefits for certain children and spouses of deceased public safety officers. \"]"
      ]
     },
     "execution_count": 8,
     "metadata": {},
     "output_type": "execute_result"
    }
   ],
   "source": [
    "def split_text_into_chunks_with_overlap(sentences, char_limit, overlap_limit):\n",
    "    chunks = []\n",
    "    current_chunk = \"\"\n",
    "    \n",
    "    for sentence in sentences:\n",
    "        # Check if adding this sentence would exceed the character limit\n",
    "        if len(current_chunk) + len(sentence) <= char_limit:\n",
    "            # If it fits, add the sentence to the current chunk\n",
    "            current_chunk += f\"{sentence} \"\n",
    "        else:\n",
    "            # If it doesn't fit, add the current chunk to the list of chunks\n",
    "            chunks.append(current_chunk)\n",
    "            \n",
    "            # Check if the last sentence of the current chunk is smaller than the overlap limit\n",
    "            if len(sentence) <= overlap_limit:\n",
    "                # If it is, start the new chunk with this sentence as an overlap\n",
    "                current_chunk = f\"{sentence} \"\n",
    "            else:\n",
    "                # Otherwise, start the new chunk empty\n",
    "                current_chunk = \"\"\n",
    "    \n",
    "    # Add the last chunk if it's not empty\n",
    "    if current_chunk:\n",
    "        chunks.append(current_chunk)\n",
    "    \n",
    "    return chunks\n",
    "\n",
    "char_limit = 1000\n",
    "overlap_limit = 200\n",
    "\n",
    "chunk_list = split_text_into_chunks_with_overlap(sentence_list, char_limit, overlap_limit)\n",
    "\n",
    "print(len(chunk_list))\n",
    "chunk_list[90:100]\n"
   ]
  },
  {
   "cell_type": "markdown",
   "metadata": {},
   "source": [
    "## Recursive Split (by paragraph)"
   ]
  },
  {
   "cell_type": "code",
   "execution_count": null,
   "metadata": {},
   "outputs": [],
   "source": [
    "text_splitter = RecursiveCharacterTextSplitter(\n",
    "    chunk_size=512,  # Adjust based on LLM's token limit\n",
    "    chunk_overlap=50,  # Some overlap helps maintain context\n",
    "    separators=[\"\\n\\n\", \"\\n\", \".\", \" \", \"\"]\n",
    ")\n",
    "chunks = text_splitter.split_text(joined_text)\n",
    "print(len(chunks))\n",
    "print(chunks[2])\n",
    "#chunks = [f\"{chunk}\" for chunk in chunks]\n",
    "embeddings_df = pd.DataFrame(chunks, columns=[\"text\"])\n",
    "print(embeddings_df.shape)\n",
    "embeddings_df.head()"
   ]
  },
  {
   "cell_type": "code",
   "execution_count": 9,
   "metadata": {},
   "outputs": [
    {
     "name": "stdout",
     "output_type": "stream",
     "text": [
      "(1036, 1)\n"
     ]
    },
    {
     "data": {
      "text/html": [
       "<div>\n",
       "<style scoped>\n",
       "    .dataframe tbody tr th:only-of-type {\n",
       "        vertical-align: middle;\n",
       "    }\n",
       "\n",
       "    .dataframe tbody tr th {\n",
       "        vertical-align: top;\n",
       "    }\n",
       "\n",
       "    .dataframe thead th {\n",
       "        text-align: right;\n",
       "    }\n",
       "</style>\n",
       "<table border=\"1\" class=\"dataframe\">\n",
       "  <thead>\n",
       "    <tr style=\"text-align: right;\">\n",
       "      <th></th>\n",
       "      <th>text</th>\n",
       "    </tr>\n",
       "  </thead>\n",
       "  <tbody>\n",
       "    <tr>\n",
       "      <th>0</th>\n",
       "      <td>CATALOG 2024-2025 Northern Virginia Community ...</td>\n",
       "    </tr>\n",
       "    <tr>\n",
       "      <th>1</th>\n",
       "      <td>As if that weren’t enough, NOVA offers the mos...</td>\n",
       "    </tr>\n",
       "    <tr>\n",
       "      <th>2</th>\n",
       "      <td>For other information about the College, pleas...</td>\n",
       "    </tr>\n",
       "    <tr>\n",
       "      <th>3</th>\n",
       "      <td>Student Affairs Academic Policies and Informat...</td>\n",
       "    </tr>\n",
       "    <tr>\n",
       "      <th>4</th>\n",
       "      <td>Auditing a Course .. Tuition Military Benefits...</td>\n",
       "    </tr>\n",
       "  </tbody>\n",
       "</table>\n",
       "</div>"
      ],
      "text/plain": [
       "                                                text\n",
       "0  CATALOG 2024-2025 Northern Virginia Community ...\n",
       "1  As if that weren’t enough, NOVA offers the mos...\n",
       "2  For other information about the College, pleas...\n",
       "3  Student Affairs Academic Policies and Informat...\n",
       "4  Auditing a Course .. Tuition Military Benefits..."
      ]
     },
     "execution_count": 9,
     "metadata": {},
     "output_type": "execute_result"
    }
   ],
   "source": [
    "embeddings_df = pd.DataFrame(chunk_list, columns=[\"text\"])\n",
    "print(embeddings_df.shape)\n",
    "embeddings_df.head()"
   ]
  },
  {
   "cell_type": "code",
   "execution_count": 10,
   "metadata": {},
   "outputs": [
    {
     "name": "stderr",
     "output_type": "stream",
     "text": [
      "/Users/polydeltaintern/anaconda3/envs/simple-nova-rag/lib/python3.12/site-packages/sentence_transformers/SentenceTransformer.py:174: FutureWarning: The `use_auth_token` argument is deprecated and will be removed in v3 of SentenceTransformers.\n",
      "  warnings.warn(\n"
     ]
    }
   ],
   "source": [
    "model = SentenceTransformer(\"BAAI/bge-base-en-v1.5\", use_auth_token=HF_API_TOKEN)\n",
    "\n",
    "text_column = \"text\"\n",
    "embeddings_column = \"embedding\"\n",
    "embeddings_df[embeddings_column] = embeddings_df[text_column].apply(lambda x: model.encode(str(x)))\n"
   ]
  },
  {
   "cell_type": "code",
   "execution_count": 12,
   "metadata": {},
   "outputs": [
    {
     "name": "stdout",
     "output_type": "stream",
     "text": [
      "1036\n",
      "(1036, 2)\n",
      "<class 'numpy.ndarray'>\n"
     ]
    },
    {
     "data": {
      "text/html": [
       "<div>\n",
       "<style scoped>\n",
       "    .dataframe tbody tr th:only-of-type {\n",
       "        vertical-align: middle;\n",
       "    }\n",
       "\n",
       "    .dataframe tbody tr th {\n",
       "        vertical-align: top;\n",
       "    }\n",
       "\n",
       "    .dataframe thead th {\n",
       "        text-align: right;\n",
       "    }\n",
       "</style>\n",
       "<table border=\"1\" class=\"dataframe\">\n",
       "  <thead>\n",
       "    <tr style=\"text-align: right;\">\n",
       "      <th></th>\n",
       "      <th>text</th>\n",
       "      <th>embedding</th>\n",
       "    </tr>\n",
       "  </thead>\n",
       "  <tbody>\n",
       "    <tr>\n",
       "      <th>0</th>\n",
       "      <td>CATALOG 2024-2025 Northern Virginia Community ...</td>\n",
       "      <td>[-0.00161347, -0.037952054, 0.04580193, -0.052...</td>\n",
       "    </tr>\n",
       "    <tr>\n",
       "      <th>1</th>\n",
       "      <td>As if that weren’t enough, NOVA offers the mos...</td>\n",
       "      <td>[-0.002499899, -0.0006054201, 0.009863339, -0....</td>\n",
       "    </tr>\n",
       "    <tr>\n",
       "      <th>2</th>\n",
       "      <td>For other information about the College, pleas...</td>\n",
       "      <td>[0.013434716, -0.013141983, -0.012691294, -0.0...</td>\n",
       "    </tr>\n",
       "    <tr>\n",
       "      <th>3</th>\n",
       "      <td>Student Affairs Academic Policies and Informat...</td>\n",
       "      <td>[-0.010771758, 0.004085607, 0.0019284533, -0.0...</td>\n",
       "    </tr>\n",
       "    <tr>\n",
       "      <th>4</th>\n",
       "      <td>Auditing a Course .. Tuition Military Benefits...</td>\n",
       "      <td>[0.016198536, 0.0070315483, 0.021127488, -0.01...</td>\n",
       "    </tr>\n",
       "  </tbody>\n",
       "</table>\n",
       "</div>"
      ],
      "text/plain": [
       "                                                text  \\\n",
       "0  CATALOG 2024-2025 Northern Virginia Community ...   \n",
       "1  As if that weren’t enough, NOVA offers the mos...   \n",
       "2  For other information about the College, pleas...   \n",
       "3  Student Affairs Academic Policies and Informat...   \n",
       "4  Auditing a Course .. Tuition Military Benefits...   \n",
       "\n",
       "                                           embedding  \n",
       "0  [-0.00161347, -0.037952054, 0.04580193, -0.052...  \n",
       "1  [-0.002499899, -0.0006054201, 0.009863339, -0....  \n",
       "2  [0.013434716, -0.013141983, -0.012691294, -0.0...  \n",
       "3  [-0.010771758, 0.004085607, 0.0019284533, -0.0...  \n",
       "4  [0.016198536, 0.0070315483, 0.021127488, -0.01...  "
      ]
     },
     "execution_count": 12,
     "metadata": {},
     "output_type": "execute_result"
    }
   ],
   "source": [
    "print(len(embeddings_df[embeddings_column]))\n",
    "print(embeddings_df.shape)\n",
    "print(type(embeddings_df[\"embedding\"][7]))\n",
    "embeddings_df.head()"
   ]
  },
  {
   "cell_type": "code",
   "execution_count": 13,
   "metadata": {},
   "outputs": [
    {
     "name": "stdout",
     "output_type": "stream",
     "text": [
      "<class 'numpy.ndarray'>\n"
     ]
    }
   ],
   "source": [
    "print(type(embeddings_df[\"embedding\"][0]))"
   ]
  },
  {
   "cell_type": "code",
   "execution_count": 17,
   "metadata": {},
   "outputs": [
    {
     "name": "stdout",
     "output_type": "stream",
     "text": [
      "1036\n",
      "<class 'dict'>\n",
      "{'id': '1', 'values': [-0.00161347, -0.037952054, 0.04580193, -0.05225228, 0.039485287, -0.006678248, 0.00736231, 0.06261571, -0.039659493, -0.026740775, -0.036298018, 0.008714986, -0.022118917, 0.038413297, 0.022951512, 0.033640634, 0.0529506, 0.027183581, 0.02435537, -0.005742648, -0.020246264, 0.0065986603, 0.0226201, 0.046977174, -0.013240958, -0.00217751, 0.017805906, -0.0073615215, -0.03742422, -0.0050477595, 0.05877147, -0.0010648514, -0.04215343, 0.010222742, 0.017675094, -0.038400218, 0.07843923, 0.003349304, 0.034764722, -0.01787049, -0.023844741, -0.07618803, -0.02680266, -0.020013593, -0.0280217, -0.0035964646, -0.012996028, -0.031305477, -0.011551301, -0.019599352, -0.019417431, -0.008988467, 0.0008413923, 0.01612431, 0.00088619476, 0.005707287, 0.040240698, -0.054153133, -0.0040453873, -0.07980543, 0.026279237, 0.06681166, -0.0525882, 0.015116036, -0.035686918, -0.008262288, 0.044522613, 0.06121282, -0.027066367, -0.058665067, -0.028438268, 0.015274704, 0.03658692, -0.020306917, -0.018604476, -0.0320977, -0.055513535, -0.023019064, 0.052719, -0.037127946, -0.008520511, 0.009200504, 0.0065798545, 0.02506946, -0.04410173, -0.030186022, -0.02580452, 0.044744935, -0.010220578, 0.040763177, -0.012733378, -0.010569377, 0.037886888, 0.019262822, 0.03317893, 0.033956554, 0.05653638, -0.03318631, 0.007059828, -0.01911637, -0.04430422, 0.011569252, -0.013824009, -0.014121134, -0.04355179, -0.011249948, 0.019857839, -0.030328743, -0.0014562182, -0.024212938, -0.0637815, 0.016706184, 0.006836905, -0.013867729, -0.029501077, 0.031873435, 0.033474635, -0.023474734, -0.0058932393, 0.003512391, -0.018047383, 0.012910151, -0.014770895, 0.010388069, 0.015767328, 0.050212175, -0.030605273, -0.0015135071, -0.02259434, -0.08914927, 0.03153726, 0.032450166, 0.04641827, 0.096853286, 0.061553355, 0.028559161, -0.048681505, 0.018966079, 0.0114541175, -0.03060086, 0.009428848, 0.004941586, 0.01317685, 0.033111405, 0.05222943, -0.0011452702, 0.018364849, -0.019863382, -0.012540415, -0.035532854, -0.011402874, 0.05291615, 0.014146649, -0.052418463, -0.041972727, 0.053085215, 0.0027294704, 0.076287866, -0.028164722, -0.01738783, 0.058936816, -0.031897992, 0.013325434, 0.008681281, -0.0027946166, 0.029990917, 0.018275423, -0.002218418, -0.011413466, 0.0005529535, -0.04252646, -0.029865533, 0.020291705, -0.06354757, -0.014784716, 0.014682353, 0.055151362, 0.015233224, 0.05313227, 0.00037031682, -0.058863033, 0.049412195, -0.030058403, 0.0042761886, 0.028810509, -0.031406976, 0.045181554, 0.048769966, 0.005172423, 0.015823478, 0.02527403, -0.031112565, 0.010772276, 0.035334274, 0.024584055, -0.020238696, 0.003769714, 0.07036498, -0.029753333, 0.015919806, 0.03839838, 0.05097663, 0.008621034, -0.061507, -0.038983036, 0.028518295, -0.0141324615, 0.033311706, 0.0030645046, 0.0081409, 0.01687487, -0.03255784, 0.03450473, 0.023273159, 0.041904606, 0.0015251816, 0.015343853, 0.013522021, -0.0142679475, -0.028989982, 0.055897493, -0.03819939, 0.0046943193, -0.012784561, -0.007710104, 0.04154343, 0.04850167, -0.06546133, 0.021716667, -0.007684906, 0.0681512, 0.026250824, -0.021071212, 0.025318434, 0.01856054, -0.030387674, 0.015923522, -0.026735218, 0.030586433, -0.027667694, -0.024719067, 0.06347443, 0.011853161, 0.044954162, -0.019917024, 0.008085113, 0.0029545873, 0.015897445, 0.026235837, 0.010485819, 0.010822404, -0.029332701, 0.007425577, 0.022086216, 0.016107846, -0.03934815, -0.035198927, -0.0040015588, 0.05638782, 0.007216759, 0.045666654, 0.016702024, -0.023590809, 0.016140882, -0.051519852, -0.06870724, -0.045923505, -0.01726082, 0.0113448035, -0.0078095873, -0.014874281, 0.004175181, 0.048029646, -0.06096573, -0.008190119, 0.0054889848, 0.02649958, 0.017883996, -0.03719015, -0.039544087, -0.023479035, 0.01938878, -0.03292583, -0.046687283, 0.031488117, -0.0347515, -0.012970523, -0.047911853, 0.014040195, 0.028218286, 0.0036088498, 0.03510199, 0.032893274, 0.035472192, 0.050575234, -0.01952792, 0.028645435, 0.0052788355, 0.030804746, 0.038876355, -0.019195156, 0.03663473, 0.0020531197, 0.016492061, -0.0015441037, -0.021268269, 0.05617192, -0.022928882, -0.2426475, 0.019493423, 0.012850062, -0.004469525, -0.005650246, -0.07713854, 0.06373769, -0.012314959, -0.0413925, 0.045157865, -0.022221152, 0.030120073, 0.005109052, 0.055055626, 0.012290591, 0.051203776, -0.0115440115, -0.039974187, -0.07660396, 0.027913772, -0.038934674, -0.036828987, -0.059432544, 0.061037403, 0.019785611, 0.009967515, -7.315443e-05, -0.013490788, -0.0120513905, -0.001271869, -0.0039662695, 0.017902918, 0.022480834, 0.028857838, -0.006231755, -0.026208252, 0.013071115, -0.03317371, -0.010307017, 0.00488229, 0.00041216845, -0.03357905, -0.037612285, -0.006479681, -0.0017899914, 0.035081238, 0.0004925611, -0.0006079219, 0.004509864, 0.038129356, -0.05413521, -0.03258455, -0.033396725, 0.037851524, -0.03801852, -0.032205954, -0.030136295, 0.055594444, -0.03693767, 0.034168042, 0.004570818, -0.025883362, -0.0959122, -0.053602803, -0.037396237, -0.06358106, -0.080786586, 0.014795378, 0.061218135, 0.009299396, -0.020823713, 0.013197906, -0.049107462, -0.07683307, 0.007140966, -0.025755344, -0.014552026, 0.021570861, -0.0437354, 0.031180298, -0.006370911, -0.008862432, 0.04197904, 0.05931027, 0.007202329, -0.021441365, 0.053580042, 0.058313593, -0.041301128, -0.037503053, 0.056903083, -0.017570741, 0.011796854, -0.049436033, 0.053185504, 0.0248934, -0.011093294, 0.020041894, -0.008800524, -0.014050863, 0.06681807, -0.067828745, -0.045982607, -0.07926583, -0.023167307, -0.0038961256, -0.00965406, -0.0042549884, 0.06418628, 0.007853521, 0.0077597373, -0.03325621, -0.025565488, -0.003644462, -0.04868583, -0.046267476, 0.00429806, 0.061306354, -0.08317934, -0.00846152, -0.007985989, 0.06331555, 0.0037606661, -0.0016481859, -0.041353278, -0.005258128, -0.03295096, 0.07338846, -0.07975721, -0.008396173, -0.047797196, -0.025934573, 0.020024331, -0.01484939, -0.0021210979, -0.012763374, 0.018924758, -0.022324992, 0.007360918, -0.007975809, -0.021032775, 0.051395703, -0.034451224, 0.06392296, 0.018262897, 0.015923359, -0.0047738454, 0.039679524, -0.04706064, -0.016912421, 0.02810725, -0.103036255, 0.0011957581, -0.0025545186, -0.0026477037, 0.009676428, 0.0046202005, -0.007145623, 0.010600555, -0.004802196, -0.030823844, -0.01988959, 0.004321432, -0.043614976, -0.0019895814, 0.11265168, -0.03120918, -0.008565424, -0.0017331304, 0.049464453, 0.035237752, -0.005741472, -0.02063128, -0.017750362, -0.017128333, 0.043584637, -0.012845874, 0.015825251, -0.020020371, 0.028449595, 0.003369261, -0.02876224, 0.029323796, -0.019685859, 0.040064566, -0.0155091975, -0.006762142, -0.012590992, -0.0282699, 0.021119393, 0.01961502, -0.023713747, -0.03342693, -0.02029378, -0.017067403, -0.061952997, 0.009369639, 0.060292415, -0.02328547, 0.045588348, -0.036427267, 0.06642095, -0.045624938, 0.002759391, -0.030569328, -0.051451378, 0.068500385, -0.053135052, -0.014201246, -0.03536784, -0.02207494, -0.0275224, -0.03530706, 0.013268939, -0.04111443, -0.011585022, -0.060302835, -0.042264126, 0.02657612, 0.027391274, 0.0082682725, 0.015463394, 0.0292318, -0.040614977, -0.031101344, -0.030578373, 0.037186973, 0.020570043, 0.009398603, -0.045913033, 0.022563815, -0.08340639, 0.011175868, 0.010401978, 0.023586035, 0.020455832, -0.00813752, -0.01918525, 0.0093661975, 0.035939332, -0.046271164, -0.022597523, -0.0912772, -0.0328744, -0.05436662, -0.012314237, 0.00087334187, 0.01930919, 0.009881029, 0.01396884, 0.008732701, -0.038572602, -0.0076914756, 0.0034985703, -0.0043290644, -0.011094263, -0.015092663, 0.03413328, -0.06808558, -0.025558362, 0.0159196, 0.0056046788, -0.06164747, 0.05325943, -0.015443401, 0.010029772, 0.03146912, 0.011734741, 0.02993089, -0.07210669, 0.022573367, -0.08291762, 0.01859383, 0.016739657, 0.09437591, 0.020318404, 0.022798348, -0.017449042, 0.09792865, -0.079176754, -0.029412705, 0.009411566, -0.07545635, -0.016944971, -0.0008078773, -0.0398622, 0.021745378, 0.0006287369, -0.04108212, 0.021179976, 0.00012533086, 0.040042434, 0.0122864675, 0.0102022, -0.0070412625, 0.028637411, 0.08212999, 0.008688039, 0.03621686, 0.02247604, -0.028841188, 0.059635285, 0.023761893, -0.009235816, 0.015868621, -0.013947752, -6.729449e-05, -0.0030581318, 0.002030617, 0.012537168, -0.036035486, -0.06258024, 0.063176826, 0.015702544, -0.0059004207, -0.028590688, 0.03418507, -0.049552985, 0.022946795, -0.032040168, 0.009695863, 0.003372262, 0.026422784, 0.033006962, 0.020886492, 0.035464037, -0.0572076, -0.005580106, -0.011395787, 0.058563206, -0.0009593212, 0.04208332, -0.002710434, 0.027122485, -0.027007546, -0.050164834, 0.0023661647, -0.045355886, -0.025986128, 0.00085557083, -0.013764564, 0.042861994, 0.07749027, 0.039723184, -0.0024658055, 0.008144815, -0.0095656235, 0.032753672, 0.0014363828, -0.008377146, -0.011850468, -0.026292937, 0.010013653, -0.011413036, -0.055540293, 0.032805827, -0.022310065, -0.022802575, -0.0710518, 0.0045759124, -0.025581485, 0.01832583, 0.10567586, -0.0024704367, 0.008847008, -0.013666215, 0.036725182, 0.05589519, -0.005545515, 0.032523353, -0.024555929, -0.03057349, -0.013956698, -0.007030077, 0.021183915, 0.058207154, -0.04390695, 0.009640772, -0.009993451, 0.016031254, 0.0017816449, 0.034621987, -0.014025411, -0.031942442, 0.054947574, -0.029501012, -0.009682168, 0.067043066, -0.02906063, -0.021396141, -0.017600242, 0.028130233, -0.019204395, 0.0874549, -0.038714617, -0.017142352, 0.0967547, 0.015179809, -0.007669991, 0.023597173, 0.056372494, -0.016631093, -0.01732241, 0.0020197127, -0.004186194, -0.01327263, 0.010477192, 0.029250577, -0.04972424, 0.00016412926, 0.012284751, 0.025032558, -0.050339296, 0.011125844, -0.0063933246, 0.019940369, 0.06798468, 0.026736837, -0.024967162, 0.017684568, -0.05520718, 0.003602707, 0.032089513, 0.05488378, -0.012853306, 0.07384799, 0.039264973, 0.018682463, -0.031624444, 0.04046412, -0.07652452, -0.007747435, -0.029225236, -0.01001616, -0.08240363, -0.021344837, -0.007632344, 0.028697468, -0.037467178, -0.050353736, -0.02505915, -0.02337177, 0.0066963746, 0.02279309, -0.017174723, 0.008685231, 0.013231461, -0.028929608, -0.024391307, 0.010365335, -0.01680098, -0.023821134, 0.021991763, -0.026604537, -0.0200063, -0.05048943, 0.0074369665, 0.05736193, 0.05904904, 0.04378934], 'metadata': {'text': 'CATALOG 2024-2025 Northern Virginia Community College Welcome to NOVA! Thank you for choosing NOVA! More than 70,000 students this year are discovering that NOVA has exactly what they’re looking for to meet their educational needs. The high quality of NOVA’s offerings is well known: + Our classes feature up-to-date technology and course content to prepare you for today’s competitive job market; + Wealso offer courses that will transfer to colleges all over Virginia and the nation. In fact, NOVA has guaranteed admission agreements with more than 40 colleges and universities for students who meet specific requirements. NOVA’s excellence is delivered by a devoted faculty who loves teaching and really cares about the success of every student, and a staff who works hard to make sure you have what you need to accomplish your goals. At NOVA, you’ll find students with diverse backgrounds and views who will enrich your educational experience. '}}\n"
     ]
    }
   ],
   "source": [
    "\n",
    "# List will hold all tuples that will be upserted into the pinecone vector db\n",
    "upsert_list = []\n",
    "# Iterates through rows of the dataframes and formats the tuples that are added to upsert_list\n",
    "for idx, entry in embeddings_df.iterrows():\n",
    "    # Formats and adds dicts into upsert_list\n",
    "    entry_dict = {\n",
    "        \"id\": f\"{idx + 1}\",\n",
    "        \"values\": list(entry[\"embedding\"]),\n",
    "        \"metadata\": {\"text\": entry[\"text\"]}\n",
    "    }\n",
    "    upsert_list.append(entry_dict)\n",
    "        \n",
    "print(len(upsert_list))\n",
    "print(type(upsert_list[0]))\n",
    "print(upsert_list[0])"
   ]
  },
  {
   "cell_type": "code",
   "execution_count": 18,
   "metadata": {},
   "outputs": [
    {
     "data": {
      "text/plain": [
       "{'dimension': 768,\n",
       " 'index_fullness': 0.0,\n",
       " 'namespaces': {'': {'vector_count': 0}},\n",
       " 'total_vector_count': 0}"
      ]
     },
     "execution_count": 18,
     "metadata": {},
     "output_type": "execute_result"
    }
   ],
   "source": [
    "# Connect to pinecone\n",
    "pc = Pinecone(api_key=PINECONE_API_KEY)\n",
    "host = \"https://basic-embeddings-m8sj7l5.svc.aped-4627-b74a.pinecone.io\"\n",
    "\n",
    "index = pc.Index(\"basic-embeddings\", host=host)\n",
    "index.describe_index_stats()\n",
    "\n",
    "#pc.create_index(\n",
    "#    name=\"basic-embeddings\",\n",
    "#    dimension=768, \n",
    "#    metric=\"cosine\", \n",
    "#    spec=ServerlessSpec(\n",
    "#        cloud=\"aws\",\n",
    "#        region=\"us-east-1\",\n",
    "#        \n",
    "#    ),\n",
    "#    deletion_protection=\"disabled\"\n",
    "#)"
   ]
  },
  {
   "cell_type": "code",
   "execution_count": 19,
   "metadata": {},
   "outputs": [],
   "source": [
    "# Seperates upsert list into chunks of at most 100\n",
    "lower_cut = 0\n",
    "upper_cut = 100\n",
    "# If this condition is true, there are tupels in upsert_list that have yet to be upserted into pinecone\n",
    "while lower_cut <= len(upsert_list):\n",
    "    # Upserts chunck of upser_list and prints upsert response\n",
    "    index.upsert(\n",
    "        vectors=upsert_list[lower_cut:upper_cut]\n",
    "        )\n",
    "\n",
    "    # Sets cuts to the index of next 100 tuples to be upserted\n",
    "    lower_cut += 100\n",
    "    upper_cut += 100\n",
    "    # Sleeps a random time to prevent flooding pinecone with requests\n",
    "    sleep_time = random.randrange(1, 5)\n",
    "    time.sleep(sleep_time)"
   ]
  },
  {
   "cell_type": "code",
   "execution_count": 21,
   "metadata": {},
   "outputs": [],
   "source": [
    "new_csv_path = \"text_embeddings.csv\"\n",
    "embeddings_df.to_csv(new_csv_path, index=False)"
   ]
  },
  {
   "cell_type": "code",
   "execution_count": null,
   "metadata": {},
   "outputs": [],
   "source": []
  }
 ],
 "metadata": {
  "kernelspec": {
   "display_name": "simple-nova-rag",
   "language": "python",
   "name": "python3"
  },
  "language_info": {
   "codemirror_mode": {
    "name": "ipython",
    "version": 3
   },
   "file_extension": ".py",
   "mimetype": "text/x-python",
   "name": "python",
   "nbconvert_exporter": "python",
   "pygments_lexer": "ipython3",
   "version": "3.12.5"
  }
 },
 "nbformat": 4,
 "nbformat_minor": 2
}
